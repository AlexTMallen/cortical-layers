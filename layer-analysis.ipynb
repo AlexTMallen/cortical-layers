{
 "cells": [
  {
   "cell_type": "code",
   "execution_count": 1,
   "id": "7fc75a92",
   "metadata": {},
   "outputs": [],
   "source": [
    "import numpy as np\n",
    "import pandas as pd\n",
    "import matplotlib.pyplot as plt\n",
    "\n",
    "from caveclient import CAVEclient"
   ]
  },
  {
   "cell_type": "code",
   "execution_count": 2,
   "id": "68eaa8e4",
   "metadata": {},
   "outputs": [],
   "source": [
    "bin_width = 0.05\n",
    "step_size = 0.005\n",
    "y_resolution = 4  # nm per voxel"
   ]
  },
  {
   "cell_type": "code",
   "execution_count": 3,
   "id": "66803c82",
   "metadata": {},
   "outputs": [],
   "source": [
    "labels = np.array([107000, 147000, 184000, 224000, 265000]) * y_resolution / 1_000_000  # manual labels"
   ]
  },
  {
   "cell_type": "markdown",
   "id": "9635142c",
   "metadata": {},
   "source": [
    "# Gather data"
   ]
  },
  {
   "cell_type": "code",
   "execution_count": 4,
   "id": "b20ea7cc",
   "metadata": {},
   "outputs": [],
   "source": [
    "datastack_name = \"minnie65_phase3_v1\"\n",
    "client = CAVEclient(datastack_name)"
   ]
  },
  {
   "cell_type": "code",
   "execution_count": 5,
   "id": "68540d46",
   "metadata": {},
   "outputs": [],
   "source": [
    "nuclei = client.materialize.query_table(\"nucleus_detection_v0\")"
   ]
  },
  {
   "cell_type": "code",
   "execution_count": 6,
   "id": "67258beb",
   "metadata": {},
   "outputs": [],
   "source": [
    "all_cells = client.materialize.query_table(\"allen_soma_coarse_cell_class_model_v1\")\n",
    "all_cells[\"num_soma\"] = all_cells.groupby(\"pt_root_id\").transform(\"count\")[\"valid\"]\n",
    "cells_by_root = all_cells.copy()\n",
    "cells_by_root.index = cells_by_root.pt_root_id"
   ]
  },
  {
   "cell_type": "code",
   "execution_count": 7,
   "id": "e92b7bed",
   "metadata": {},
   "outputs": [],
   "source": [
    "valid_ids = set(all_cells.query(\"num_soma == 1\").pt_root_id)"
   ]
  },
  {
   "cell_type": "code",
   "execution_count": 8,
   "id": "bb10fc73",
   "metadata": {},
   "outputs": [
    {
     "data": {
      "text/plain": [
       "Index(['index', 'nucleus_area', 'nucleus_area_to_volume',\n",
       "       'nucleus_center_mass_nm', 'nucleus_fold_area', 'nucleus_fract_fold',\n",
       "       'nucleus_id', 'nucleus_volume', 'cleft_segid', 'size', 'centroid_x',\n",
       "       'centroid_y', 'centroid_z', 'yr_um_translated', 'predict',\n",
       "       'is_watertight', 'soma_center_mass', 'soma_volume', 'soma_area',\n",
       "       'soma_area_to_volume', 'num_processes', 'avg_sdf', 'orients', 'vectors',\n",
       "       'n_soma_syn', 'soma_syn_density', 'nuc_id', 'seg_id', 'soma_y',\n",
       "       'soma_x', 'soma_z', 'xr', 'yr', 'nucleus_to_soma', 'sum_proc_sdf',\n",
       "       'cell_type_pred_num', 'cell_type_pred', 'umapx', 'umapy', 'visible',\n",
       "       'outline_color', 'outline_width', 'max_sdf'],\n",
       "      dtype='object')"
      ]
     },
     "execution_count": 8,
     "metadata": {},
     "output_type": "execute_result"
    }
   ],
   "source": [
    "soma_features = pd.read_pickle(\"Minnie_soma_nuc_feature_model_83_1.pkl\")\n",
    "\n",
    "nuc_to_root = client.materialize.query_table(\"nucleus_neuron_svm\")\n",
    "\n",
    "nuc_to_root.index = nuc_to_root.id\n",
    "\n",
    "soma_features[\"seg_id\"] = [nuc_to_root.loc[n].pt_root_id for n in soma_features.nuc_id]\n",
    "soma_features.index = soma_features.seg_id\n",
    "soma_features.columns  \n",
    "# size is equal to nucleus volume\n",
    "# soma area and nucleus area closely track their respective volumes\n",
    "# avg sdf is a list of the 'diameters' of processes (e.g. dendrites) that leave each cell body"
   ]
  },
  {
   "cell_type": "code",
   "execution_count": 9,
   "id": "b561f394",
   "metadata": {},
   "outputs": [],
   "source": [
    "soma_features_root_ids = set(soma_features.seg_id)"
   ]
  },
  {
   "cell_type": "code",
   "execution_count": 10,
   "id": "a6462599",
   "metadata": {},
   "outputs": [],
   "source": [
    "features = [\"soma_volume\", \"n_soma_syn\", \"nucleus_volume\", \"nucleus_fract_fold\", \"sum_proc_sdf\"]"
   ]
  },
  {
   "cell_type": "code",
   "execution_count": 11,
   "id": "afd9b318",
   "metadata": {},
   "outputs": [
    {
     "name": "stderr",
     "output_type": "stream",
     "text": [
      "C:\\Users\\ATMal\\miniconda3\\envs\\ofs\\lib\\site-packages\\ipykernel_launcher.py:16: SettingWithCopyWarning: \n",
      "A value is trying to be set on a copy of a slice from a DataFrame.\n",
      "Try using .loc[row_indexer,col_indexer] = value instead\n",
      "\n",
      "See the caveats in the documentation: https://pandas.pydata.org/pandas-docs/stable/user_guide/indexing.html#returning-a-view-versus-a-copy\n",
      "  app.launch_new_instance()\n",
      "C:\\Users\\ATMal\\miniconda3\\envs\\ofs\\lib\\site-packages\\ipykernel_launcher.py:16: SettingWithCopyWarning: \n",
      "A value is trying to be set on a copy of a slice from a DataFrame.\n",
      "Try using .loc[row_indexer,col_indexer] = value instead\n",
      "\n",
      "See the caveats in the documentation: https://pandas.pydata.org/pandas-docs/stable/user_guide/indexing.html#returning-a-view-versus-a-copy\n",
      "  app.launch_new_instance()\n",
      "C:\\Users\\ATMal\\miniconda3\\envs\\ofs\\lib\\site-packages\\ipykernel_launcher.py:16: SettingWithCopyWarning: \n",
      "A value is trying to be set on a copy of a slice from a DataFrame.\n",
      "Try using .loc[row_indexer,col_indexer] = value instead\n",
      "\n",
      "See the caveats in the documentation: https://pandas.pydata.org/pandas-docs/stable/user_guide/indexing.html#returning-a-view-versus-a-copy\n",
      "  app.launch_new_instance()\n",
      "C:\\Users\\ATMal\\miniconda3\\envs\\ofs\\lib\\site-packages\\ipykernel_launcher.py:16: SettingWithCopyWarning: \n",
      "A value is trying to be set on a copy of a slice from a DataFrame.\n",
      "Try using .loc[row_indexer,col_indexer] = value instead\n",
      "\n",
      "See the caveats in the documentation: https://pandas.pydata.org/pandas-docs/stable/user_guide/indexing.html#returning-a-view-versus-a-copy\n",
      "  app.launch_new_instance()\n",
      "C:\\Users\\ATMal\\miniconda3\\envs\\ofs\\lib\\site-packages\\ipykernel_launcher.py:16: SettingWithCopyWarning: \n",
      "A value is trying to be set on a copy of a slice from a DataFrame.\n",
      "Try using .loc[row_indexer,col_indexer] = value instead\n",
      "\n",
      "See the caveats in the documentation: https://pandas.pydata.org/pandas-docs/stable/user_guide/indexing.html#returning-a-view-versus-a-copy\n",
      "  app.launch_new_instance()\n"
     ]
    }
   ],
   "source": [
    "auto_cells = client.materialize.query_table(\"allen_soma_coarse_cell_class_model_v1\")\n",
    "\n",
    "# bounding box of the proofread column we're interested in\n",
    "bbox = np.array([[ 672444., 200000., 805320.], [ 772444., 1294000., 905320.]])  # nm\n",
    "resolution = np.array([4., 4., 40.])\n",
    "bbox /= resolution\n",
    "def in_bbox(p):\n",
    "    \"\"\" returns whether point is between the two points given by bbox\"\"\"\n",
    "    lower, upper = bbox\n",
    "    return lower[0] <= p[0] < upper[0] and lower[1] <= p[1] < upper[1] and lower[2] <= p[2] < upper[2]\n",
    "\n",
    "auto_col_cells = auto_cells[auto_cells.pt_position.apply(in_bbox)]\n",
    "# add soma features columns to auto_col_cells\n",
    "for feature in features:\n",
    "    auto_col_cells[feature] = [(soma_features.loc[r][feature] if r in soma_features_root_ids and type(soma_features.loc[r][feature]) is not pd.Series else np.nan)\n",
    "                           for r in auto_col_cells.pt_root_id]\n",
    "auto_exc_cells = auto_col_cells.query(\"classification_system == 'aibs_coarse_excitatory'\")\n",
    "auto_inh_cells = auto_col_cells.query(\"classification_system == 'aibs_coarse_inhibitory'\")"
   ]
  },
  {
   "cell_type": "code",
   "execution_count": 15,
   "id": "da3f7efa",
   "metadata": {},
   "outputs": [],
   "source": [
    "cell_types = [\"exc\", \"BC\", \"BPC\", \"MC\", \"NGC\"]\n",
    "ctype_to_layer = {\"23P\": \"23\",\n",
    "                 \"4P\": \"4\",\n",
    "                 \"5P_PT\": \"5\",\n",
    "                 \"5P_IT\": \"5\",\n",
    "                 \"5P_NP\": \"5\",\n",
    "                 \"6P\": \"6\",\n",
    "                 \"6CT\": \"6\",\n",
    "                 \"6IT\": \"6\"}"
   ]
  },
  {
   "cell_type": "markdown",
   "id": "62e7da54",
   "metadata": {},
   "source": [
    "## Synapses in the center of the column"
   ]
  },
  {
   "cell_type": "code",
   "execution_count": 12,
   "id": "2b68bcb7",
   "metadata": {},
   "outputs": [
    {
     "data": {
      "text/plain": [
       "(array([[180611.,  50000.,  21383.],\n",
       "        [183111., 323500.,  21633.]]),\n",
       " array([[168111.,  50000.,  20133.],\n",
       "        [193111., 323500.,  22633.]]))"
      ]
     },
     "execution_count": 12,
     "metadata": {},
     "output_type": "execute_result"
    }
   ],
   "source": [
    "syn_bbox = bbox.copy()\n",
    "sample_width = 10_000  # nm square cross section\n",
    "x_vx_width = sample_width / resolution[0]\n",
    "z_vx_width = sample_width / resolution[2]\n",
    "syn_bbox[0, 0] = bbox[0, 0] + (bbox[1, 0] - bbox[0, 0]) / 2\n",
    "syn_bbox[1, 0] = syn_bbox[0, 0] + x_vx_width\n",
    "syn_bbox[0, 2] = bbox[0, 2] + (bbox[1, 2] - bbox[0, 2]) / 2\n",
    "syn_bbox[1, 2] = syn_bbox[0, 2] + z_vx_width\n",
    "syn_bbox, bbox"
   ]
  },
  {
   "cell_type": "code",
   "execution_count": 13,
   "id": "4690d18c",
   "metadata": {},
   "outputs": [],
   "source": [
    "synapses = client.materialize.synapse_query(bounding_box=syn_bbox, bounding_box_column=\"ctr_pt_position\", split_positions=True)"
   ]
  },
  {
   "cell_type": "code",
   "execution_count": 14,
   "id": "293912aa",
   "metadata": {},
   "outputs": [
    {
     "ename": "NameError",
     "evalue": "name 'cell_types' is not defined",
     "output_type": "error",
     "traceback": [
      "\u001b[1;31m---------------------------------------------------------------------------\u001b[0m",
      "\u001b[1;31mNameError\u001b[0m                                 Traceback (most recent call last)",
      "\u001b[1;32m<ipython-input-14-04c145a9b728>\u001b[0m in \u001b[0;36m<module>\u001b[1;34m\u001b[0m\n\u001b[0;32m      2\u001b[0m \u001b[0msynapses\u001b[0m\u001b[1;33m[\u001b[0m\u001b[1;34m\"post_type\"\u001b[0m\u001b[1;33m]\u001b[0m \u001b[1;33m=\u001b[0m \u001b[1;33m[\u001b[0m\u001b[1;33m(\u001b[0m\u001b[0mcells_by_root\u001b[0m\u001b[1;33m.\u001b[0m\u001b[0mloc\u001b[0m\u001b[1;33m[\u001b[0m\u001b[0mroot\u001b[0m\u001b[1;33m]\u001b[0m\u001b[1;33m.\u001b[0m\u001b[0mcell_type\u001b[0m \u001b[1;32mif\u001b[0m \u001b[0mroot\u001b[0m \u001b[1;32min\u001b[0m \u001b[0mvalid_ids\u001b[0m \u001b[1;32melse\u001b[0m \u001b[1;34m\"N/A\"\u001b[0m\u001b[1;33m)\u001b[0m \u001b[1;32mfor\u001b[0m \u001b[0mroot\u001b[0m \u001b[1;32min\u001b[0m \u001b[0msynapses\u001b[0m\u001b[1;33m.\u001b[0m\u001b[0mpost_pt_root_id\u001b[0m\u001b[1;33m]\u001b[0m\u001b[1;33m\u001b[0m\u001b[0m\n\u001b[0;32m      3\u001b[0m \u001b[0msyn_depths\u001b[0m \u001b[1;33m=\u001b[0m \u001b[0msynapses\u001b[0m\u001b[1;33m.\u001b[0m\u001b[0mctr_pt_position_y\u001b[0m\u001b[1;33m.\u001b[0m\u001b[0mvalues\u001b[0m \u001b[1;33m*\u001b[0m \u001b[0my_resolution\u001b[0m \u001b[1;33m/\u001b[0m \u001b[1;36m1_000_000\u001b[0m\u001b[1;33m\u001b[0m\u001b[0m\n\u001b[1;32m----> 4\u001b[1;33m \u001b[0msyn_depths_by_pre\u001b[0m \u001b[1;33m=\u001b[0m \u001b[0mdict\u001b[0m\u001b[1;33m(\u001b[0m\u001b[1;33m(\u001b[0m\u001b[0mt\u001b[0m\u001b[1;33m,\u001b[0m \u001b[1;33m[\u001b[0m\u001b[1;33m]\u001b[0m\u001b[1;33m)\u001b[0m \u001b[1;32mfor\u001b[0m \u001b[0mt\u001b[0m \u001b[1;32min\u001b[0m \u001b[0mcell_types\u001b[0m\u001b[1;33m)\u001b[0m\u001b[1;33m\u001b[0m\u001b[0m\n\u001b[0m\u001b[0;32m      5\u001b[0m \u001b[0msyn_depths_by_post\u001b[0m \u001b[1;33m=\u001b[0m \u001b[0mdict\u001b[0m\u001b[1;33m(\u001b[0m\u001b[1;33m(\u001b[0m\u001b[0mt\u001b[0m\u001b[1;33m,\u001b[0m \u001b[1;33m[\u001b[0m\u001b[1;33m]\u001b[0m\u001b[1;33m)\u001b[0m \u001b[1;32mfor\u001b[0m \u001b[0mt\u001b[0m \u001b[1;32min\u001b[0m \u001b[0mcell_types\u001b[0m\u001b[1;33m)\u001b[0m\u001b[1;33m\u001b[0m\u001b[0m\n\u001b[0;32m      6\u001b[0m \u001b[1;32mfor\u001b[0m \u001b[0mi\u001b[0m \u001b[1;32min\u001b[0m \u001b[0msynapses\u001b[0m\u001b[1;33m.\u001b[0m\u001b[0mindex\u001b[0m\u001b[1;33m:\u001b[0m\u001b[1;33m\u001b[0m\u001b[0m\n",
      "\u001b[1;31mNameError\u001b[0m: name 'cell_types' is not defined"
     ]
    }
   ],
   "source": [
    "synapses[\"pre_type\"] = [(cells_by_root.loc[root].cell_type if root in valid_ids else \"N/A\") for root in synapses.pre_pt_root_id]\n",
    "synapses[\"post_type\"] = [(cells_by_root.loc[root].cell_type if root in valid_ids else \"N/A\") for root in synapses.post_pt_root_id]\n",
    "syn_depths = synapses.ctr_pt_position_y.values * y_resolution / 1_000_000\n",
    "syn_depths_by_pre = dict((t, []) for t in cell_types)\n",
    "syn_depths_by_post = dict((t, []) for t in cell_types)\n",
    "for i in synapses.index:\n",
    "    # pre\n",
    "    syn = synapses.loc[i]\n",
    "    if syn.pre_type in ctype_to_layer.keys():\n",
    "        syn_depths_by_pre[\"exc\"].append(syn.ctr_pt_position_y * y_resolution / 1_000_000)\n",
    "    elif syn.pre_type in syn_depths_by_pre.keys():\n",
    "        syn_depths_by_pre[syn.pre_type].append(syn.ctr_pt_position_y * y_resolution / 1_000_000)\n",
    "    \n",
    "    # post\n",
    "    if syn.post_type in ctype_to_layer.keys():\n",
    "        syn_depths_by_post[\"exc\"].append(syn.ctr_pt_position_y * y_resolution / 1_000_000)\n",
    "    elif syn.post_type in syn_depths_by_post.keys():\n",
    "        syn_depths_by_post[syn.post_type].append(syn.ctr_pt_position_y * y_resolution / 1_000_000)\n",
    "for t in syn_depths_by_pre:\n",
    "    syn_depths_by_pre[t] = np.array(syn_depths_by_pre[t])\n",
    "for t in syn_depths_by_post:\n",
    "    syn_depths_by_post[t] = np.array(syn_depths_by_post[t])\n",
    "\n",
    "synapses"
   ]
  },
  {
   "cell_type": "code",
   "execution_count": 16,
   "id": "da700acc",
   "metadata": {},
   "outputs": [],
   "source": [
    "# cross sectional area to be layered\n",
    "xarea = resolution[0] * resolution[2] * (bbox[1][0] - bbox[0][0]) * (bbox[1][2] - bbox[0][2]) / 1_000_000 ** 2"
   ]
  },
  {
   "cell_type": "code",
   "execution_count": 17,
   "id": "847aec3f",
   "metadata": {},
   "outputs": [
    {
     "data": {
      "text/plain": [
       "(0.358016, 1.086656)"
      ]
     },
     "execution_count": 17,
     "metadata": {},
     "output_type": "execute_result"
    }
   ],
   "source": [
    "# min is pia border (with L1) and max is white matter border (with L6)\n",
    "min_y = min(pt[1] * y_resolution / 1_000_000 for pt in auto_col_cells.pt_position)\n",
    "max_y = max(pt[1] * y_resolution / 1_000_000 for pt in auto_col_cells.pt_position)\n",
    "min_y, max_y"
   ]
  },
  {
   "cell_type": "markdown",
   "id": "a3bc560a",
   "metadata": {},
   "source": [
    "### Sort the dataframe of cells by depth to make getting features by depth way faster"
   ]
  },
  {
   "cell_type": "code",
   "execution_count": 18,
   "id": "cc3a6f47",
   "metadata": {},
   "outputs": [],
   "source": [
    "auto_col_cells = auto_col_cells.sort_values(axis=\"index\", by=\"pt_position\", key=lambda xs: pd.Series([x[1] for x in xs]))\n",
    "\n",
    "def get_cutoff_idx(df, y, prev_cutoff_idx, position_col=\"pt_position\"):\n",
    "    \"\"\"efficiently find the first index after prev_cutoff_idx where position[1] is greater than y\"\"\"\n",
    "    i = prev_cutoff_idx\n",
    "    if i >= len(df):\n",
    "        return i\n",
    "    while df.iloc[i][position_col][1] * y_resolution / 1_000_000 < y:\n",
    "        i += 1\n",
    "        if i >= len(df):\n",
    "            return i\n",
    "    return i  # new_cutoff_idx"
   ]
  },
  {
   "cell_type": "code",
   "execution_count": 19,
   "id": "8caef5bd",
   "metadata": {},
   "outputs": [],
   "source": [
    "exc_soma_densities = []\n",
    "inh_soma_densities = []\n",
    "synapse_densities = []\n",
    "# syn_densities_by_pre = dict((t, []) for t in syn_depths_by_pre.keys())\n",
    "# syn_densities_by_post = dict((t, []) for t in syn_depths_by_post.keys())\n",
    "p_type = dict((t, []) for t in [\"23\", \"4\", \"5\", \"6\"])\n",
    "p_inh_subclass = dict((t, []) for t in [\"BC\", \"BPC\", \"MC\", \"NGC\"])\n",
    "exc_soma_features_by_depth = dict((f, []) for f in features)\n",
    "inh_soma_features_by_depth = dict((f, []) for f in features)\n",
    "soma_features_by_depth = dict((f, []) for f in features)\n",
    "exc_soma_vol_std_by_depth = []\n",
    "soma_depths = []\n",
    "bin_centers = []\n",
    "\n",
    "depths = np.arange(min_y, max_y, step_size)\n",
    "bin_centers = depths + step_size // 2\n",
    "prev_cutoff_idx = 0\n",
    "for curr_y in depths:\n",
    "    # first index where pt_position[1] is greater than curr_y + bin_width \n",
    "    cutoff_idx = get_cutoff_idx(auto_col_cells, curr_y + bin_width, prev_cutoff_idx)\n",
    "    lower_cutoff_idx = get_cutoff_idx(auto_col_cells, curr_y, prev_cutoff_idx)\n",
    "    \n",
    "    current_cells = auto_col_cells.iloc[lower_cutoff_idx:cutoff_idx]\n",
    "    current_exc_cells = current_cells.query(\"classification_system == 'aibs_coarse_excitatory'\")\n",
    "    current_inh_cells = current_cells.query(\"classification_system == 'aibs_coarse_inhibitory'\")\n",
    "    \n",
    "    for f in features:\n",
    "        soma_features_by_depth[f].append(current_cells[f].mean())\n",
    "        exc_soma_features_by_depth[f].append(current_exc_cells[f].mean())\n",
    "        inh_soma_features_by_depth[f].append(current_inh_cells[f].mean())\n",
    "    exc_soma_vol_std_by_depth.append(current_exc_cells[\"soma_volume\"].std())\n",
    "    soma_depths.append(current_exc_cells[\"pt_position\"].mean()[1])\n",
    "                          \n",
    "    for t in p_type:\n",
    "        p_type[t].append(0)\n",
    "    for i in current_exc_cells.index:\n",
    "        if current_exc_cells.loc[i].cell_type != \"Unsure\":\n",
    "            p_type[ctype_to_layer[current_exc_cells.loc[i].cell_type]][-1] += 1 / len(current_exc_cells) if len(current_exc_cells) > 0 else np.nan\n",
    "    exc_soma_densities.append(len(current_exc_cells))\n",
    "    \n",
    "    inh_soma_densities.append(len(current_inh_cells))\n",
    "    for t in p_inh_subclass:\n",
    "        p_inh_subclass[t].append(0)\n",
    "    for i in current_inh_cells.index:\n",
    "        if current_inh_cells.loc[i].cell_type != \"Unsure\":\n",
    "            p_inh_subclass[current_inh_cells.loc[i].cell_type][-1] += 1 / len(current_inh_cells) if len(current_inh_cells) > 0 else np.nan\n",
    "            \n",
    "    # # this is still slow\n",
    "    # synapse_densities.append(sum((curr_y <= syn_depths) & (syn_depths < curr_y + bin_width)))\n",
    "    # for t in syn_densities_by_pre.keys():\n",
    "    #     syn_densities_by_pre[t].append(sum((curr_y <= syn_depths_by_pre[t]) & (syn_depths_by_pre[t] < curr_y + bin_width)))\n",
    "    # for t in syn_densities_by_post.keys():\n",
    "    #     syn_densities_by_post[t].append(sum((curr_y <= syn_depths_by_post[t]) & (syn_depths_by_post[t] < curr_y + bin_width)))\n",
    "    \n",
    "    prev_cutoff_idx = lower_cutoff_idx\n",
    "exc_soma_densities = np.array(exc_soma_densities, dtype=float) / (bin_width * xarea)  # per mm^3\n",
    "inh_soma_densities = np.array(inh_soma_densities, dtype=float) / (bin_width * xarea)\n",
    "# synapse_densities = np.array(synapse_densities, dtype=float) / (bin_width * xarea)\n",
    "for t in p_type:\n",
    "    p_type[t] = np.array(p_type[t])\n",
    "for t in p_inh_subclass:\n",
    "    p_inh_subclass[t] = np.array(p_inh_subclass[t])\n",
    "# for t in syn_densities_by_pre:\n",
    "#     syn_densities_by_pre[t] = np.array(syn_densities_by_pre[t]) / (bin_width * xarea)\n",
    "# for t in syn_depths_by_post:\n",
    "#     syn_densities_by_post[t] = np.array(syn_densities_by_post[t]) / (bin_width * xarea)"
   ]
  },
  {
   "cell_type": "code",
   "execution_count": 20,
   "id": "c3c37dfb",
   "metadata": {},
   "outputs": [],
   "source": [
    "def clean_nans(x, normalize=False):\n",
    "    \"\"\"linearly interpolates to fill in nans\n",
    "    normalizing subtracts mean and divides by std\n",
    "    \"\"\"\n",
    "    cleaned = np.array(x)\n",
    "    mask = np.isfinite(cleaned)\n",
    "    cleaned = np.interp(np.arange(len(cleaned)), np.arange(len(cleaned))[mask], cleaned[mask])\n",
    "    if normalize:\n",
    "        cleaned -= cleaned.mean()\n",
    "        cleaned /= cleaned.std()\n",
    "    return cleaned"
   ]
  },
  {
   "cell_type": "code",
   "execution_count": 21,
   "id": "fed7104d",
   "metadata": {},
   "outputs": [
    {
     "data": {
      "text/html": [
       "<div>\n",
       "<style scoped>\n",
       "    .dataframe tbody tr th:only-of-type {\n",
       "        vertical-align: middle;\n",
       "    }\n",
       "\n",
       "    .dataframe tbody tr th {\n",
       "        vertical-align: top;\n",
       "    }\n",
       "\n",
       "    .dataframe thead th {\n",
       "        text-align: right;\n",
       "    }\n",
       "</style>\n",
       "<table border=\"1\" class=\"dataframe\">\n",
       "  <thead>\n",
       "    <tr style=\"text-align: right;\">\n",
       "      <th></th>\n",
       "      <th>soma_volume</th>\n",
       "      <th>n_soma_syn</th>\n",
       "      <th>nucleus_volume</th>\n",
       "      <th>nucleus_fract_fold</th>\n",
       "      <th>sum_proc_sdf</th>\n",
       "      <th>soma_density</th>\n",
       "      <th>soma_vol_std</th>\n",
       "    </tr>\n",
       "  </thead>\n",
       "  <tbody>\n",
       "    <tr>\n",
       "      <th>0</th>\n",
       "      <td>-0.361149</td>\n",
       "      <td>1.056956</td>\n",
       "      <td>-0.482037</td>\n",
       "      <td>-1.307653</td>\n",
       "      <td>0.073811</td>\n",
       "      <td>-2.459284</td>\n",
       "      <td>-0.510483</td>\n",
       "    </tr>\n",
       "    <tr>\n",
       "      <th>1</th>\n",
       "      <td>0.072851</td>\n",
       "      <td>1.352864</td>\n",
       "      <td>0.024528</td>\n",
       "      <td>-1.119267</td>\n",
       "      <td>0.488860</td>\n",
       "      <td>-2.333443</td>\n",
       "      <td>-0.372161</td>\n",
       "    </tr>\n",
       "    <tr>\n",
       "      <th>2</th>\n",
       "      <td>-0.496472</td>\n",
       "      <td>1.149017</td>\n",
       "      <td>-0.671847</td>\n",
       "      <td>-0.777104</td>\n",
       "      <td>-0.160848</td>\n",
       "      <td>-2.239062</td>\n",
       "      <td>-0.200191</td>\n",
       "    </tr>\n",
       "    <tr>\n",
       "      <th>3</th>\n",
       "      <td>-0.561166</td>\n",
       "      <td>1.066820</td>\n",
       "      <td>-0.658463</td>\n",
       "      <td>-0.773483</td>\n",
       "      <td>-0.160015</td>\n",
       "      <td>-2.144682</td>\n",
       "      <td>-0.353769</td>\n",
       "    </tr>\n",
       "    <tr>\n",
       "      <th>4</th>\n",
       "      <td>-0.508450</td>\n",
       "      <td>1.066203</td>\n",
       "      <td>-0.562224</td>\n",
       "      <td>-0.787083</td>\n",
       "      <td>0.121552</td>\n",
       "      <td>-2.018841</td>\n",
       "      <td>-0.239253</td>\n",
       "    </tr>\n",
       "    <tr>\n",
       "      <th>...</th>\n",
       "      <td>...</td>\n",
       "      <td>...</td>\n",
       "      <td>...</td>\n",
       "      <td>...</td>\n",
       "      <td>...</td>\n",
       "      <td>...</td>\n",
       "      <td>...</td>\n",
       "    </tr>\n",
       "    <tr>\n",
       "      <th>141</th>\n",
       "      <td>0.513799</td>\n",
       "      <td>-1.936269</td>\n",
       "      <td>0.798473</td>\n",
       "      <td>0.064612</td>\n",
       "      <td>-0.453667</td>\n",
       "      <td>-2.050301</td>\n",
       "      <td>-0.416314</td>\n",
       "    </tr>\n",
       "    <tr>\n",
       "      <th>142</th>\n",
       "      <td>0.892940</td>\n",
       "      <td>-2.020489</td>\n",
       "      <td>0.647528</td>\n",
       "      <td>-1.164225</td>\n",
       "      <td>-0.009569</td>\n",
       "      <td>-2.333443</td>\n",
       "      <td>-0.119303</td>\n",
       "    </tr>\n",
       "    <tr>\n",
       "      <th>143</th>\n",
       "      <td>0.892940</td>\n",
       "      <td>-2.020489</td>\n",
       "      <td>0.647528</td>\n",
       "      <td>-1.164225</td>\n",
       "      <td>-0.009569</td>\n",
       "      <td>-2.490744</td>\n",
       "      <td>-0.119303</td>\n",
       "    </tr>\n",
       "    <tr>\n",
       "      <th>144</th>\n",
       "      <td>0.892940</td>\n",
       "      <td>-2.020489</td>\n",
       "      <td>0.647528</td>\n",
       "      <td>-1.164225</td>\n",
       "      <td>-0.009569</td>\n",
       "      <td>-2.490744</td>\n",
       "      <td>-0.119303</td>\n",
       "    </tr>\n",
       "    <tr>\n",
       "      <th>145</th>\n",
       "      <td>0.892940</td>\n",
       "      <td>-2.020489</td>\n",
       "      <td>0.647528</td>\n",
       "      <td>-1.164225</td>\n",
       "      <td>-0.009569</td>\n",
       "      <td>-2.490744</td>\n",
       "      <td>-0.119303</td>\n",
       "    </tr>\n",
       "  </tbody>\n",
       "</table>\n",
       "<p>146 rows × 7 columns</p>\n",
       "</div>"
      ],
      "text/plain": [
       "     soma_volume  n_soma_syn  nucleus_volume  nucleus_fract_fold  \\\n",
       "0      -0.361149    1.056956       -0.482037           -1.307653   \n",
       "1       0.072851    1.352864        0.024528           -1.119267   \n",
       "2      -0.496472    1.149017       -0.671847           -0.777104   \n",
       "3      -0.561166    1.066820       -0.658463           -0.773483   \n",
       "4      -0.508450    1.066203       -0.562224           -0.787083   \n",
       "..           ...         ...             ...                 ...   \n",
       "141     0.513799   -1.936269        0.798473            0.064612   \n",
       "142     0.892940   -2.020489        0.647528           -1.164225   \n",
       "143     0.892940   -2.020489        0.647528           -1.164225   \n",
       "144     0.892940   -2.020489        0.647528           -1.164225   \n",
       "145     0.892940   -2.020489        0.647528           -1.164225   \n",
       "\n",
       "     sum_proc_sdf  soma_density  soma_vol_std  \n",
       "0        0.073811     -2.459284     -0.510483  \n",
       "1        0.488860     -2.333443     -0.372161  \n",
       "2       -0.160848     -2.239062     -0.200191  \n",
       "3       -0.160015     -2.144682     -0.353769  \n",
       "4        0.121552     -2.018841     -0.239253  \n",
       "..            ...           ...           ...  \n",
       "141     -0.453667     -2.050301     -0.416314  \n",
       "142     -0.009569     -2.333443     -0.119303  \n",
       "143     -0.009569     -2.490744     -0.119303  \n",
       "144     -0.009569     -2.490744     -0.119303  \n",
       "145     -0.009569     -2.490744     -0.119303  \n",
       "\n",
       "[146 rows x 7 columns]"
      ]
     },
     "execution_count": 21,
     "metadata": {},
     "output_type": "execute_result"
    }
   ],
   "source": [
    "exc_features_df = pd.DataFrame(exc_soma_features_by_depth)\n",
    "exc_features_df[\"soma_density\"] = exc_soma_densities\n",
    "exc_features_df[\"soma_vol_std\"] = exc_soma_vol_std_by_depth\n",
    "for col in exc_features_df.columns:\n",
    "    exc_features_df[col] = clean_nans(exc_features_df[col], normalize=True)\n",
    "exc_features_df"
   ]
  },
  {
   "cell_type": "markdown",
   "id": "ecbea350",
   "metadata": {},
   "source": [
    "### PCA on the features to remove correlations"
   ]
  },
  {
   "cell_type": "code",
   "execution_count": 22,
   "id": "e769778f",
   "metadata": {},
   "outputs": [
    {
     "data": {
      "text/plain": [
       "(<matplotlib.image.AxesImage at 0x217afb6b898>,\n",
       " <matplotlib.colorbar.Colorbar at 0x217b01751d0>)"
      ]
     },
     "execution_count": 22,
     "metadata": {},
     "output_type": "execute_result"
    },
    {
     "data": {
      "image/png": "[encoded data removed]",
      "text/plain": [
       "<Figure size 432x288 with 2 Axes>"
      ]
     },
     "metadata": {
      "needs_background": "light"
     },
     "output_type": "display_data"
    }
   ],
   "source": [
    "X = exc_features_df.values.T\n",
    "Xc = X - np.mean(X, axis=1, keepdims=True)  # mean subtract data first\n",
    "cov = Xc @ Xc.T / (X.shape[0] - 1)  # covariance\n",
    "plt.imshow(cov), plt.colorbar()"
   ]
  },
  {
   "cell_type": "code",
   "execution_count": 23,
   "id": "271779cb",
   "metadata": {},
   "outputs": [],
   "source": [
    "variance, V = np.linalg.eig(cov)\n",
    "idxs = np.argsort(-variance)\n",
    "V = V[:, idxs]\n",
    "variance = variance[idxs]\n",
    "explained_variance = [sum(variance[:i+1]) / sum(variance) for i in range(len(variance))]"
   ]
  },
  {
   "cell_type": "code",
   "execution_count": 24,
   "id": "d72c1b4c",
   "metadata": {},
   "outputs": [
    {
     "data": {
      "text/plain": [
       "Text(0, 0.5, 'explained variance')"
      ]
     },
     "execution_count": 24,
     "metadata": {},
     "output_type": "execute_result"
    },
    {
     "data": {
      "image/png": "[encoded data removed]",
      "text/plain": [
       "<Figure size 432x288 with 1 Axes>"
      ]
     },
     "metadata": {
      "needs_background": "light"
     },
     "output_type": "display_data"
    }
   ],
   "source": [
    "plt.plot(explained_variance)\n",
    "plt.xlabel(\"num PCA modes\")\n",
    "plt.ylabel(\"explained variance\")"
   ]
  },
  {
   "cell_type": "markdown",
   "id": "f519c1fb",
   "metadata": {},
   "source": [
    "## Make sure I use this exact same V matrix (principal components) in practice so that the model.means_ initialization is valid"
   ]
  },
  {
   "cell_type": "code",
   "execution_count": 25,
   "id": "07275483",
   "metadata": {},
   "outputs": [
    {
     "data": {
      "text/plain": [
       "(7, 146)"
      ]
     },
     "execution_count": 25,
     "metadata": {},
     "output_type": "execute_result"
    }
   ],
   "source": [
    "# Yc is the projection of Xc onto the principal components \n",
    "Yc = V[:, :7].T @ Xc\n",
    "Yc.shape"
   ]
  },
  {
   "cell_type": "markdown",
   "id": "efee1180",
   "metadata": {},
   "source": [
    "## Plot!"
   ]
  },
  {
   "cell_type": "code",
   "execution_count": 26,
   "id": "e975a249",
   "metadata": {},
   "outputs": [],
   "source": [
    "colors = \"bgrcmyk\""
   ]
  },
  {
   "cell_type": "code",
   "execution_count": 48,
   "id": "23fdabfb",
   "metadata": {
    "scrolled": false
   },
   "outputs": [
    {
     "data": {
      "image/png": "[encoded data removed]",
      "text/plain": [
       "<Figure size 780x520 with 2 Axes>"
      ]
     },
     "metadata": {
      "needs_background": "light"
     },
     "output_type": "display_data"
    }
   ],
   "source": [
    "fig, ax = plt.subplots(1, 1, figsize=(6, 4), dpi=130)\n",
    "ax2 = ax.twinx()\n",
    "# ax.plot(bin_centers, inh_soma_densities, c=\"indigo\", label=\"inh soma density\")\n",
    "# ax2.plot(bin_centers, exc_soma_densities / np.nanmax(exc_soma_densities), c=\"lime\", label=\"exc soma density\")\n",
    "# ax2.plot(bin_centers, model_means[:, 0], c=\"lime\", linestyle=\"-.\", label=\"exc soma density model\")\n",
    "# ax2.fill_between(bin_centers, model_means[:, 0] - model_stds[:, 0], model_means[:, 0] + model_stds[:, 0], edgecolor=\"none\", facecolor=\"lime\", alpha=0.2)\n",
    "# ax2.plot(bin_centers, normalized_smooth_exc_densities, \":r\", label=\"exc soma density fit\")\n",
    "# ax.plot(bin_centers, smooth_exc_deriv * 5, \":r\", label=\"exc fit deriv\")\n",
    "# ax2.plot(bin_centers, exc_soma_vol_std_by_depth / np.nanmax(exc_soma_vol_std_by_depth), color=\"c\", linestyle=\":\", label=\"exc soma_volume std\")\n",
    "# ax2.plot(bin_centers, model_means[:, 1], c=\"c\", linestyle=\"-.\", label=\"exc soma density model\")\n",
    "# ax2.fill_between(bin_centers, model_means[:, 1] - model_stds[:, 1], model_means[:, 1] + model_stds[:, 1], edgecolor=\"none\", facecolor=\"c\", alpha=0.2)\n",
    "for i in range(Yc.shape[0]):\n",
    "    c = colors[i % len(colors)]\n",
    "    ax2.plot(bin_centers, Yc[i, :], color=c, label=f\"PCA mode {i}\")\n",
    "    ax2.plot(bin_centers, model_means[:, i], linestyle=\"-.\", color=c )\n",
    "    ax2.fill_between(bin_centers, model_means[:, i] - model_stds[:, i], model_means[:, i] + model_stds[:, i], edgecolor=\"none\", facecolor=c, alpha=0.2)\n",
    "#     \n",
    "# for i, f in enumerate(features):\n",
    "#     c = colors[i % len(colors)]\n",
    "#     ax2.plot(bin_centers, exc_soma_features_by_depth[f] / np.nanmax(exc_soma_features_by_depth[f]), linestyle=\"-\", color=c, label=\"exc \" + f)\n",
    "#     ax2.plot(bin_centers, model_means[:, i + 2], linestyle=\"-.\", color=c, label=\"exc \"+ f + \" model mean\")\n",
    "#     ax2.fill_between(bin_centers, model_means[:, i+2] - model_stds[:, i+2], model_means[:, i+2] + model_stds[:, i+2], edgecolor=\"none\", facecolor=c, alpha=0.2)\n",
    "#     ax2.plot(bin_centers, normalized_smooth_exc_features[f], linestyle=\":\", label=\"exc fit \" + f)\n",
    "#     ax2.plot(bin_centers, inh_soma_features_by_depth[f] / max(inh_soma_features_by_depth[f]), linestyle=\"-\", label=\"inh \" + f)\n",
    "#     ax2.plot(bin_centers, soma_features_by_depth[f] / max(soma_features_by_depth[f]), linestyle=\"-\", label=f)\n",
    "\n",
    "# ax.plot(bin_centers, synapse_densities, label=\"syn\")\n",
    "# for t in syn_densities_by_pre:\n",
    "#     ax2.plot(bin_centers, syn_densities_by_pre[t], label=t)\n",
    "# for t in syn_densities_by_post:\n",
    "#     ax2.plot(bin_centers, syn_densities_by_post[t], label=t)\n",
    "    \n",
    "ax.axvline(labels[0], linestyle=\"--\", color=\"k\", label=\"manual\")\n",
    "for lab in labels[1:]:\n",
    "    ax.axvline(lab, linestyle=\"--\", color=\"k\")\n",
    "ax.axvline(bounds[0], linestyle=\"--\", color=\"blue\", label=\"automatic\")\n",
    "for bound in bounds[1:]:\n",
    "    ax.axvline(bound, linestyle=\"--\", color=\"blue\")\n",
    "ax.plot(bin_centers, posteriors)\n",
    "# ax2.plot(bin_centers, transitionness * 5, label=\"transitionness\")\n",
    "ax.legend(bbox_to_anchor=[1.1, 1])\n",
    "ax2.legend(bbox_to_anchor=[1.1, 0.6])\n",
    "ax.set_xlabel(\"depth ($mm$)\")\n",
    "ax.set_ylim([0, 3])\n",
    "# ax.set_ylabel(\"soma density (per $mm^{3}$)\")\n",
    "# ax2.set_ylabel(\"synapse density (per $mm^3$)\")\n",
    "plt.show()"
   ]
  },
  {
   "cell_type": "markdown",
   "id": "25f29c8b",
   "metadata": {},
   "source": [
    "### predicted layer boundaries as a function of number of PCA modes used"
   ]
  },
  {
   "cell_type": "code",
   "execution_count": 730,
   "id": "5d0a59d0",
   "metadata": {},
   "outputs": [
    {
     "data": {
      "text/plain": [
       "array([0.400516, 0.555516, 0.690516, 0.850516, 1.035516])"
      ]
     },
     "execution_count": 730,
     "metadata": {},
     "output_type": "execute_result"
    }
   ],
   "source": [
    "array([0.400516, 0.555516, 0.690516, 0.850516, 1.035516])  # all 7 PCA modes"
   ]
  },
  {
   "cell_type": "code",
   "execution_count": 716,
   "id": "7f4ec6e9",
   "metadata": {},
   "outputs": [
    {
     "data": {
      "text/plain": [
       "array([0.400516, 0.555516, 0.695516, 0.845516, 1.035516])"
      ]
     },
     "execution_count": 716,
     "metadata": {},
     "output_type": "execute_result"
    }
   ],
   "source": [
    "array([0.400516, 0.555516, 0.695516, 0.845516, 1.035516])  # 6 PCA modes"
   ]
  },
  {
   "cell_type": "code",
   "execution_count": 674,
   "id": "b743e553",
   "metadata": {},
   "outputs": [
    {
     "data": {
      "text/plain": [
       "array([0.400516, 0.555516, 0.700516, 0.825516, 1.035516])"
      ]
     },
     "execution_count": 674,
     "metadata": {},
     "output_type": "execute_result"
    }
   ],
   "source": [
    "array([0.400516, 0.555516, 0.700516, 0.825516, 1.035516])  # 3 PCA modes"
   ]
  },
  {
   "cell_type": "code",
   "execution_count": null,
   "id": "b0c11ca8",
   "metadata": {
    "collapsed": true
   },
   "outputs": [],
   "source": [
    "array([0.400516, 0.555516, 0.700516, 0.830516, 1.010516])  # 2 PCA modes"
   ]
  },
  {
   "cell_type": "code",
   "execution_count": null,
   "id": "589693dc",
   "metadata": {},
   "outputs": [],
   "source": [
    "array([0.400516, 0.555516, 0.690516, 0.855516, 1.035516])  # 1 PCA mode"
   ]
  },
  {
   "cell_type": "markdown",
   "id": "9cd426cc",
   "metadata": {},
   "source": [
    "# Hidden Markov Model implementation"
   ]
  },
  {
   "cell_type": "code",
   "execution_count": 33,
   "id": "77d71118",
   "metadata": {},
   "outputs": [],
   "source": [
    "from hmmlearn import hmm"
   ]
  },
  {
   "cell_type": "code",
   "execution_count": 61,
   "id": "f7cb974b",
   "metadata": {},
   "outputs": [],
   "source": [
    "hmm.GaussianHMM?"
   ]
  },
  {
   "cell_type": "code",
   "execution_count": 62,
   "id": "28fb0baf",
   "metadata": {},
   "outputs": [
    {
     "data": {
      "text/plain": [
       "array([[0.96, 0.04, 0.  , 0.  , 0.  , 0.  ],\n",
       "       [0.  , 0.96, 0.04, 0.  , 0.  , 0.  ],\n",
       "       [0.  , 0.  , 0.96, 0.04, 0.  , 0.  ],\n",
       "       [0.  , 0.  , 0.  , 0.96, 0.04, 0.  ],\n",
       "       [0.  , 0.  , 0.  , 0.  , 0.96, 0.04],\n",
       "       [0.  , 0.  , 0.  , 0.  , 0.  , 1.  ]])"
      ]
     },
     "execution_count": 62,
     "metadata": {},
     "output_type": "execute_result"
    }
   ],
   "source": [
    "model = hmm.GaussianHMM(n_components=6, covariance_type=\"diag\", init_params=\"\", params=\"mc\", n_iter=1)\n",
    "# the model starts in the first state, and there is 0 probability of starting elsewhere\n",
    "model.startprob_ = np.zeros(model.n_components)\n",
    "model.startprob_[0] = 1\n",
    "p = 0.04\n",
    "transition_probs = np.full(model.n_components - 1, p)\n",
    "stay_probs = np.full(model.n_components, 1-p)\n",
    "stay_probs[-1] = 1  # nothing deeper than white matter\n",
    "model.transmat_ = np.diag(stay_probs) + np.diag(transition_probs, k=1)\n",
    "model.transmat_"
   ]
  },
  {
   "cell_type": "code",
   "execution_count": 63,
   "id": "676289a9",
   "metadata": {},
   "outputs": [
    {
     "data": {
      "text/plain": [
       "(146, 7)"
      ]
     },
     "execution_count": 63,
     "metadata": {},
     "output_type": "execute_result"
    }
   ],
   "source": [
    "varis.shape"
   ]
  },
  {
   "cell_type": "code",
   "execution_count": 70,
   "id": "191e2187",
   "metadata": {},
   "outputs": [],
   "source": [
    "varis = Yc.T\n",
    "\n",
    "# initialize means and variances\n",
    "nf = varis.shape[1]\n",
    "default_bounds = np.array([0.3, 0.400516, 0.555516, 0.700516, 0.830516, 1.010516, 1.1])  # from HMM trained on 2 PCA modes in column\n",
    "# default_centers = (default_bounds[1:] + default_bounds[:-1]) / 2  # to help reduce major errors, these will be the means for the depth emissions\n",
    "model.means_ = np.zeros((model.n_components, nf))\n",
    "for i in range(model.n_components):\n",
    "    idxs = (default_bounds[i] <= bin_centers) & (bin_centers < default_bounds[i + 1])\n",
    "    model.means_[i, :] = varis[idxs, :].mean(axis=0)\n",
    "# model.means_ = np.array([[0] + [0.6] * nf, [0.6] + [0.6] * nf, [0.7] + [0.5] * nf, [0.4] + [0.8] * nf, [0.5] + [0.6] * nf, [0] + [0.7] * nf])   # roughly correspond to the values from the column\n",
    "# model.means_ = np.array([[-0.1] + [0] * (nf - 1), [0.4] + [0] * (nf - 1), [2] + [0] * (nf - 1), [-6] + [0] * (nf - 1), [2] + [0] * (nf - 1), [-0.3] + [0] * (nf - 1)])\n",
    "model.covars_ = np.full((model.n_components, nf), 0.1)  # start with 0.1 variance for every feature in every layer\n",
    "observables, hidden_states = model.sample(101)"
   ]
  },
  {
   "cell_type": "code",
   "execution_count": 71,
   "id": "02b65ac8",
   "metadata": {},
   "outputs": [],
   "source": [
    "# varis = (exc_soma_densities / np.max(exc_soma_densities)).reshape(-1, 1)\n",
    "# varis = np.hstack([varis, clean_nans(exc_soma_vol_std_by_depth, normalize=True).reshape(-1, 1)])\n",
    "# for f in features:\n",
    "#     varis = np.hstack([varis, clean_nans(exc_soma_features_by_depth[f], normalize=True).reshape(-1, 1)])"
   ]
  },
  {
   "cell_type": "code",
   "execution_count": 73,
   "id": "f76c870a",
   "metadata": {},
   "outputs": [
    {
     "name": "stdout",
     "output_type": "stream",
     "text": [
      "126.00630319050273\n"
     ]
    }
   ],
   "source": [
    "prev_score = -1\n",
    "score = model.score(varis)\n",
    "max_iters = 100\n",
    "tol = 0.001\n",
    "i = 0\n",
    "while abs(score - prev_score) > tol and i < max_iters:\n",
    "    model.fit(varis)\n",
    "    prev_score = score\n",
    "    score = model.score(varis)\n",
    "    print(score)\n",
    "    i += 1\n",
    "#     model.means_[[0, -1], 0] = 0  # L1 and white matter excitatory soma densities should be 0\n",
    "#     print(\"zeroed\", model.score(varis))\n",
    "if abs(score - prev_score) > tol:\n",
    "    raise ValueError(\"Did not converge\")"
   ]
  },
  {
   "cell_type": "code",
   "execution_count": 42,
   "id": "3691b1da",
   "metadata": {},
   "outputs": [],
   "source": [
    "layers = model.predict(varis).tolist()"
   ]
  },
  {
   "cell_type": "code",
   "execution_count": 43,
   "id": "f1933e86",
   "metadata": {},
   "outputs": [
    {
     "data": {
      "text/plain": [
       "'[0, 0, 0, 0, 0, 0, 0, 0, 0, 1, 1, 1, 1, 1, 1, 1, 1, 1, 1, 1, 1, 1, 1, 1, 1, 1, 1, 1, 1, 1, 1, 1, 1, 1, 1, 1, 1, 1, 1, 1, 2, 2, 2, 2, 2, 2, 2, 2, 2, 2, 2, 2, 2, 2, 2, 2, 2, 2, 2, 2, 2, 2, 2, 2, 2, 2, 2, 3, 3, 3, 3, 3, 3, 3, 3, 3, 3, 3, 3, 3, 3, 3, 3, 3, 3, 3, 3, 3, 3, 3, 3, 3, 3, 3, 3, 3, 3, 3, 4, 4, 4, 4, 4, 4, 4, 4, 4, 4, 4, 4, 4, 4, 4, 4, 4, 4, 4, 4, 4, 4, 4, 4, 4, 4, 4, 4, 4, 4, 4, 4, 4, 5, 5, 5, 5, 5, 5, 5, 5, 5, 5, 5, 5, 5, 5, 5]'"
      ]
     },
     "execution_count": 43,
     "metadata": {},
     "output_type": "execute_result"
    }
   ],
   "source": [
    "str(layers)"
   ]
  },
  {
   "cell_type": "code",
   "execution_count": 44,
   "id": "a2bd0a8a",
   "metadata": {},
   "outputs": [
    {
     "name": "stdout",
     "output_type": "stream",
     "text": [
      "0.40301600000000004\n",
      "0.5580160000000002\n",
      "0.6930160000000003\n",
      "0.8480160000000004\n",
      "1.0130160000000006\n"
     ]
    }
   ],
   "source": [
    "bounds = []\n",
    "for i in range(1, model.n_components):\n",
    "    idx = layers.index(i)\n",
    "    bounds.append((bin_centers[idx] + bin_centers[idx-1]) / 2)\n",
    "    print(bin_centers[idx])\n",
    "bounds = np.array(bounds)"
   ]
  },
  {
   "cell_type": "code",
   "execution_count": 45,
   "id": "ae0962d7",
   "metadata": {},
   "outputs": [
    {
     "data": {
      "text/plain": [
       "(array([[ 0.01076442, -0.70927692,  1.75298599, ...,  0.53011852,\n",
       "         -0.0343512 ,  0.06170472],\n",
       "        [ 0.01076442, -0.70927692,  1.75298599, ...,  0.53011852,\n",
       "         -0.0343512 ,  0.06170472],\n",
       "        [ 0.01076442, -0.70927692,  1.75298599, ...,  0.53011852,\n",
       "         -0.0343512 ,  0.06170472],\n",
       "        ...,\n",
       "        [ 0.0405417 , -2.4694863 , -0.31859851, ..., -0.04368388,\n",
       "         -0.04522585, -0.07069507],\n",
       "        [ 0.0405417 , -2.4694863 , -0.31859851, ..., -0.04368388,\n",
       "         -0.04522585, -0.07069507],\n",
       "        [ 0.0405417 , -2.4694863 , -0.31859851, ..., -0.04368388,\n",
       "         -0.04522585, -0.07069507]]),\n",
       " array([[0.27811899, 0.3718334 , 0.23887156, ..., 0.221493  , 0.09033443,\n",
       "         0.06492773],\n",
       "        [0.27811899, 0.3718334 , 0.23887156, ..., 0.221493  , 0.09033443,\n",
       "         0.06492773],\n",
       "        [0.27811899, 0.3718334 , 0.23887156, ..., 0.221493  , 0.09033443,\n",
       "         0.06492773],\n",
       "        ...,\n",
       "        [0.64996578, 0.74990919, 0.42410768, ..., 0.40741978, 0.13508033,\n",
       "         0.11535753],\n",
       "        [0.64996578, 0.74990919, 0.42410768, ..., 0.40741978, 0.13508033,\n",
       "         0.11535753],\n",
       "        [0.64996578, 0.74990919, 0.42410768, ..., 0.40741978, 0.13508033,\n",
       "         0.11535753]]))"
      ]
     },
     "execution_count": 45,
     "metadata": {},
     "output_type": "execute_result"
    }
   ],
   "source": [
    "model_means = np.array([model.means_[l] for l in layers])\n",
    "model_stds = np.array([np.diagonal(np.sqrt(model.covars_[l])) for l in layers])\n",
    "model_means, model_stds"
   ]
  },
  {
   "cell_type": "code",
   "execution_count": 46,
   "id": "74c8a2b2",
   "metadata": {},
   "outputs": [],
   "source": [
    "posteriors = model.predict_proba(varis)"
   ]
  },
  {
   "cell_type": "markdown",
   "id": "7d20aecf",
   "metadata": {},
   "source": [
    "# Sum of magnitudes of fft-smoothed derivatives"
   ]
  },
  {
   "cell_type": "code",
   "execution_count": 233,
   "id": "fd1f973a",
   "metadata": {},
   "outputs": [],
   "source": [
    "from scipy import fft"
   ]
  },
  {
   "cell_type": "code",
   "execution_count": 419,
   "id": "4f98ccad",
   "metadata": {},
   "outputs": [],
   "source": [
    "freq_cutoff = 0.05\n",
    "cleaned = clean_nans(exc_soma_densities, divide_by_max=True)\n",
    "e_fft = fft.fft(cleaned)\n",
    "freqs = fft.fftfreq(len(exc_soma_densities))\n",
    "mask = abs(freqs) < freq_cutoff\n",
    "e_fft *= mask  # remove high frequency content (details/noise)\n",
    "e_fft_prime = e_fft * 1j * freqs  # take (spectral) derivative\n",
    "normalized_smooth_exc_densities = np.real(fft.ifft(e_fft))\n",
    "smooth_exc_soma_densities_deriv = np.real(fft.ifft(e_fft_prime))\n",
    "\n",
    "normalized_smooth_exc_features = dict() \n",
    "smooth_exc_feature_derivs = dict()\n",
    "for f in features:\n",
    "    cleaned = clean_nans(exc_soma_features_by_depth[f], divide_by_max=True)\n",
    "    e_fft = fft.fft(cleaned)\n",
    "    freqs = fft.fftfreq(len(cleaned))\n",
    "    mask = abs(freqs) < freq_cutoff\n",
    "    e_fft *= mask  # remove high frequency content (details/noise)\n",
    "    e_fft_prime = e_fft * 1j * freqs  # take (spectral) derivative\n",
    "    normalized_smooth_exc_features[f] = np.real(fft.ifft(e_fft))\n",
    "    smooth_exc_feature_derivs[f] = np.real(fft.ifft(e_fft_prime))"
   ]
  },
  {
   "cell_type": "code",
   "execution_count": 421,
   "id": "abf879d0",
   "metadata": {},
   "outputs": [],
   "source": [
    "transitionness = sum(np.abs(smooth_exc_feature_derivs[f]) for f in features) + smooth_exc_soma_densities_deriv"
   ]
  },
  {
   "cell_type": "markdown",
   "id": "754924e2",
   "metadata": {},
   "source": [
    "## another way to visualize"
   ]
  },
  {
   "cell_type": "code",
   "execution_count": 113,
   "id": "b2531c02",
   "metadata": {},
   "outputs": [
    {
     "name": "stderr",
     "output_type": "stream",
     "text": [
      "No handles with labels found to put in legend.\n"
     ]
    },
    {
     "data": {
      "image/png": "[encoded data removed]",
      "text/plain": [
       "<Figure size 432x432 with 1 Axes>"
      ]
     },
     "metadata": {
      "needs_background": "light"
     },
     "output_type": "display_data"
    }
   ],
   "source": [
    "# todo fill with alpha = density\n",
    "fig, ax = plt.subplots(1, 1, figsize=(6, 6))\n",
    "for i in range(len(bin_centers)):\n",
    "        bin_start, bin_end = bin_centers[i] - step_size // 2, bin_centers[i] + step_size // 2\n",
    "        ax.fill_between([0, 1], [bin_start]*2, [bin_end]*2, alpha=exc_soma_densities[i] / max(exc_soma_densities), color=\"lime\", edgecolor=None)\n",
    "        ax.fill_between([1, 2], [bin_start]*2, [bin_end]*2, alpha=inh_soma_densities[i] / max(inh_soma_densities), color=\"indigo\", edgecolor=None)\n",
    "    \n",
    "ax.invert_yaxis()\n",
    "ax.legend()\n",
    "plt.show()"
   ]
  },
  {
   "cell_type": "markdown",
   "id": "4a08dcac",
   "metadata": {},
   "source": [
    "## Ideas:\n",
    "Use synapse_query(bounding_box) to get synapse density too (and stratify by cell type)\n",
    "\n",
    "Use inhibitory cell subclass densities (do these use depth info? yes, so don't)\n",
    "\n",
    "Use *excitatory* soma features (they're much less noisy than inhibitory/combined features) and look for significant and steep changes in these features with depth by using the fft-smoothed version of each feature (as a function of depth) and then take its derivative (in fourier domain). The magnitude of the derivative of the smoothed function indicates how much of a transition zone it is according to that feature, and if we take the product of these derivative magnitudes we should see peaks at the layer borders."
   ]
  },
  {
   "cell_type": "code",
   "execution_count": 103,
   "id": "88291fb5",
   "metadata": {},
   "outputs": [
    {
     "data": {
      "text/plain": [
       "Index(['index', 'nucleus_area', 'nucleus_area_to_volume',\n",
       "       'nucleus_center_mass_nm', 'nucleus_fold_area', 'nucleus_fract_fold',\n",
       "       'nucleus_id', 'nucleus_volume', 'cleft_segid', 'size', 'centroid_x',\n",
       "       'centroid_y', 'centroid_z', 'yr_um_translated', 'predict',\n",
       "       'is_watertight', 'soma_center_mass', 'soma_volume', 'soma_area',\n",
       "       'soma_area_to_volume', 'num_processes', 'avg_sdf', 'orients', 'vectors',\n",
       "       'n_soma_syn', 'soma_syn_density', 'nuc_id', 'seg_id', 'soma_y',\n",
       "       'soma_x', 'soma_z', 'xr', 'yr', 'nucleus_to_soma', 'sum_proc_sdf',\n",
       "       'cell_type_pred_num', 'cell_type_pred', 'umapx', 'umapy', 'visible',\n",
       "       'outline_color', 'outline_width', 'max_sdf'],\n",
       "      dtype='object')"
      ]
     },
     "execution_count": 103,
     "metadata": {},
     "output_type": "execute_result"
    }
   ],
   "source": [
    "soma_features.columns"
   ]
  },
  {
   "cell_type": "code",
   "execution_count": 110,
   "id": "73ad566c",
   "metadata": {},
   "outputs": [],
   "source": []
  },
  {
   "cell_type": "code",
   "execution_count": null,
   "id": "a15a696a",
   "metadata": {},
   "outputs": [],
   "source": []
  }
 ],
 "metadata": {
  "kernelspec": {
   "display_name": "python37-env",
   "language": "python",
   "name": "python37-env"
  },
  "language_info": {
   "codemirror_mode": {
    "name": "ipython",
    "version": 3
   },
   "file_extension": ".py",
   "mimetype": "text/x-python",
   "name": "python",
   "nbconvert_exporter": "python",
   "pygments_lexer": "ipython3",
   "version": "3.7.0"
  }
 },
 "nbformat": 4,
 "nbformat_minor": 5
}
