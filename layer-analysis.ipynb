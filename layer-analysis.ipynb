{
 "cells": [
  {
   "cell_type": "code",
   "execution_count": 1,
   "id": "a1f7d0b2",
   "metadata": {},
   "outputs": [],
   "source": [
    "import numpy as np\n",
    "import pandas as pd\n",
    "import matplotlib.pyplot as plt\n",
    "\n",
    "from caveclient import CAVEclient"
   ]
  },
  {
   "cell_type": "code",
   "execution_count": 217,
   "id": "e171af3c",
   "metadata": {},
   "outputs": [],
   "source": [
    "bin_width = 0.05\n",
    "step_size = 0.005\n",
    "y_resolution = 4  # nm per voxel"
   ]
  },
  {
   "cell_type": "code",
   "execution_count": 3,
   "id": "5fd64335",
   "metadata": {},
   "outputs": [],
   "source": [
    "labels = np.array([107000, 147000, 184000, 224000, 265000]) * y_resolution / 1_000_000  # manual labels"
   ]
  },
  {
   "cell_type": "markdown",
   "id": "6fd704f6",
   "metadata": {},
   "source": [
    "# Gather data"
   ]
  },
  {
   "cell_type": "code",
   "execution_count": 7,
   "id": "5b2bd594",
   "metadata": {},
   "outputs": [],
   "source": [
    "datastack_name = \"minnie65_phase3_v1\"\n",
    "client = CAVEclient(datastack_name)"
   ]
  },
  {
   "cell_type": "code",
   "execution_count": 8,
   "id": "de31092b",
   "metadata": {},
   "outputs": [],
   "source": [
    "nuclei = client.materialize.query_table(\"nucleus_detection_v0\")"
   ]
  },
  {
   "cell_type": "code",
   "execution_count": 9,
   "id": "e7edbe42",
   "metadata": {},
   "outputs": [],
   "source": [
    "all_cells = client.materialize.query_table(\"allen_soma_coarse_cell_class_model_v1\")\n",
    "all_cells[\"num_soma\"] = all_cells.groupby(\"pt_root_id\").transform(\"count\")[\"valid\"]\n",
    "cells_by_root = all_cells.copy()\n",
    "cells_by_root.index = cells_by_root.pt_root_id"
   ]
  },
  {
   "cell_type": "code",
   "execution_count": 10,
   "id": "085f2ef0",
   "metadata": {},
   "outputs": [],
   "source": [
    "valid_ids = set(all_cells.query(\"num_soma == 1\").pt_root_id)"
   ]
  },
  {
   "cell_type": "code",
   "execution_count": 11,
   "id": "63559ce3",
   "metadata": {},
   "outputs": [
    {
     "data": {
      "text/plain": [
       "Index(['index', 'nucleus_area', 'nucleus_area_to_volume',\n",
       "       'nucleus_center_mass_nm', 'nucleus_fold_area', 'nucleus_fract_fold',\n",
       "       'nucleus_id', 'nucleus_volume', 'cleft_segid', 'size', 'centroid_x',\n",
       "       'centroid_y', 'centroid_z', 'yr_um_translated', 'predict',\n",
       "       'is_watertight', 'soma_center_mass', 'soma_volume', 'soma_area',\n",
       "       'soma_area_to_volume', 'num_processes', 'avg_sdf', 'orients', 'vectors',\n",
       "       'n_soma_syn', 'soma_syn_density', 'nuc_id', 'seg_id', 'soma_y',\n",
       "       'soma_x', 'soma_z', 'xr', 'yr', 'nucleus_to_soma', 'sum_proc_sdf',\n",
       "       'cell_type_pred_num', 'cell_type_pred', 'umapx', 'umapy', 'visible',\n",
       "       'outline_color', 'outline_width', 'max_sdf'],\n",
       "      dtype='object')"
      ]
     },
     "execution_count": 11,
     "metadata": {},
     "output_type": "execute_result"
    }
   ],
   "source": [
    "soma_features = pd.read_pickle(\"Minnie_soma_nuc_feature_model_83_1.pkl\")\n",
    "\n",
    "nuc_to_root = client.materialize.query_table(\"nucleus_neuron_svm\")\n",
    "\n",
    "nuc_to_root.index = nuc_to_root.id\n",
    "\n",
    "soma_features[\"seg_id\"] = [nuc_to_root.loc[n].pt_root_id for n in soma_features.nuc_id]\n",
    "soma_features.index = soma_features.seg_id\n",
    "soma_features.columns  \n",
    "# size is equal to nucleus volume\n",
    "# soma area and nucleus area closely track their respective volumes\n",
    "# avg sdf is a list of the 'diameters' of processes (e.g. dendrites) that leave each cell body"
   ]
  },
  {
   "cell_type": "code",
   "execution_count": 12,
   "id": "107fdcc3",
   "metadata": {},
   "outputs": [],
   "source": [
    "soma_features_root_ids = set(soma_features.seg_id)"
   ]
  },
  {
   "cell_type": "code",
   "execution_count": 14,
   "id": "d7d66307",
   "metadata": {},
   "outputs": [
    {
     "data": {
      "text/plain": [
       "(1185, 162)"
      ]
     },
     "execution_count": 14,
     "metadata": {},
     "output_type": "execute_result"
    }
   ],
   "source": [
    "exc_cells = col_cells.query(\"classification_system == 'aibs_coarse_excitatory'\")\n",
    "inh_cells = col_cells.query(\"classification_system == 'aibs_coarse_inhibitory'\")\n",
    "len(exc_cells), len(inh_cells)"
   ]
  },
  {
   "cell_type": "code",
   "execution_count": 594,
   "id": "d8763258",
   "metadata": {},
   "outputs": [],
   "source": [
    "features = [\"soma_volume\", \"n_soma_syn\", \"nucleus_volume\", \"nucleus_fract_fold\", \"sum_proc_sdf\"]"
   ]
  },
  {
   "cell_type": "code",
   "execution_count": 382,
   "id": "ed350df2",
   "metadata": {},
   "outputs": [
    {
     "name": "stderr",
     "output_type": "stream",
     "text": [
      "C:\\Users\\ATMal\\miniconda3\\envs\\ofs\\lib\\site-packages\\ipykernel_launcher.py:15: SettingWithCopyWarning: \n",
      "A value is trying to be set on a copy of a slice from a DataFrame.\n",
      "Try using .loc[row_indexer,col_indexer] = value instead\n",
      "\n",
      "See the caveats in the documentation: https://pandas.pydata.org/pandas-docs/stable/user_guide/indexing.html#returning-a-view-versus-a-copy\n",
      "  from ipykernel import kernelapp as app\n",
      "C:\\Users\\ATMal\\miniconda3\\envs\\ofs\\lib\\site-packages\\ipykernel_launcher.py:15: SettingWithCopyWarning: \n",
      "A value is trying to be set on a copy of a slice from a DataFrame.\n",
      "Try using .loc[row_indexer,col_indexer] = value instead\n",
      "\n",
      "See the caveats in the documentation: https://pandas.pydata.org/pandas-docs/stable/user_guide/indexing.html#returning-a-view-versus-a-copy\n",
      "  from ipykernel import kernelapp as app\n",
      "C:\\Users\\ATMal\\miniconda3\\envs\\ofs\\lib\\site-packages\\ipykernel_launcher.py:15: SettingWithCopyWarning: \n",
      "A value is trying to be set on a copy of a slice from a DataFrame.\n",
      "Try using .loc[row_indexer,col_indexer] = value instead\n",
      "\n",
      "See the caveats in the documentation: https://pandas.pydata.org/pandas-docs/stable/user_guide/indexing.html#returning-a-view-versus-a-copy\n",
      "  from ipykernel import kernelapp as app\n",
      "C:\\Users\\ATMal\\miniconda3\\envs\\ofs\\lib\\site-packages\\ipykernel_launcher.py:15: SettingWithCopyWarning: \n",
      "A value is trying to be set on a copy of a slice from a DataFrame.\n",
      "Try using .loc[row_indexer,col_indexer] = value instead\n",
      "\n",
      "See the caveats in the documentation: https://pandas.pydata.org/pandas-docs/stable/user_guide/indexing.html#returning-a-view-versus-a-copy\n",
      "  from ipykernel import kernelapp as app\n",
      "C:\\Users\\ATMal\\miniconda3\\envs\\ofs\\lib\\site-packages\\ipykernel_launcher.py:15: SettingWithCopyWarning: \n",
      "A value is trying to be set on a copy of a slice from a DataFrame.\n",
      "Try using .loc[row_indexer,col_indexer] = value instead\n",
      "\n",
      "See the caveats in the documentation: https://pandas.pydata.org/pandas-docs/stable/user_guide/indexing.html#returning-a-view-versus-a-copy\n",
      "  from ipykernel import kernelapp as app\n"
     ]
    }
   ],
   "source": [
    "auto_cells = client.materialize.query_table(\"allen_soma_coarse_cell_class_model_v1\")\n",
    "\n",
    "# bounding box of the proofread column we're interested in\n",
    "bbox = np.array([[ 672444., 200000., 805320.], [ 772444., 1294000., 905320.]])  # nm\n",
    "resolution = np.array([4., 4., 40.])\n",
    "bbox /= resolution\n",
    "def in_bbox(p):\n",
    "    \"\"\" returns whether point is between the two points given by bbox\"\"\"\n",
    "    lower, upper = bbox\n",
    "    return lower[0] <= p[0] < upper[0] and lower[1] <= p[1] < upper[1] and lower[2] <= p[2] < upper[2]\n",
    "\n",
    "auto_col_cells = auto_cells[auto_cells.pt_position.apply(in_bbox)]\n",
    "# add soma features columns to auto_col_cells\n",
    "for feature in features:\n",
    "    auto_col_cells[feature] = [(soma_features.loc[r][feature] if r in soma_features_root_ids and type(soma_features.loc[r][feature]) is not pd.Series else np.nan)\n",
    "                           for r in auto_col_cells.pt_root_id]\n",
    "auto_exc_cells = auto_col_cells.query(\"classification_system == 'aibs_coarse_excitatory'\")\n",
    "auto_inh_cells = auto_col_cells.query(\"classification_system == 'aibs_coarse_inhibitory'\")"
   ]
  },
  {
   "cell_type": "markdown",
   "id": "49080b8d",
   "metadata": {},
   "source": [
    "## Synapses in the center of the column"
   ]
  },
  {
   "cell_type": "code",
   "execution_count": 444,
   "id": "31cc49ac",
   "metadata": {},
   "outputs": [
    {
     "data": {
      "text/plain": [
       "(array([[180611.,  50000.,  21383.],\n",
       "        [183111., 323500.,  21633.]]),\n",
       " array([[168111.,  50000.,  20133.],\n",
       "        [193111., 323500.,  22633.]]))"
      ]
     },
     "execution_count": 444,
     "metadata": {},
     "output_type": "execute_result"
    }
   ],
   "source": [
    "syn_bbox = bbox.copy()\n",
    "sample_width = 10_000  # nm square cross section\n",
    "x_vx_width = sample_width / resolution[0]\n",
    "z_vx_width = sample_width / resolution[2]\n",
    "syn_bbox[0, 0] = bbox[0, 0] + (bbox[1, 0] - bbox[0, 0]) / 2\n",
    "syn_bbox[1, 0] = syn_bbox[0, 0] + x_vx_width\n",
    "syn_bbox[0, 2] = bbox[0, 2] + (bbox[1, 2] - bbox[0, 2]) / 2\n",
    "syn_bbox[1, 2] = syn_bbox[0, 2] + z_vx_width\n",
    "syn_bbox, bbox"
   ]
  },
  {
   "cell_type": "code",
   "execution_count": 445,
   "id": "a2c2de79",
   "metadata": {},
   "outputs": [],
   "source": [
    "synapses = client.materialize.synapse_query(bounding_box=syn_bbox, bounding_box_column=\"ctr_pt_position\", split_positions=True)"
   ]
  },
  {
   "cell_type": "code",
   "execution_count": 446,
   "id": "c2bb083a",
   "metadata": {},
   "outputs": [
    {
     "data": {
      "text/html": [
       "<div>\n",
       "<style scoped>\n",
       "    .dataframe tbody tr th:only-of-type {\n",
       "        vertical-align: middle;\n",
       "    }\n",
       "\n",
       "    .dataframe tbody tr th {\n",
       "        vertical-align: top;\n",
       "    }\n",
       "\n",
       "    .dataframe thead th {\n",
       "        text-align: right;\n",
       "    }\n",
       "</style>\n",
       "<table border=\"1\" class=\"dataframe\">\n",
       "  <thead>\n",
       "    <tr style=\"text-align: right;\">\n",
       "      <th></th>\n",
       "      <th>id</th>\n",
       "      <th>valid</th>\n",
       "      <th>pre_pt_position_x</th>\n",
       "      <th>pre_pt_position_y</th>\n",
       "      <th>pre_pt_position_z</th>\n",
       "      <th>pre_pt_supervoxel_id</th>\n",
       "      <th>pre_pt_root_id</th>\n",
       "      <th>post_pt_position_x</th>\n",
       "      <th>post_pt_position_y</th>\n",
       "      <th>post_pt_position_z</th>\n",
       "      <th>post_pt_supervoxel_id</th>\n",
       "      <th>post_pt_root_id</th>\n",
       "      <th>ctr_pt_position_x</th>\n",
       "      <th>ctr_pt_position_y</th>\n",
       "      <th>ctr_pt_position_z</th>\n",
       "      <th>size</th>\n",
       "      <th>pre_type</th>\n",
       "      <th>post_type</th>\n",
       "    </tr>\n",
       "  </thead>\n",
       "  <tbody>\n",
       "    <tr>\n",
       "      <th>0</th>\n",
       "      <td>165543171</td>\n",
       "      <td>t</td>\n",
       "      <td>182532</td>\n",
       "      <td>162148</td>\n",
       "      <td>21401</td>\n",
       "      <td>89874493577062805</td>\n",
       "      <td>864691135406145778</td>\n",
       "      <td>182502</td>\n",
       "      <td>162178</td>\n",
       "      <td>21409</td>\n",
       "      <td>89874493577078337</td>\n",
       "      <td>864691136602049489</td>\n",
       "      <td>182514</td>\n",
       "      <td>162176</td>\n",
       "      <td>21406</td>\n",
       "      <td>3048</td>\n",
       "      <td>N/A</td>\n",
       "      <td>MC</td>\n",
       "    </tr>\n",
       "    <tr>\n",
       "      <th>1</th>\n",
       "      <td>168640659</td>\n",
       "      <td>t</td>\n",
       "      <td>182066</td>\n",
       "      <td>205398</td>\n",
       "      <td>21608</td>\n",
       "      <td>89809897335697882</td>\n",
       "      <td>864691134554732752</td>\n",
       "      <td>181954</td>\n",
       "      <td>205386</td>\n",
       "      <td>21608</td>\n",
       "      <td>89809897335699907</td>\n",
       "      <td>864691136194449740</td>\n",
       "      <td>182006</td>\n",
       "      <td>205366</td>\n",
       "      <td>21614</td>\n",
       "      <td>3036</td>\n",
       "      <td>N/A</td>\n",
       "      <td>5P_IT</td>\n",
       "    </tr>\n",
       "    <tr>\n",
       "      <th>2</th>\n",
       "      <td>166909980</td>\n",
       "      <td>t</td>\n",
       "      <td>182480</td>\n",
       "      <td>172396</td>\n",
       "      <td>21469</td>\n",
       "      <td>89875867966672084</td>\n",
       "      <td>864691135373530824</td>\n",
       "      <td>182458</td>\n",
       "      <td>172306</td>\n",
       "      <td>21473</td>\n",
       "      <td>89875867966673020</td>\n",
       "      <td>864691135354901711</td>\n",
       "      <td>182514</td>\n",
       "      <td>172320</td>\n",
       "      <td>21476</td>\n",
       "      <td>19024</td>\n",
       "      <td>N/A</td>\n",
       "      <td>4P</td>\n",
       "    </tr>\n",
       "    <tr>\n",
       "      <th>3</th>\n",
       "      <td>165039980</td>\n",
       "      <td>t</td>\n",
       "      <td>182186</td>\n",
       "      <td>134386</td>\n",
       "      <td>21627</td>\n",
       "      <td>89800414047943105</td>\n",
       "      <td>864691135507506884</td>\n",
       "      <td>182136</td>\n",
       "      <td>134334</td>\n",
       "      <td>21636</td>\n",
       "      <td>89800345328466671</td>\n",
       "      <td>864691135771743563</td>\n",
       "      <td>182171</td>\n",
       "      <td>134354</td>\n",
       "      <td>21627</td>\n",
       "      <td>9744</td>\n",
       "      <td>N/A</td>\n",
       "      <td>BC</td>\n",
       "    </tr>\n",
       "    <tr>\n",
       "      <th>4</th>\n",
       "      <td>166843764</td>\n",
       "      <td>t</td>\n",
       "      <td>182448</td>\n",
       "      <td>169688</td>\n",
       "      <td>21406</td>\n",
       "      <td>89875524369248710</td>\n",
       "      <td>864691135489538756</td>\n",
       "      <td>182516</td>\n",
       "      <td>169658</td>\n",
       "      <td>21408</td>\n",
       "      <td>89875455649809129</td>\n",
       "      <td>864691135753571277</td>\n",
       "      <td>182490</td>\n",
       "      <td>169652</td>\n",
       "      <td>21406</td>\n",
       "      <td>3052</td>\n",
       "      <td>N/A</td>\n",
       "      <td>4P</td>\n",
       "    </tr>\n",
       "    <tr>\n",
       "      <th>...</th>\n",
       "      <td>...</td>\n",
       "      <td>...</td>\n",
       "      <td>...</td>\n",
       "      <td>...</td>\n",
       "      <td>...</td>\n",
       "      <td>...</td>\n",
       "      <td>...</td>\n",
       "      <td>...</td>\n",
       "      <td>...</td>\n",
       "      <td>...</td>\n",
       "      <td>...</td>\n",
       "      <td>...</td>\n",
       "      <td>...</td>\n",
       "      <td>...</td>\n",
       "      <td>...</td>\n",
       "      <td>...</td>\n",
       "      <td>...</td>\n",
       "      <td>...</td>\n",
       "    </tr>\n",
       "    <tr>\n",
       "      <th>54133</th>\n",
       "      <td>165092240</td>\n",
       "      <td>t</td>\n",
       "      <td>182286</td>\n",
       "      <td>87050</td>\n",
       "      <td>21431</td>\n",
       "      <td>89794023069395484</td>\n",
       "      <td>864691134974174632</td>\n",
       "      <td>182276</td>\n",
       "      <td>86932</td>\n",
       "      <td>21425</td>\n",
       "      <td>89794023069392698</td>\n",
       "      <td>864691133617329487</td>\n",
       "      <td>182278</td>\n",
       "      <td>87002</td>\n",
       "      <td>21431</td>\n",
       "      <td>204</td>\n",
       "      <td>N/A</td>\n",
       "      <td>N/A</td>\n",
       "    </tr>\n",
       "    <tr>\n",
       "      <th>54134</th>\n",
       "      <td>165628644</td>\n",
       "      <td>t</td>\n",
       "      <td>182960</td>\n",
       "      <td>125948</td>\n",
       "      <td>21574</td>\n",
       "      <td>89939983305122289</td>\n",
       "      <td>864691136617397211</td>\n",
       "      <td>182866</td>\n",
       "      <td>125894</td>\n",
       "      <td>21571</td>\n",
       "      <td>89939983305119255</td>\n",
       "      <td>864691133599719048</td>\n",
       "      <td>182922</td>\n",
       "      <td>125880</td>\n",
       "      <td>21573</td>\n",
       "      <td>2288</td>\n",
       "      <td>N/A</td>\n",
       "      <td>N/A</td>\n",
       "    </tr>\n",
       "    <tr>\n",
       "      <th>54135</th>\n",
       "      <td>169879523</td>\n",
       "      <td>t</td>\n",
       "      <td>182732</td>\n",
       "      <td>246282</td>\n",
       "      <td>21631</td>\n",
       "      <td>89885763638045264</td>\n",
       "      <td>864691135162274349</td>\n",
       "      <td>182632</td>\n",
       "      <td>246276</td>\n",
       "      <td>21628</td>\n",
       "      <td>89885763638040698</td>\n",
       "      <td>864691135602850244</td>\n",
       "      <td>182702</td>\n",
       "      <td>246248</td>\n",
       "      <td>21632</td>\n",
       "      <td>3036</td>\n",
       "      <td>BPC</td>\n",
       "      <td>N/A</td>\n",
       "    </tr>\n",
       "    <tr>\n",
       "      <th>54136</th>\n",
       "      <td>170162076</td>\n",
       "      <td>t</td>\n",
       "      <td>182254</td>\n",
       "      <td>240632</td>\n",
       "      <td>21384</td>\n",
       "      <td>89814638912801480</td>\n",
       "      <td>864691135485446130</td>\n",
       "      <td>182324</td>\n",
       "      <td>240626</td>\n",
       "      <td>21395</td>\n",
       "      <td>89885007656944904</td>\n",
       "      <td>864691135730428857</td>\n",
       "      <td>182284</td>\n",
       "      <td>240616</td>\n",
       "      <td>21388</td>\n",
       "      <td>268</td>\n",
       "      <td>N/A</td>\n",
       "      <td>N/A</td>\n",
       "    </tr>\n",
       "    <tr>\n",
       "      <th>54137</th>\n",
       "      <td>165628343</td>\n",
       "      <td>t</td>\n",
       "      <td>182598</td>\n",
       "      <td>123028</td>\n",
       "      <td>21625</td>\n",
       "      <td>89869202244158654</td>\n",
       "      <td>864691135541187524</td>\n",
       "      <td>182538</td>\n",
       "      <td>122924</td>\n",
       "      <td>21626</td>\n",
       "      <td>89869202244158443</td>\n",
       "      <td>864691135468341074</td>\n",
       "      <td>182578</td>\n",
       "      <td>122968</td>\n",
       "      <td>21631</td>\n",
       "      <td>3012</td>\n",
       "      <td>N/A</td>\n",
       "      <td>23P</td>\n",
       "    </tr>\n",
       "  </tbody>\n",
       "</table>\n",
       "<p>53552 rows × 18 columns</p>\n",
       "</div>"
      ],
      "text/plain": [
       "              id valid  pre_pt_position_x  pre_pt_position_y  \\\n",
       "0      165543171     t             182532             162148   \n",
       "1      168640659     t             182066             205398   \n",
       "2      166909980     t             182480             172396   \n",
       "3      165039980     t             182186             134386   \n",
       "4      166843764     t             182448             169688   \n",
       "...          ...   ...                ...                ...   \n",
       "54133  165092240     t             182286              87050   \n",
       "54134  165628644     t             182960             125948   \n",
       "54135  169879523     t             182732             246282   \n",
       "54136  170162076     t             182254             240632   \n",
       "54137  165628343     t             182598             123028   \n",
       "\n",
       "       pre_pt_position_z  pre_pt_supervoxel_id      pre_pt_root_id  \\\n",
       "0                  21401     89874493577062805  864691135406145778   \n",
       "1                  21608     89809897335697882  864691134554732752   \n",
       "2                  21469     89875867966672084  864691135373530824   \n",
       "3                  21627     89800414047943105  864691135507506884   \n",
       "4                  21406     89875524369248710  864691135489538756   \n",
       "...                  ...                   ...                 ...   \n",
       "54133              21431     89794023069395484  864691134974174632   \n",
       "54134              21574     89939983305122289  864691136617397211   \n",
       "54135              21631     89885763638045264  864691135162274349   \n",
       "54136              21384     89814638912801480  864691135485446130   \n",
       "54137              21625     89869202244158654  864691135541187524   \n",
       "\n",
       "       post_pt_position_x  post_pt_position_y  post_pt_position_z  \\\n",
       "0                  182502              162178               21409   \n",
       "1                  181954              205386               21608   \n",
       "2                  182458              172306               21473   \n",
       "3                  182136              134334               21636   \n",
       "4                  182516              169658               21408   \n",
       "...                   ...                 ...                 ...   \n",
       "54133              182276               86932               21425   \n",
       "54134              182866              125894               21571   \n",
       "54135              182632              246276               21628   \n",
       "54136              182324              240626               21395   \n",
       "54137              182538              122924               21626   \n",
       "\n",
       "       post_pt_supervoxel_id     post_pt_root_id  ctr_pt_position_x  \\\n",
       "0          89874493577078337  864691136602049489             182514   \n",
       "1          89809897335699907  864691136194449740             182006   \n",
       "2          89875867966673020  864691135354901711             182514   \n",
       "3          89800345328466671  864691135771743563             182171   \n",
       "4          89875455649809129  864691135753571277             182490   \n",
       "...                      ...                 ...                ...   \n",
       "54133      89794023069392698  864691133617329487             182278   \n",
       "54134      89939983305119255  864691133599719048             182922   \n",
       "54135      89885763638040698  864691135602850244             182702   \n",
       "54136      89885007656944904  864691135730428857             182284   \n",
       "54137      89869202244158443  864691135468341074             182578   \n",
       "\n",
       "       ctr_pt_position_y  ctr_pt_position_z   size pre_type post_type  \n",
       "0                 162176              21406   3048      N/A        MC  \n",
       "1                 205366              21614   3036      N/A     5P_IT  \n",
       "2                 172320              21476  19024      N/A        4P  \n",
       "3                 134354              21627   9744      N/A        BC  \n",
       "4                 169652              21406   3052      N/A        4P  \n",
       "...                  ...                ...    ...      ...       ...  \n",
       "54133              87002              21431    204      N/A       N/A  \n",
       "54134             125880              21573   2288      N/A       N/A  \n",
       "54135             246248              21632   3036      BPC       N/A  \n",
       "54136             240616              21388    268      N/A       N/A  \n",
       "54137             122968              21631   3012      N/A       23P  \n",
       "\n",
       "[53552 rows x 18 columns]"
      ]
     },
     "execution_count": 446,
     "metadata": {},
     "output_type": "execute_result"
    }
   ],
   "source": [
    "synapses[\"pre_type\"] = [(cells_by_root.loc[root].cell_type if root in valid_ids else \"N/A\") for root in synapses.pre_pt_root_id]\n",
    "synapses[\"post_type\"] = [(cells_by_root.loc[root].cell_type if root in valid_ids else \"N/A\") for root in synapses.post_pt_root_id]\n",
    "syn_depths = synapses.ctr_pt_position_y.values * y_resolution / 1_000_000\n",
    "syn_depths_by_pre = dict((t, []) for t in cell_types)\n",
    "syn_depths_by_post = dict((t, []) for t in cell_types)\n",
    "for i in synapses.index:\n",
    "    # pre\n",
    "    syn = synapses.loc[i]\n",
    "    if syn.pre_type in ctype_to_layer.keys():\n",
    "        syn_depths_by_pre[\"exc\"].append(syn.ctr_pt_position_y * y_resolution / 1_000_000)\n",
    "    elif syn.pre_type in syn_depths_by_pre.keys():\n",
    "        syn_depths_by_pre[syn.pre_type].append(syn.ctr_pt_position_y * y_resolution / 1_000_000)\n",
    "    \n",
    "    # post\n",
    "    if syn.post_type in ctype_to_layer.keys():\n",
    "        syn_depths_by_post[\"exc\"].append(syn.ctr_pt_position_y * y_resolution / 1_000_000)\n",
    "    elif syn.post_type in syn_depths_by_post.keys():\n",
    "        syn_depths_by_post[syn.post_type].append(syn.ctr_pt_position_y * y_resolution / 1_000_000)\n",
    "for t in syn_depths_by_pre:\n",
    "    syn_depths_by_pre[t] = np.array(syn_depths_by_pre[t])\n",
    "for t in syn_depths_by_post:\n",
    "    syn_depths_by_post[t] = np.array(syn_depths_by_post[t])\n",
    "\n",
    "synapses"
   ]
  },
  {
   "cell_type": "code",
   "execution_count": 447,
   "id": "baf5391b",
   "metadata": {},
   "outputs": [],
   "source": [
    "cell_types = [\"exc\", \"BC\", \"BPC\", \"MC\", \"NGC\"]\n",
    "ctype_to_layer = {\"23P\": \"23\",\n",
    "                 \"4P\": \"4\",\n",
    "                 \"5P_PT\": \"5\",\n",
    "                 \"5P_IT\": \"5\",\n",
    "                 \"5P_NP\": \"5\",\n",
    "                 \"6P\": \"6\",\n",
    "                 \"6CT\": \"6\",\n",
    "                 \"6IT\": \"6\"}"
   ]
  },
  {
   "cell_type": "code",
   "execution_count": 425,
   "id": "983fd539",
   "metadata": {},
   "outputs": [],
   "source": [
    "# cross sectional area to be layered\n",
    "xarea = resolution[0] * resolution[2] * (bbox[1][0] - bbox[0][0]) * (bbox[1][2] - bbox[0][2]) / 1_000_000 ** 2"
   ]
  },
  {
   "cell_type": "code",
   "execution_count": 426,
   "id": "d83bef65",
   "metadata": {},
   "outputs": [
    {
     "data": {
      "text/plain": [
       "(0.358016, 1.086656)"
      ]
     },
     "execution_count": 426,
     "metadata": {},
     "output_type": "execute_result"
    }
   ],
   "source": [
    "# min is pia border (with L1) and max is white matter border (with L6)\n",
    "min_y = min(pt[1] * y_resolution / 1_000_000 for pt in auto_col_cells.pt_position)\n",
    "max_y = max(pt[1] * y_resolution / 1_000_000 for pt in auto_col_cells.pt_position)\n",
    "min_y, max_y"
   ]
  },
  {
   "cell_type": "markdown",
   "id": "5a79ad3f",
   "metadata": {},
   "source": [
    "### Sort the dataframe of cells by depth to make getting features by depth way faster"
   ]
  },
  {
   "cell_type": "code",
   "execution_count": 427,
   "id": "7662ff7f",
   "metadata": {},
   "outputs": [],
   "source": [
    "auto_col_cells = auto_col_cells.sort_values(axis=\"index\", by=\"pt_position\", key=lambda xs: pd.Series([x[1] for x in xs]))\n",
    "\n",
    "def get_cutoff_idx(df, y, prev_cutoff_idx, position_col=\"pt_position\"):\n",
    "    \"\"\"efficiently find the first index after prev_cutoff_idx where position[1] is greater than y\"\"\"\n",
    "    i = prev_cutoff_idx\n",
    "    if i >= len(df):\n",
    "        return i\n",
    "    while df.iloc[i][position_col][1] * y_resolution / 1_000_000 < y:\n",
    "        i += 1\n",
    "        if i >= len(df):\n",
    "            return i\n",
    "    return i  # new_cutoff_idx"
   ]
  },
  {
   "cell_type": "code",
   "execution_count": 520,
   "id": "9131a063",
   "metadata": {},
   "outputs": [],
   "source": [
    "exc_soma_densities = []\n",
    "inh_soma_densities = []\n",
    "synapse_densities = []\n",
    "# syn_densities_by_pre = dict((t, []) for t in syn_depths_by_pre.keys())\n",
    "# syn_densities_by_post = dict((t, []) for t in syn_depths_by_post.keys())\n",
    "p_type = dict((t, []) for t in [\"23\", \"4\", \"5\", \"6\"])\n",
    "p_inh_subclass = dict((t, []) for t in [\"BC\", \"BPC\", \"MC\", \"NGC\"])\n",
    "exc_soma_features_by_depth = dict((f, []) for f in features)\n",
    "inh_soma_features_by_depth = dict((f, []) for f in features)\n",
    "soma_features_by_depth = dict((f, []) for f in features)\n",
    "exc_soma_vol_std_by_depth = []\n",
    "bin_centers = []\n",
    "\n",
    "depths = np.arange(min_y, max_y, step_size)\n",
    "bin_centers = depths + step_size // 2\n",
    "prev_cutoff_idx = 0\n",
    "for curr_y in depths:\n",
    "    # first index where pt_position[1] is greater than curr_y + bin_width \n",
    "    cutoff_idx = get_cutoff_idx(auto_col_cells, curr_y + bin_width, prev_cutoff_idx)\n",
    "    lower_cutoff_idx = get_cutoff_idx(auto_col_cells, curr_y, prev_cutoff_idx)\n",
    "    \n",
    "    current_cells = auto_col_cells.iloc[lower_cutoff_idx:cutoff_idx]\n",
    "    current_exc_cells = current_cells.query(\"classification_system == 'aibs_coarse_excitatory'\")\n",
    "    current_inh_cells = current_cells.query(\"classification_system == 'aibs_coarse_inhibitory'\")\n",
    "    \n",
    "    for f in features:\n",
    "        soma_features_by_depth[f].append(current_cells[f].mean())\n",
    "        exc_soma_features_by_depth[f].append(current_exc_cells[f].mean())\n",
    "        inh_soma_features_by_depth[f].append(current_inh_cells[f].mean())\n",
    "    exc_soma_vol_std_by_depth.append(current_exc_cells[\"soma_volume\"].std())\n",
    "                          \n",
    "    for t in p_type:\n",
    "        p_type[t].append(0)\n",
    "    for i in current_exc_cells.index:\n",
    "        if current_exc_cells.loc[i].cell_type != \"Unsure\":\n",
    "            p_type[ctype_to_layer[current_exc_cells.loc[i].cell_type]][-1] += 1 / len(current_exc_cells) if len(current_exc_cells) > 0 else np.nan\n",
    "    exc_soma_densities.append(len(current_exc_cells))\n",
    "    \n",
    "    inh_soma_densities.append(len(current_inh_cells))\n",
    "    for t in p_inh_subclass:\n",
    "        p_inh_subclass[t].append(0)\n",
    "    for i in current_inh_cells.index:\n",
    "        if current_inh_cells.loc[i].cell_type != \"Unsure\":\n",
    "            p_inh_subclass[current_inh_cells.loc[i].cell_type][-1] += 1 / len(current_inh_cells) if len(current_inh_cells) > 0 else np.nan\n",
    "            \n",
    "    # # this is still slow\n",
    "    # synapse_densities.append(sum((curr_y <= syn_depths) & (syn_depths < curr_y + bin_width)))\n",
    "    # for t in syn_densities_by_pre.keys():\n",
    "    #     syn_densities_by_pre[t].append(sum((curr_y <= syn_depths_by_pre[t]) & (syn_depths_by_pre[t] < curr_y + bin_width)))\n",
    "    # for t in syn_densities_by_post.keys():\n",
    "    #     syn_densities_by_post[t].append(sum((curr_y <= syn_depths_by_post[t]) & (syn_depths_by_post[t] < curr_y + bin_width)))\n",
    "    \n",
    "    prev_cutoff_idx = lower_cutoff_idx\n",
    "exc_soma_densities = np.array(exc_soma_densities, dtype=float) / (bin_width * xarea)  # per mm^3\n",
    "inh_soma_densities = np.array(inh_soma_densities, dtype=float) / (bin_width * xarea)\n",
    "# synapse_densities = np.array(synapse_densities, dtype=float) / (bin_width * xarea)\n",
    "for t in p_type:\n",
    "    p_type[t] = np.array(p_type[t])\n",
    "for t in p_inh_subclass:\n",
    "    p_inh_subclass[t] = np.array(p_inh_subclass[t])\n",
    "# for t in syn_densities_by_pre:\n",
    "#     syn_densities_by_pre[t] = np.array(syn_densities_by_pre[t]) / (bin_width * xarea)\n",
    "# for t in syn_depths_by_post:\n",
    "#     syn_densities_by_post[t] = np.array(syn_densities_by_post[t]) / (bin_width * xarea)"
   ]
  },
  {
   "cell_type": "code",
   "execution_count": 541,
   "id": "a3a99a69",
   "metadata": {},
   "outputs": [],
   "source": [
    "def clean_nans(x, normalize=False):\n",
    "    \"\"\"linearly interpolates to fill in nans\n",
    "    normalizing subtracts mean and divides by std\n",
    "    \"\"\"\n",
    "    cleaned = np.array(x)\n",
    "    mask = np.isfinite(cleaned)\n",
    "    cleaned = np.interp(np.arange(len(cleaned)), np.arange(len(cleaned))[mask], cleaned[mask])\n",
    "    if normalize:\n",
    "        cleaned -= cleaned.mean()\n",
    "        cleaned /= cleaned.std()\n",
    "    return cleaned"
   ]
  },
  {
   "cell_type": "code",
   "execution_count": 542,
   "id": "3ee5fe97",
   "metadata": {},
   "outputs": [
    {
     "data": {
      "text/html": [
       "<div>\n",
       "<style scoped>\n",
       "    .dataframe tbody tr th:only-of-type {\n",
       "        vertical-align: middle;\n",
       "    }\n",
       "\n",
       "    .dataframe tbody tr th {\n",
       "        vertical-align: top;\n",
       "    }\n",
       "\n",
       "    .dataframe thead th {\n",
       "        text-align: right;\n",
       "    }\n",
       "</style>\n",
       "<table border=\"1\" class=\"dataframe\">\n",
       "  <thead>\n",
       "    <tr style=\"text-align: right;\">\n",
       "      <th></th>\n",
       "      <th>soma_volume</th>\n",
       "      <th>n_soma_syn</th>\n",
       "      <th>nucleus_volume</th>\n",
       "      <th>nucleus_fract_fold</th>\n",
       "      <th>sum_proc_sdf</th>\n",
       "      <th>soma_density</th>\n",
       "      <th>soma_vol_std</th>\n",
       "    </tr>\n",
       "  </thead>\n",
       "  <tbody>\n",
       "    <tr>\n",
       "      <th>0</th>\n",
       "      <td>-0.361149</td>\n",
       "      <td>1.056956</td>\n",
       "      <td>-0.482037</td>\n",
       "      <td>-1.307653</td>\n",
       "      <td>0.073811</td>\n",
       "      <td>-2.459284</td>\n",
       "      <td>-0.510483</td>\n",
       "    </tr>\n",
       "    <tr>\n",
       "      <th>1</th>\n",
       "      <td>0.072851</td>\n",
       "      <td>1.352864</td>\n",
       "      <td>0.024528</td>\n",
       "      <td>-1.119267</td>\n",
       "      <td>0.488860</td>\n",
       "      <td>-2.333443</td>\n",
       "      <td>-0.372161</td>\n",
       "    </tr>\n",
       "    <tr>\n",
       "      <th>2</th>\n",
       "      <td>-0.496472</td>\n",
       "      <td>1.149017</td>\n",
       "      <td>-0.671847</td>\n",
       "      <td>-0.777104</td>\n",
       "      <td>-0.160848</td>\n",
       "      <td>-2.239062</td>\n",
       "      <td>-0.200191</td>\n",
       "    </tr>\n",
       "    <tr>\n",
       "      <th>3</th>\n",
       "      <td>-0.561166</td>\n",
       "      <td>1.066820</td>\n",
       "      <td>-0.658463</td>\n",
       "      <td>-0.773483</td>\n",
       "      <td>-0.160015</td>\n",
       "      <td>-2.144682</td>\n",
       "      <td>-0.353769</td>\n",
       "    </tr>\n",
       "    <tr>\n",
       "      <th>4</th>\n",
       "      <td>-0.508450</td>\n",
       "      <td>1.066203</td>\n",
       "      <td>-0.562224</td>\n",
       "      <td>-0.787083</td>\n",
       "      <td>0.121552</td>\n",
       "      <td>-2.018841</td>\n",
       "      <td>-0.239253</td>\n",
       "    </tr>\n",
       "    <tr>\n",
       "      <th>...</th>\n",
       "      <td>...</td>\n",
       "      <td>...</td>\n",
       "      <td>...</td>\n",
       "      <td>...</td>\n",
       "      <td>...</td>\n",
       "      <td>...</td>\n",
       "      <td>...</td>\n",
       "    </tr>\n",
       "    <tr>\n",
       "      <th>141</th>\n",
       "      <td>0.513799</td>\n",
       "      <td>-1.936269</td>\n",
       "      <td>0.798473</td>\n",
       "      <td>0.064612</td>\n",
       "      <td>-0.453667</td>\n",
       "      <td>-2.050301</td>\n",
       "      <td>-0.416314</td>\n",
       "    </tr>\n",
       "    <tr>\n",
       "      <th>142</th>\n",
       "      <td>0.892940</td>\n",
       "      <td>-2.020489</td>\n",
       "      <td>0.647528</td>\n",
       "      <td>-1.164225</td>\n",
       "      <td>-0.009569</td>\n",
       "      <td>-2.333443</td>\n",
       "      <td>-0.119303</td>\n",
       "    </tr>\n",
       "    <tr>\n",
       "      <th>143</th>\n",
       "      <td>0.892940</td>\n",
       "      <td>-2.020489</td>\n",
       "      <td>0.647528</td>\n",
       "      <td>-1.164225</td>\n",
       "      <td>-0.009569</td>\n",
       "      <td>-2.490744</td>\n",
       "      <td>-0.119303</td>\n",
       "    </tr>\n",
       "    <tr>\n",
       "      <th>144</th>\n",
       "      <td>0.892940</td>\n",
       "      <td>-2.020489</td>\n",
       "      <td>0.647528</td>\n",
       "      <td>-1.164225</td>\n",
       "      <td>-0.009569</td>\n",
       "      <td>-2.490744</td>\n",
       "      <td>-0.119303</td>\n",
       "    </tr>\n",
       "    <tr>\n",
       "      <th>145</th>\n",
       "      <td>0.892940</td>\n",
       "      <td>-2.020489</td>\n",
       "      <td>0.647528</td>\n",
       "      <td>-1.164225</td>\n",
       "      <td>-0.009569</td>\n",
       "      <td>-2.490744</td>\n",
       "      <td>-0.119303</td>\n",
       "    </tr>\n",
       "  </tbody>\n",
       "</table>\n",
       "<p>146 rows × 7 columns</p>\n",
       "</div>"
      ],
      "text/plain": [
       "     soma_volume  n_soma_syn  nucleus_volume  nucleus_fract_fold  \\\n",
       "0      -0.361149    1.056956       -0.482037           -1.307653   \n",
       "1       0.072851    1.352864        0.024528           -1.119267   \n",
       "2      -0.496472    1.149017       -0.671847           -0.777104   \n",
       "3      -0.561166    1.066820       -0.658463           -0.773483   \n",
       "4      -0.508450    1.066203       -0.562224           -0.787083   \n",
       "..           ...         ...             ...                 ...   \n",
       "141     0.513799   -1.936269        0.798473            0.064612   \n",
       "142     0.892940   -2.020489        0.647528           -1.164225   \n",
       "143     0.892940   -2.020489        0.647528           -1.164225   \n",
       "144     0.892940   -2.020489        0.647528           -1.164225   \n",
       "145     0.892940   -2.020489        0.647528           -1.164225   \n",
       "\n",
       "     sum_proc_sdf  soma_density  soma_vol_std  \n",
       "0        0.073811     -2.459284     -0.510483  \n",
       "1        0.488860     -2.333443     -0.372161  \n",
       "2       -0.160848     -2.239062     -0.200191  \n",
       "3       -0.160015     -2.144682     -0.353769  \n",
       "4        0.121552     -2.018841     -0.239253  \n",
       "..            ...           ...           ...  \n",
       "141     -0.453667     -2.050301     -0.416314  \n",
       "142     -0.009569     -2.333443     -0.119303  \n",
       "143     -0.009569     -2.490744     -0.119303  \n",
       "144     -0.009569     -2.490744     -0.119303  \n",
       "145     -0.009569     -2.490744     -0.119303  \n",
       "\n",
       "[146 rows x 7 columns]"
      ]
     },
     "execution_count": 542,
     "metadata": {},
     "output_type": "execute_result"
    }
   ],
   "source": [
    "exc_features_df = pd.DataFrame(exc_soma_features_by_depth)\n",
    "exc_features_df[\"soma_density\"] = exc_soma_densities\n",
    "exc_features_df[\"soma_vol_std\"] = exc_soma_vol_std_by_depth\n",
    "for col in exc_features_df.columns:\n",
    "    exc_features_df[col] = clean_nans(exc_features_df[col], normalize=True)\n",
    "exc_features_df"
   ]
  },
  {
   "cell_type": "markdown",
   "id": "ac989667",
   "metadata": {},
   "source": [
    "### PCA on the features to remove correlations"
   ]
  },
  {
   "cell_type": "code",
   "execution_count": 558,
   "id": "5922e146",
   "metadata": {},
   "outputs": [
    {
     "data": {
      "text/plain": [
       "(<matplotlib.image.AxesImage at 0x19160d18e48>,\n",
       " <matplotlib.colorbar.Colorbar at 0x19160f9cd30>)"
      ]
     },
     "execution_count": 558,
     "metadata": {},
     "output_type": "execute_result"
    },
    {
     "data": {
      "image/png": "[encoded data removed]",
      "text/plain": [
       "<Figure size 432x288 with 2 Axes>"
      ]
     },
     "metadata": {
      "needs_background": "light"
     },
     "output_type": "display_data"
    }
   ],
   "source": [
    "X = exc_features_df.values.T\n",
    "Xc = X - np.mean(X, axis=1, keepdims=True)  # mean subtract data first\n",
    "cov = Xc @ Xc.T / (X.shape[0] - 1)  # covariance\n",
    "plt.imshow(cov), plt.colorbar()"
   ]
  },
  {
   "cell_type": "code",
   "execution_count": 582,
   "id": "b1f61087",
   "metadata": {},
   "outputs": [],
   "source": [
    "variance, V = np.linalg.eig(cov)\n",
    "idxs = np.argsort(-variance)\n",
    "V = V[:, idxs]\n",
    "variance = variance[idxs]\n",
    "explained_variance = [sum(variance[:i+1]) / sum(variance) for i in range(len(variance))]"
   ]
  },
  {
   "cell_type": "code",
   "execution_count": 732,
   "id": "61fd7c8e",
   "metadata": {},
   "outputs": [
    {
     "data": {
      "text/plain": [
       "Text(0, 0.5, 'explained variance')"
      ]
     },
     "execution_count": 732,
     "metadata": {},
     "output_type": "execute_result"
    },
    {
     "data": {
      "image/png": "[encoded data removed]",
      "text/plain": [
       "<Figure size 432x288 with 1 Axes>"
      ]
     },
     "metadata": {
      "needs_background": "light"
     },
     "output_type": "display_data"
    }
   ],
   "source": [
    "plt.plot(explained_variance)\n",
    "plt.xlabel(\"num PCA modes\")\n",
    "plt.ylabel(\"explained variance\")"
   ]
  },
  {
   "cell_type": "markdown",
   "id": "de3b7111",
   "metadata": {},
   "source": [
    "## Make sure I use this exact same V matrix (principle components) in practice so that the model.means_ initialization is valid"
   ]
  },
  {
   "cell_type": "code",
   "execution_count": 717,
   "id": "e7eae6a0",
   "metadata": {},
   "outputs": [
    {
     "data": {
      "text/plain": [
       "(7, 146)"
      ]
     },
     "execution_count": 717,
     "metadata": {},
     "output_type": "execute_result"
    }
   ],
   "source": [
    "# Yc is the projection of Xc onto the principle components \n",
    "Yc = V[:, :7].T @ Xc\n",
    "Yc.shape"
   ]
  },
  {
   "cell_type": "markdown",
   "id": "5a6da544",
   "metadata": {},
   "source": [
    "## Plot!"
   ]
  },
  {
   "cell_type": "code",
   "execution_count": 661,
   "id": "bb38423e",
   "metadata": {},
   "outputs": [],
   "source": [
    "colors = \"bgrcmyk\""
   ]
  },
  {
   "cell_type": "code",
   "execution_count": 729,
   "id": "bee1e2fe",
   "metadata": {
    "scrolled": false
   },
   "outputs": [
    {
     "data": {
      "image/png": "[encoded data removed]",
      "text/plain": [
       "<Figure size 780x520 with 2 Axes>"
      ]
     },
     "metadata": {
      "needs_background": "light"
     },
     "output_type": "display_data"
    }
   ],
   "source": [
    "fig, ax = plt.subplots(1, 1, figsize=(6, 4), dpi=130)\n",
    "ax2 = ax.twinx()\n",
    "# ax.plot(bin_centers, inh_soma_densities, c=\"indigo\", label=\"inh soma density\")\n",
    "# ax2.plot(bin_centers, exc_soma_densities / np.nanmax(exc_soma_densities), c=\"lime\", label=\"exc soma density\")\n",
    "# ax2.plot(bin_centers, model_means[:, 0], c=\"lime\", linestyle=\"-.\", label=\"exc soma density model\")\n",
    "# ax2.fill_between(bin_centers, model_means[:, 0] - model_stds[:, 0], model_means[:, 0] + model_stds[:, 0], edgecolor=\"none\", facecolor=\"lime\", alpha=0.2)\n",
    "# ax2.plot(bin_centers, normalized_smooth_exc_densities, \":r\", label=\"exc soma density fit\")\n",
    "# ax.plot(bin_centers, smooth_exc_deriv * 5, \":r\", label=\"exc fit deriv\")\n",
    "# ax2.plot(bin_centers, exc_soma_vol_std_by_depth / np.nanmax(exc_soma_vol_std_by_depth), color=\"c\", linestyle=\":\", label=\"exc soma_volume std\")\n",
    "# ax2.plot(bin_centers, model_means[:, 1], c=\"c\", linestyle=\"-.\", label=\"exc soma density model\")\n",
    "# ax2.fill_between(bin_centers, model_means[:, 1] - model_stds[:, 1], model_means[:, 1] + model_stds[:, 1], edgecolor=\"none\", facecolor=\"c\", alpha=0.2)\n",
    "for i in range(Yc.shape[0]):\n",
    "    c = colors[i % len(colors)]\n",
    "    ax2.plot(bin_centers, Yc[i, :], color=c, label=f\"PCA mode {i}\")\n",
    "    ax2.plot(bin_centers, model_means[:, i], linestyle=\"-.\", color=c )\n",
    "    ax2.fill_between(bin_centers, model_means[:, i] - model_stds[:, i], model_means[:, i] + model_stds[:, i], edgecolor=\"none\", facecolor=c, alpha=0.2)\n",
    "#     \n",
    "# for i, f in enumerate(features):\n",
    "#     c = colors[i % len(colors)]\n",
    "#     ax2.plot(bin_centers, exc_soma_features_by_depth[f] / np.nanmax(exc_soma_features_by_depth[f]), linestyle=\"-\", color=c, label=\"exc \" + f)\n",
    "#     ax2.plot(bin_centers, model_means[:, i + 2], linestyle=\"-.\", color=c, label=\"exc \"+ f + \" model mean\")\n",
    "#     ax2.fill_between(bin_centers, model_means[:, i+2] - model_stds[:, i+2], model_means[:, i+2] + model_stds[:, i+2], edgecolor=\"none\", facecolor=c, alpha=0.2)\n",
    "#     ax2.plot(bin_centers, normalized_smooth_exc_features[f], linestyle=\":\", label=\"exc fit \" + f)\n",
    "#     ax2.plot(bin_centers, inh_soma_features_by_depth[f] / max(inh_soma_features_by_depth[f]), linestyle=\"-\", label=\"inh \" + f)\n",
    "#     ax2.plot(bin_centers, soma_features_by_depth[f] / max(soma_features_by_depth[f]), linestyle=\"-\", label=f)\n",
    "\n",
    "# ax.plot(bin_centers, synapse_densities, label=\"syn\")\n",
    "# for t in syn_densities_by_pre:\n",
    "#     ax2.plot(bin_centers, syn_densities_by_pre[t], label=t)\n",
    "# for t in syn_densities_by_post:\n",
    "#     ax2.plot(bin_centers, syn_densities_by_post[t], label=t)\n",
    "    \n",
    "ax.axvline(labels[0], linestyle=\"--\", color=\"k\", label=\"manual\")\n",
    "for lab in labels[1:]:\n",
    "    ax.axvline(lab, linestyle=\"--\", color=\"k\")\n",
    "ax.axvline(bounds[0], linestyle=\"--\", color=\"blue\", label=\"automatic\")\n",
    "for bound in bounds[1:]:\n",
    "    ax.axvline(bound, linestyle=\"--\", color=\"blue\")\n",
    "ax.plot(bin_centers, posteriors)\n",
    "# ax2.plot(bin_centers, transitionness * 5, label=\"transitionness\")\n",
    "ax.legend(bbox_to_anchor=[1.1, 1])\n",
    "ax2.legend(bbox_to_anchor=[1.1, 0.6])\n",
    "ax.set_xlabel(\"depth ($mm$)\")\n",
    "ax.set_ylim([0, 3])\n",
    "# ax.set_ylabel(\"soma density (per $mm^{3}$)\")\n",
    "# ax2.set_ylabel(\"synapse density (per $mm^3$)\")\n",
    "plt.show()"
   ]
  },
  {
   "cell_type": "markdown",
   "id": "9ddda39a",
   "metadata": {},
   "source": [
    "### predicted layer boundaries as a function of number of PCA modes used"
   ]
  },
  {
   "cell_type": "code",
   "execution_count": 730,
   "id": "eb3cf9df",
   "metadata": {},
   "outputs": [
    {
     "data": {
      "text/plain": [
       "array([0.400516, 0.555516, 0.690516, 0.850516, 1.035516])"
      ]
     },
     "execution_count": 730,
     "metadata": {},
     "output_type": "execute_result"
    }
   ],
   "source": [
    "array([0.400516, 0.555516, 0.690516, 0.850516, 1.035516])  # all 7 PCA modes"
   ]
  },
  {
   "cell_type": "code",
   "execution_count": 716,
   "id": "04f557bd",
   "metadata": {},
   "outputs": [
    {
     "data": {
      "text/plain": [
       "array([0.400516, 0.555516, 0.695516, 0.845516, 1.035516])"
      ]
     },
     "execution_count": 716,
     "metadata": {},
     "output_type": "execute_result"
    }
   ],
   "source": [
    "array([0.400516, 0.555516, 0.695516, 0.845516, 1.035516])  # 6 PCA modes"
   ]
  },
  {
   "cell_type": "code",
   "execution_count": 674,
   "id": "bacad48e",
   "metadata": {},
   "outputs": [
    {
     "data": {
      "text/plain": [
       "array([0.400516, 0.555516, 0.700516, 0.825516, 1.035516])"
      ]
     },
     "execution_count": 674,
     "metadata": {},
     "output_type": "execute_result"
    }
   ],
   "source": [
    "array([0.400516, 0.555516, 0.700516, 0.825516, 1.035516])  # 3 PCA modes"
   ]
  },
  {
   "cell_type": "code",
   "execution_count": null,
   "id": "f3d6a714",
   "metadata": {
    "collapsed": true
   },
   "outputs": [],
   "source": [
    "array([0.400516, 0.555516, 0.700516, 0.830516, 1.010516])  # 2 PCA modes"
   ]
  },
  {
   "cell_type": "code",
   "execution_count": null,
   "id": "15ebbcc3",
   "metadata": {},
   "outputs": [],
   "source": [
    "array([0.400516, 0.555516, 0.690516, 0.855516, 1.035516])  # 1 PCA mode"
   ]
  },
  {
   "cell_type": "markdown",
   "id": "82b24942",
   "metadata": {},
   "source": [
    "# Hidden Markov Model implementation"
   ]
  },
  {
   "cell_type": "code",
   "execution_count": 718,
   "id": "6664d531",
   "metadata": {},
   "outputs": [],
   "source": [
    "from hmmlearn import hmm"
   ]
  },
  {
   "cell_type": "code",
   "execution_count": 719,
   "id": "a1e32a56",
   "metadata": {},
   "outputs": [],
   "source": [
    "# hmm.GaussianHMM?"
   ]
  },
  {
   "cell_type": "code",
   "execution_count": 720,
   "id": "d01aa9a2",
   "metadata": {},
   "outputs": [
    {
     "data": {
      "text/plain": [
       "array([[0.96, 0.04, 0.  , 0.  , 0.  , 0.  ],\n",
       "       [0.  , 0.96, 0.04, 0.  , 0.  , 0.  ],\n",
       "       [0.  , 0.  , 0.96, 0.04, 0.  , 0.  ],\n",
       "       [0.  , 0.  , 0.  , 0.96, 0.04, 0.  ],\n",
       "       [0.  , 0.  , 0.  , 0.  , 0.96, 0.04],\n",
       "       [0.  , 0.  , 0.  , 0.  , 0.  , 1.  ]])"
      ]
     },
     "execution_count": 720,
     "metadata": {},
     "output_type": "execute_result"
    }
   ],
   "source": [
    "model = hmm.GaussianHMM(n_components=6, covariance_type=\"diag\", init_params=\"\", params=\"mc\")\n",
    "# the model starts in the first state, and there is 0 probability of starting elsewhere\n",
    "model.startprob_ = np.zeros(model.n_components)\n",
    "model.startprob_[0] = 1\n",
    "p = 0.04\n",
    "transition_probs = np.full(model.n_components - 1, p)\n",
    "stay_probs = np.full(model.n_components, 1-p)\n",
    "stay_probs[-1] = 1  # nothing deeper than white matter\n",
    "model.transmat_ = np.diag(stay_probs) + np.diag(transition_probs, k=1)\n",
    "model.transmat_"
   ]
  },
  {
   "cell_type": "code",
   "execution_count": 721,
   "id": "7652c27d",
   "metadata": {},
   "outputs": [],
   "source": [
    "# initialize means and variances\n",
    "nf = Yc.shape[0]\n",
    "# model.means_ = np.array([[0] + [0.6] * nf, [0.6] + [0.6] * nf, [0.7] + [0.5] * nf, [0.4] + [0.8] * nf, [0.5] + [0.6] * nf, [0] + [0.7] * nf])   # roughly correspond to the values from the column\n",
    "model.means_ = np.array([[-0.1] + [0] * (nf - 1), [0.4] + [0] * (nf - 1), [2] + [0] * (nf - 1), [-6] + [0] * (nf - 1), [2] + [0] * (nf - 1), [-0.3] + [0] * (nf - 1)])\n",
    "model.covars_ = np.full((model.n_components, nf), 0.1)  # start with 0.1 variance for every feature in every layer\n",
    "observables, hidden_states = model.sample(101)"
   ]
  },
  {
   "cell_type": "code",
   "execution_count": 722,
   "id": "129d6c3d",
   "metadata": {},
   "outputs": [],
   "source": [
    "varis = Yc.T\n",
    "# varis = (exc_soma_densities / np.max(exc_soma_densities)).reshape(-1, 1)\n",
    "# varis = np.hstack([varis, clean_nans(exc_soma_vol_std_by_depth, normalize=True).reshape(-1, 1)])\n",
    "# for f in features:\n",
    "#     varis = np.hstack([varis, clean_nans(exc_soma_features_by_depth[f], normalize=True).reshape(-1, 1)])"
   ]
  },
  {
   "cell_type": "code",
   "execution_count": 723,
   "id": "2cc9e432",
   "metadata": {},
   "outputs": [
    {
     "name": "stdout",
     "output_type": "stream",
     "text": [
      "126.94162237091135 [[ 1.07644631e-02 -7.09276766e-01  1.75298592e+00  1.37093681e+00\n",
      "   5.30118464e-01 -3.43512124e-02  6.17047093e-02]\n",
      " [ 3.69063496e-01  6.44146514e-01  1.09067865e+00 -3.07697519e-01\n",
      "  -2.48612709e-01  8.38222057e-03 -5.54251960e-02]\n",
      " [ 1.89473736e+00  9.44642410e-01 -5.63548452e-01  2.10888124e-01\n",
      "   2.12456971e-01 -1.75272329e-02  1.79865128e-03]\n",
      " [-3.44783783e+00  3.44877373e-01 -5.17907907e-01  1.60994380e-01\n",
      "   3.83813720e-02  3.46442558e-02 -6.71402366e-03]\n",
      " [ 1.18030459e+00 -5.75626115e-01 -4.07956487e-01 -3.77546429e-01\n",
      "  -4.22306136e-02  4.73044748e-03  5.73077554e-02]\n",
      " [-3.86744589e-01 -2.87772641e+00 -2.74435464e-01  5.83934573e-02\n",
      "  -2.59092125e-01 -6.93341283e-02 -8.41594155e-02]]\n",
      "127.27744928790327 [[ 1.07644248e-02 -7.09276910e-01  1.75298598e+00  1.37093700e+00\n",
      "   5.30118514e-01 -3.43511980e-02  6.17047230e-02]\n",
      " [ 3.69065861e-01  6.44145650e-01  1.09067504e+00 -3.07695364e-01\n",
      "  -2.48611433e-01  8.38338427e-03 -5.54250603e-02]\n",
      " [ 1.91943627e+00  9.46387008e-01 -5.54316342e-01  2.00120048e-01\n",
      "   2.15132521e-01 -1.64384564e-02  3.27637889e-03]\n",
      " [-3.35717432e+00  3.47730366e-01 -5.26408383e-01  1.71043363e-01\n",
      "   3.56437415e-02  3.31192936e-02 -7.72459832e-03]\n",
      " [ 1.18926880e+00 -5.76329802e-01 -4.07620446e-01 -3.80545077e-01\n",
      "  -3.99385021e-02  4.29221499e-03  5.75692999e-02]\n",
      " [-3.86744589e-01 -2.87772641e+00 -2.74435467e-01  5.83934557e-02\n",
      "  -2.59092121e-01 -6.93341285e-02 -8.41594160e-02]]\n",
      "127.29191743238208 [[ 1.07644229e-02 -7.09276917e-01  1.75298599e+00  1.37093701e+00\n",
      "   5.30118517e-01 -3.43511973e-02  6.17047237e-02]\n",
      " [ 3.69065987e-01  6.44145612e-01  1.09067487e+00 -3.07695263e-01\n",
      "  -2.48611366e-01  8.38343587e-03 -5.54250528e-02]\n",
      " [ 1.92061679e+00  9.46446448e-01 -5.53859497e-01  1.99607851e-01\n",
      "   2.15264618e-01 -1.63815740e-02  3.34929509e-03]\n",
      " [-3.35191309e+00  3.47623169e-01 -5.26783317e-01  1.71486472e-01\n",
      "   3.53666481e-02  3.30564329e-02 -7.76575560e-03]\n",
      " [ 1.19009850e+00 -5.76387782e-01 -4.07595137e-01 -3.80825245e-01\n",
      "  -3.97235609e-02  4.25351214e-03  5.75938395e-02]\n",
      " [-3.86744589e-01 -2.87772641e+00 -2.74435467e-01  5.83934556e-02\n",
      "  -2.59092120e-01 -6.93341285e-02 -8.41594160e-02]]\n",
      "127.30073640220891 [[ 0.01076442 -0.70927692  1.75298599  1.37093702  0.53011852 -0.0343512\n",
      "   0.06170472]\n",
      " [ 0.36906607  0.64414559  1.09067476 -0.3076952  -0.24861132  0.00838347\n",
      "  -0.05542505]\n",
      " [ 1.9213283   0.94648166 -0.55358348  0.19929899  0.21534422 -0.0163471\n",
      "   0.00339329]\n",
      " [-3.34827933  0.34743207 -0.52699677  0.17174574  0.0351286   0.03302463\n",
      "  -0.00778731]\n",
      " [ 1.19079223 -0.57643532 -0.40757471 -0.38105974 -0.03954363  0.00422133\n",
      "   0.05761442]\n",
      " [-0.38674459 -2.87772641 -0.27443547  0.05839346 -0.25909212 -0.06933413\n",
      "  -0.08415942]]\n",
      "127.30617674023436 [[ 0.01076442 -0.70927692  1.75298599  1.37093702  0.53011852 -0.0343512\n",
      "   0.06170472]\n",
      " [ 0.36906611  0.64414558  1.09067469 -0.30769516 -0.2486113   0.00838349\n",
      "  -0.05542505]\n",
      " [ 1.92175446  0.94650254 -0.55341789  0.19911393  0.21539188 -0.01632639\n",
      "   0.00341966]\n",
      " [-3.34569664  0.34720672 -0.52711374  0.17189463  0.0349238   0.03301091\n",
      "  -0.00779742]\n",
      " [ 1.19137716 -0.57647474 -0.407558   -0.38125762 -0.03939179  0.00419431\n",
      "   0.05763181]\n",
      " [-0.38674459 -2.87772641 -0.27443547  0.05839346 -0.25909212 -0.06933413\n",
      "  -0.08415942]]\n",
      "127.30962670062895 [[ 0.01076442 -0.70927693  1.75298599  1.37093702  0.53011852 -0.0343512\n",
      "   0.06170472]\n",
      " [ 0.36906614  0.64414557  1.09067466 -0.30769514 -0.24861128  0.0083835\n",
      "  -0.05542504]\n",
      " [ 1.92201227  0.94651508 -0.5533176   0.19900194  0.21542071 -0.01631382\n",
      "   0.00343562]\n",
      " [-3.34378864  0.34697606 -0.52717523  0.17197942  0.03474702  0.03300712\n",
      "  -0.00780118]\n",
      " [ 1.19187494 -0.57650781 -0.40754416 -0.38142614 -0.03926247  0.0041714\n",
      "   0.05764664]\n",
      " [-0.38674459 -2.87772641 -0.27443547  0.05839346 -0.25909212 -0.06933413\n",
      "  -0.08415942]]\n",
      "127.31190527786414 [[ 0.01076442 -0.70927693  1.75298599  1.37093702  0.53011852 -0.0343512\n",
      "   0.06170472]\n",
      " [ 0.36906616  0.64414556  1.09067463 -0.30769513 -0.24861128  0.0083835\n",
      "  -0.05542504]\n",
      " [ 1.92217218  0.94652283 -0.55325535  0.19893246  0.21543858 -0.01630602\n",
      "   0.00344552]\n",
      " [-3.34231886  0.34675481 -0.52720566  0.17202769  0.03459359  0.03300849\n",
      "  -0.00780157]\n",
      " [ 1.19230287 -0.57653587 -0.40753253 -0.38157109 -0.03915124  0.00415176\n",
      "   0.05765941]\n",
      " [-0.38674459 -2.87772641 -0.27443547  0.05839346 -0.25909212 -0.06933413\n",
      "  -0.08415942]]\n",
      "127.31348726638808 [[ 0.01076442 -0.70927693  1.75298599  1.37093702  0.53011852 -0.0343512\n",
      "   0.06170472]\n",
      " [ 0.36906617  0.64414556  1.09067462 -0.30769512 -0.24861127  0.00838351\n",
      "  -0.05542504]\n",
      " [ 1.92227525  0.9465278  -0.5532152   0.19888767  0.2154501  -0.01630098\n",
      "   0.00345191]\n",
      " [-3.34114084  0.34654918 -0.52721901  0.17205534  0.03445944  0.03301235\n",
      "  -0.00780026]\n",
      " [ 1.19267472 -0.57656    -0.40752263 -0.3816971  -0.03905454  0.00413474\n",
      "   0.05767053]\n",
      " [-0.38674459 -2.87772641 -0.27443547  0.05839346 -0.25909212 -0.06933413\n",
      "  -0.08415942]]\n",
      "127.31464652985198 [[ 0.01076442 -0.70927693  1.75298599  1.37093702  0.53011852 -0.0343512\n",
      "   0.06170472]\n",
      " [ 0.36906618  0.64414556  1.09067461 -0.30769511 -0.24861127  0.00838351\n",
      "  -0.05542504]\n",
      " [ 1.92234505  0.94653116 -0.55318799  0.19885733  0.2154579  -0.01629756\n",
      "   0.00345623]\n",
      " [-3.34016354  0.3463608  -0.52722313  0.17207138  0.03434115  0.03301728\n",
      "  -0.00779816]\n",
      " [ 1.19300131 -0.57658097 -0.4075141  -0.38180782 -0.03896957  0.00411982\n",
      "   0.05768031]\n",
      " [-0.38674459 -2.87772641 -0.27443547  0.05839346 -0.25909212 -0.06933413\n",
      "  -0.08415942]]\n",
      "127.31554169280089 [[ 0.01076442 -0.70927693  1.75298599  1.37093702  0.53011852 -0.0343512\n",
      "   0.06170472]\n",
      " [ 0.36906618  0.64414556  1.0906746  -0.30769511 -0.24861126  0.00838351\n",
      "  -0.05542504]\n",
      " [ 1.92239501  0.94653356 -0.55316851  0.19883561  0.21546348 -0.01629512\n",
      "   0.00345933]\n",
      " [-3.33932938  0.3461891  -0.52722235  0.17208084  0.03423592  0.03302253\n",
      "  -0.00779576]\n",
      " [ 1.19329117 -0.57659943 -0.40750666 -0.38190612 -0.03889414  0.00410661\n",
      "   0.057689  ]\n",
      " [-0.38674459 -2.87772641 -0.27443547  0.05839346 -0.25909212 -0.06933413\n",
      "  -0.08415942]]\n"
     ]
    }
   ],
   "source": [
    "prev_score = -1\n",
    "score = model.score(varis)\n",
    "max_iters = 10\n",
    "i = 0\n",
    "while abs(score - prev_score) > 0.001 and i < max_iters:\n",
    "    model.fit(varis)\n",
    "    prev_score = score\n",
    "    score = model.score(varis)\n",
    "    print(score, model.means_)\n",
    "    i += 1\n",
    "#     model.means_[[0, -1], 0] = 0  # L1 and white matter excitatory soma densities should be 0\n",
    "#     print(\"zeroed\", model.score(varis))\n",
    "if abs(score - prev_score) > 0.001:\n",
    "    raise ValueError(\"Did not converge\")"
   ]
  },
  {
   "cell_type": "code",
   "execution_count": 724,
   "id": "ba04805f",
   "metadata": {},
   "outputs": [],
   "source": [
    "layers = model.predict(varis).tolist()"
   ]
  },
  {
   "cell_type": "code",
   "execution_count": 725,
   "id": "14ea431c",
   "metadata": {},
   "outputs": [
    {
     "data": {
      "text/plain": [
       "'[0, 0, 0, 0, 0, 0, 0, 0, 0, 1, 1, 1, 1, 1, 1, 1, 1, 1, 1, 1, 1, 1, 1, 1, 1, 1, 1, 1, 1, 1, 1, 1, 1, 1, 1, 1, 1, 1, 1, 1, 2, 2, 2, 2, 2, 2, 2, 2, 2, 2, 2, 2, 2, 2, 2, 2, 2, 2, 2, 2, 2, 2, 2, 2, 2, 2, 2, 3, 3, 3, 3, 3, 3, 3, 3, 3, 3, 3, 3, 3, 3, 3, 3, 3, 3, 3, 3, 3, 3, 3, 3, 3, 3, 3, 3, 3, 3, 3, 3, 4, 4, 4, 4, 4, 4, 4, 4, 4, 4, 4, 4, 4, 4, 4, 4, 4, 4, 4, 4, 4, 4, 4, 4, 4, 4, 4, 4, 4, 4, 4, 4, 4, 4, 4, 4, 4, 5, 5, 5, 5, 5, 5, 5, 5, 5, 5]'"
      ]
     },
     "execution_count": 725,
     "metadata": {},
     "output_type": "execute_result"
    }
   ],
   "source": [
    "str(layers)"
   ]
  },
  {
   "cell_type": "code",
   "execution_count": 726,
   "id": "146608c2",
   "metadata": {},
   "outputs": [
    {
     "name": "stdout",
     "output_type": "stream",
     "text": [
      "0.40301600000000004\n",
      "0.5580160000000002\n",
      "0.6930160000000003\n",
      "0.8530160000000004\n",
      "1.0380160000000007\n"
     ]
    }
   ],
   "source": [
    "bounds = []\n",
    "for i in range(1, model.n_components):\n",
    "    idx = layers.index(i)\n",
    "    bounds.append((bin_centers[idx] + bin_centers[idx-1]) / 2)\n",
    "    print(bin_centers[idx])\n",
    "bounds = np.array(bounds)"
   ]
  },
  {
   "cell_type": "code",
   "execution_count": 727,
   "id": "aeb29320",
   "metadata": {},
   "outputs": [
    {
     "data": {
      "text/plain": [
       "(array([[ 0.01076442, -0.70927693,  1.75298599, ...,  0.53011852,\n",
       "         -0.0343512 ,  0.06170472],\n",
       "        [ 0.01076442, -0.70927693,  1.75298599, ...,  0.53011852,\n",
       "         -0.0343512 ,  0.06170472],\n",
       "        [ 0.01076442, -0.70927693,  1.75298599, ...,  0.53011852,\n",
       "         -0.0343512 ,  0.06170472],\n",
       "        ...,\n",
       "        [-0.38674459, -2.87772641, -0.27443547, ..., -0.25909212,\n",
       "         -0.06933413, -0.08415942],\n",
       "        [-0.38674459, -2.87772641, -0.27443547, ..., -0.25909212,\n",
       "         -0.06933413, -0.08415942],\n",
       "        [-0.38674459, -2.87772641, -0.27443547, ..., -0.25909212,\n",
       "         -0.06933413, -0.08415942]]),\n",
       " array([[0.27811899, 0.3718334 , 0.23887155, ..., 0.221493  , 0.09033443,\n",
       "         0.06492773],\n",
       "        [0.27811899, 0.3718334 , 0.23887155, ..., 0.221493  , 0.09033443,\n",
       "         0.06492773],\n",
       "        [0.27811899, 0.3718334 , 0.23887155, ..., 0.221493  , 0.09033443,\n",
       "         0.06492773],\n",
       "        ...,\n",
       "        [0.15136085, 0.5636943 , 0.51158353, ..., 0.31924512, 0.15814404,\n",
       "         0.13811998],\n",
       "        [0.15136085, 0.5636943 , 0.51158353, ..., 0.31924512, 0.15814404,\n",
       "         0.13811998],\n",
       "        [0.15136085, 0.5636943 , 0.51158353, ..., 0.31924512, 0.15814404,\n",
       "         0.13811998]]))"
      ]
     },
     "execution_count": 727,
     "metadata": {},
     "output_type": "execute_result"
    }
   ],
   "source": [
    "model_means = np.array([model.means_[l] for l in layers])\n",
    "model_stds = np.array([np.diagonal(np.sqrt(model.covars_[l])) for l in layers])\n",
    "model_means, model_stds"
   ]
  },
  {
   "cell_type": "code",
   "execution_count": 728,
   "id": "55c9d4cd",
   "metadata": {},
   "outputs": [],
   "source": [
    "posteriors = model.predict_proba(varis)"
   ]
  },
  {
   "cell_type": "markdown",
   "id": "4bf8e0d8",
   "metadata": {},
   "source": [
    "# Sum of magnitudes of fft-smoothed derivatives"
   ]
  },
  {
   "cell_type": "code",
   "execution_count": 233,
   "id": "0a24a101",
   "metadata": {},
   "outputs": [],
   "source": [
    "from scipy import fft"
   ]
  },
  {
   "cell_type": "code",
   "execution_count": 419,
   "id": "205d6f25",
   "metadata": {},
   "outputs": [],
   "source": [
    "freq_cutoff = 0.05\n",
    "cleaned = clean_nans(exc_soma_densities, divide_by_max=True)\n",
    "e_fft = fft.fft(cleaned)\n",
    "freqs = fft.fftfreq(len(exc_soma_densities))\n",
    "mask = abs(freqs) < freq_cutoff\n",
    "e_fft *= mask  # remove high frequency content (details/noise)\n",
    "e_fft_prime = e_fft * 1j * freqs  # take (spectral) derivative\n",
    "normalized_smooth_exc_densities = np.real(fft.ifft(e_fft))\n",
    "smooth_exc_soma_densities_deriv = np.real(fft.ifft(e_fft_prime))\n",
    "\n",
    "normalized_smooth_exc_features = dict() \n",
    "smooth_exc_feature_derivs = dict()\n",
    "for f in features:\n",
    "    cleaned = clean_nans(exc_soma_features_by_depth[f], divide_by_max=True)\n",
    "    e_fft = fft.fft(cleaned)\n",
    "    freqs = fft.fftfreq(len(cleaned))\n",
    "    mask = abs(freqs) < freq_cutoff\n",
    "    e_fft *= mask  # remove high frequency content (details/noise)\n",
    "    e_fft_prime = e_fft * 1j * freqs  # take (spectral) derivative\n",
    "    normalized_smooth_exc_features[f] = np.real(fft.ifft(e_fft))\n",
    "    smooth_exc_feature_derivs[f] = np.real(fft.ifft(e_fft_prime))"
   ]
  },
  {
   "cell_type": "code",
   "execution_count": 421,
   "id": "0d31511c",
   "metadata": {},
   "outputs": [],
   "source": [
    "transitionness = sum(np.abs(smooth_exc_feature_derivs[f]) for f in features) + smooth_exc_soma_densities_deriv"
   ]
  },
  {
   "cell_type": "markdown",
   "id": "ae884c88",
   "metadata": {},
   "source": [
    "## another way to visualize"
   ]
  },
  {
   "cell_type": "code",
   "execution_count": 113,
   "id": "8a9e0384",
   "metadata": {},
   "outputs": [
    {
     "name": "stderr",
     "output_type": "stream",
     "text": [
      "No handles with labels found to put in legend.\n"
     ]
    },
    {
     "data": {
      "image/png": "[encoded data removed]",
      "text/plain": [
       "<Figure size 432x432 with 1 Axes>"
      ]
     },
     "metadata": {
      "needs_background": "light"
     },
     "output_type": "display_data"
    }
   ],
   "source": [
    "# todo fill with alpha = density\n",
    "fig, ax = plt.subplots(1, 1, figsize=(6, 6))\n",
    "for i in range(len(bin_centers)):\n",
    "        bin_start, bin_end = bin_centers[i] - step_size // 2, bin_centers[i] + step_size // 2\n",
    "        ax.fill_between([0, 1], [bin_start]*2, [bin_end]*2, alpha=exc_soma_densities[i] / max(exc_soma_densities), color=\"lime\", edgecolor=None)\n",
    "        ax.fill_between([1, 2], [bin_start]*2, [bin_end]*2, alpha=inh_soma_densities[i] / max(inh_soma_densities), color=\"indigo\", edgecolor=None)\n",
    "    \n",
    "ax.invert_yaxis()\n",
    "ax.legend()\n",
    "plt.show()"
   ]
  },
  {
   "cell_type": "markdown",
   "id": "604cdc50",
   "metadata": {},
   "source": [
    "## Ideas:\n",
    "Use synapse_query(bounding_box) to get synapse density too (and stratify by cell type)\n",
    "\n",
    "Use inhibitory cell subclass densities (do these use depth info? yes, so don't)\n",
    "\n",
    "Use *excitatory* soma features (they're much less noisy than inhibitory/combined features) and look for significant and steep changes in these features with depth by using the fft-smoothed version of each feature (as a function of depth) and then take its derivative (in fourier domain). The magnitude of the derivative of the smoothed function indicates how much of a transition zone it is according to that feature, and if we take the product of these derivative magnitudes we should see peaks at the layer borders."
   ]
  },
  {
   "cell_type": "code",
   "execution_count": 103,
   "id": "9a260cad",
   "metadata": {},
   "outputs": [
    {
     "data": {
      "text/plain": [
       "Index(['index', 'nucleus_area', 'nucleus_area_to_volume',\n",
       "       'nucleus_center_mass_nm', 'nucleus_fold_area', 'nucleus_fract_fold',\n",
       "       'nucleus_id', 'nucleus_volume', 'cleft_segid', 'size', 'centroid_x',\n",
       "       'centroid_y', 'centroid_z', 'yr_um_translated', 'predict',\n",
       "       'is_watertight', 'soma_center_mass', 'soma_volume', 'soma_area',\n",
       "       'soma_area_to_volume', 'num_processes', 'avg_sdf', 'orients', 'vectors',\n",
       "       'n_soma_syn', 'soma_syn_density', 'nuc_id', 'seg_id', 'soma_y',\n",
       "       'soma_x', 'soma_z', 'xr', 'yr', 'nucleus_to_soma', 'sum_proc_sdf',\n",
       "       'cell_type_pred_num', 'cell_type_pred', 'umapx', 'umapy', 'visible',\n",
       "       'outline_color', 'outline_width', 'max_sdf'],\n",
       "      dtype='object')"
      ]
     },
     "execution_count": 103,
     "metadata": {},
     "output_type": "execute_result"
    }
   ],
   "source": [
    "soma_features.columns"
   ]
  },
  {
   "cell_type": "code",
   "execution_count": 110,
   "id": "4a48cd83",
   "metadata": {},
   "outputs": [],
   "source": []
  },
  {
   "cell_type": "code",
   "execution_count": null,
   "id": "9eea09b8",
   "metadata": {},
   "outputs": [],
   "source": []
  }
 ],
 "metadata": {
  "kernelspec": {
   "display_name": "python37-env",
   "language": "python",
   "name": "python37-env"
  },
  "language_info": {
   "codemirror_mode": {
    "name": "ipython",
    "version": 3
   },
   "file_extension": ".py",
   "mimetype": "text/x-python",
   "name": "python",
   "nbconvert_exporter": "python",
   "pygments_lexer": "ipython3",
   "version": "3.7.0"
  }
 },
 "nbformat": 4,
 "nbformat_minor": 5
}
