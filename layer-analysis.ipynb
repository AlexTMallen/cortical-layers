{
 "cells": [
  {
   "cell_type": "code",
   "execution_count": 1,
   "id": "e4f660d4",
   "metadata": {},
   "outputs": [],
   "source": [
    "import numpy as np\n",
    "import pandas as pd\n",
    "import matplotlib.pyplot as plt\n",
    "\n",
    "from caveclient import CAVEclient"
   ]
  },
  {
   "cell_type": "code",
   "execution_count": 127,
   "id": "894f8957",
   "metadata": {},
   "outputs": [],
   "source": [
    "bin_width = 0.005\n",
    "step_size = 0.005\n",
    "y_resolution = 4  # nm per voxel"
   ]
  },
  {
   "cell_type": "code",
   "execution_count": 3,
   "id": "62f6c505",
   "metadata": {},
   "outputs": [],
   "source": [
    "labels = np.array([107000, 147000, 184000, 224000, 265000]) * y_resolution / 1_000_000"
   ]
  },
  {
   "cell_type": "code",
   "execution_count": 7,
   "id": "be5e47c1",
   "metadata": {},
   "outputs": [],
   "source": [
    "datastack_name = \"minnie65_phase3_v1\"\n",
    "client = CAVEclient(datastack_name)"
   ]
  },
  {
   "cell_type": "code",
   "execution_count": 8,
   "id": "aafcda37",
   "metadata": {},
   "outputs": [],
   "source": [
    "nuclei = client.materialize.query_table(\"nucleus_detection_v0\")"
   ]
  },
  {
   "cell_type": "code",
   "execution_count": 9,
   "id": "21b6219b",
   "metadata": {},
   "outputs": [],
   "source": [
    "all_cells = client.materialize.query_table(\"allen_soma_coarse_cell_class_model_v1\")\n",
    "all_cells[\"num_soma\"] = all_cells.groupby(\"pt_root_id\").transform(\"count\")[\"valid\"]\n",
    "cells_by_root = all_cells.copy()\n",
    "cells_by_root.index = cells_by_root.pt_root_id"
   ]
  },
  {
   "cell_type": "code",
   "execution_count": 10,
   "id": "8de74da8",
   "metadata": {},
   "outputs": [],
   "source": [
    "valid_ids = set(all_cells.query(\"num_soma == 1\").pt_root_id)"
   ]
  },
  {
   "cell_type": "code",
   "execution_count": 11,
   "id": "5b94ca51",
   "metadata": {},
   "outputs": [
    {
     "data": {
      "text/plain": [
       "Index(['index', 'nucleus_area', 'nucleus_area_to_volume',\n",
       "       'nucleus_center_mass_nm', 'nucleus_fold_area', 'nucleus_fract_fold',\n",
       "       'nucleus_id', 'nucleus_volume', 'cleft_segid', 'size', 'centroid_x',\n",
       "       'centroid_y', 'centroid_z', 'yr_um_translated', 'predict',\n",
       "       'is_watertight', 'soma_center_mass', 'soma_volume', 'soma_area',\n",
       "       'soma_area_to_volume', 'num_processes', 'avg_sdf', 'orients', 'vectors',\n",
       "       'n_soma_syn', 'soma_syn_density', 'nuc_id', 'seg_id', 'soma_y',\n",
       "       'soma_x', 'soma_z', 'xr', 'yr', 'nucleus_to_soma', 'sum_proc_sdf',\n",
       "       'cell_type_pred_num', 'cell_type_pred', 'umapx', 'umapy', 'visible',\n",
       "       'outline_color', 'outline_width', 'max_sdf'],\n",
       "      dtype='object')"
      ]
     },
     "execution_count": 11,
     "metadata": {},
     "output_type": "execute_result"
    }
   ],
   "source": [
    "soma_features = pd.read_pickle(\"Minnie_soma_nuc_feature_model_83_1.pkl\")\n",
    "\n",
    "nuc_to_root = client.materialize.query_table(\"nucleus_neuron_svm\")\n",
    "\n",
    "nuc_to_root.index = nuc_to_root.id\n",
    "\n",
    "soma_features[\"seg_id\"] = [nuc_to_root.loc[n].pt_root_id for n in soma_features.nuc_id]\n",
    "soma_features.index = soma_features.seg_id\n",
    "soma_features.columns  \n",
    "# size is just nucleus volume\n",
    "# soma area and nucleus area closely track their respective volumes\n",
    "# avg sdf is a list (of what?)"
   ]
  },
  {
   "cell_type": "code",
   "execution_count": 12,
   "id": "4424f54f",
   "metadata": {},
   "outputs": [],
   "source": [
    "soma_features_root_ids = set(soma_features.seg_id)"
   ]
  },
  {
   "cell_type": "code",
   "execution_count": 13,
   "id": "2100a2fc",
   "metadata": {},
   "outputs": [],
   "source": [
    "col_cells = client.materialize.query_table(\"allen_v1_column_types_v2\", split_positions=False)"
   ]
  },
  {
   "cell_type": "code",
   "execution_count": 14,
   "id": "6091026c",
   "metadata": {},
   "outputs": [
    {
     "data": {
      "text/plain": [
       "(1185, 162)"
      ]
     },
     "execution_count": 14,
     "metadata": {},
     "output_type": "execute_result"
    }
   ],
   "source": [
    "exc_cells = col_cells.query(\"classification_system == 'aibs_coarse_excitatory'\")\n",
    "inh_cells = col_cells.query(\"classification_system == 'aibs_coarse_inhibitory'\")\n",
    "len(exc_cells), len(inh_cells)"
   ]
  },
  {
   "cell_type": "code",
   "execution_count": 104,
   "id": "253ec379",
   "metadata": {},
   "outputs": [],
   "source": [
    "features = [\"soma_volume\"] #, \"n_soma_syn\", \"nucleus_volume\", \"nucleus_fract_fold\", \"sum_proc_sdf\"]"
   ]
  },
  {
   "cell_type": "code",
   "execution_count": 15,
   "id": "b0bfbbce",
   "metadata": {},
   "outputs": [
    {
     "name": "stderr",
     "output_type": "stream",
     "text": [
      "C:\\Users\\ATMal\\miniconda3\\envs\\ofs\\lib\\site-packages\\ipykernel_launcher.py:16: SettingWithCopyWarning: \n",
      "A value is trying to be set on a copy of a slice from a DataFrame.\n",
      "Try using .loc[row_indexer,col_indexer] = value instead\n",
      "\n",
      "See the caveats in the documentation: https://pandas.pydata.org/pandas-docs/stable/user_guide/indexing.html#returning-a-view-versus-a-copy\n",
      "  app.launch_new_instance()\n",
      "C:\\Users\\ATMal\\miniconda3\\envs\\ofs\\lib\\site-packages\\ipykernel_launcher.py:16: SettingWithCopyWarning: \n",
      "A value is trying to be set on a copy of a slice from a DataFrame.\n",
      "Try using .loc[row_indexer,col_indexer] = value instead\n",
      "\n",
      "See the caveats in the documentation: https://pandas.pydata.org/pandas-docs/stable/user_guide/indexing.html#returning-a-view-versus-a-copy\n",
      "  app.launch_new_instance()\n",
      "C:\\Users\\ATMal\\miniconda3\\envs\\ofs\\lib\\site-packages\\ipykernel_launcher.py:16: SettingWithCopyWarning: \n",
      "A value is trying to be set on a copy of a slice from a DataFrame.\n",
      "Try using .loc[row_indexer,col_indexer] = value instead\n",
      "\n",
      "See the caveats in the documentation: https://pandas.pydata.org/pandas-docs/stable/user_guide/indexing.html#returning-a-view-versus-a-copy\n",
      "  app.launch_new_instance()\n",
      "C:\\Users\\ATMal\\miniconda3\\envs\\ofs\\lib\\site-packages\\ipykernel_launcher.py:16: SettingWithCopyWarning: \n",
      "A value is trying to be set on a copy of a slice from a DataFrame.\n",
      "Try using .loc[row_indexer,col_indexer] = value instead\n",
      "\n",
      "See the caveats in the documentation: https://pandas.pydata.org/pandas-docs/stable/user_guide/indexing.html#returning-a-view-versus-a-copy\n",
      "  app.launch_new_instance()\n",
      "C:\\Users\\ATMal\\miniconda3\\envs\\ofs\\lib\\site-packages\\ipykernel_launcher.py:16: SettingWithCopyWarning: \n",
      "A value is trying to be set on a copy of a slice from a DataFrame.\n",
      "Try using .loc[row_indexer,col_indexer] = value instead\n",
      "\n",
      "See the caveats in the documentation: https://pandas.pydata.org/pandas-docs/stable/user_guide/indexing.html#returning-a-view-versus-a-copy\n",
      "  app.launch_new_instance()\n"
     ]
    }
   ],
   "source": [
    "auto_cells = client.materialize.query_table(\"allen_soma_coarse_cell_class_model_v1\")\n",
    "\n",
    "# bounding box of the proofread column we're interested in\n",
    "bbox = np.array([[ 672444., 200000., 805320.], [ 772444., 1294000., 905320.]])  # nm\n",
    "resolution = np.array([4., 4., 40.])\n",
    "bbox /= resolution\n",
    "def in_bbox(p):\n",
    "    \"\"\" returns whether point is between the two points given by bbox\"\"\"\n",
    "    lower, upper = bbox\n",
    "    return lower[0] <= p[0] < upper[0] and lower[1] <= p[1] < upper[1] and lower[2] <= p[2] < upper[2]\n",
    "\n",
    "auto_col_cells = auto_cells[auto_cells.pt_position.apply(in_bbox)]\n",
    "for feature in features:\n",
    "    auto_col_cells[feature] = [(soma_features.loc[r][feature] if r in soma_features_root_ids and type(soma_features.loc[r][feature]) is not pd.Series else np.nan)\n",
    "                           for r in auto_col_cells.pt_root_id]\n",
    "auto_exc_cells = auto_col_cells.query(\"classification_system == 'aibs_coarse_excitatory'\")\n",
    "auto_inh_cells = auto_col_cells.query(\"classification_system == 'aibs_coarse_inhibitory'\")"
   ]
  },
  {
   "cell_type": "markdown",
   "id": "b6bd65e6",
   "metadata": {},
   "source": [
    "## Synapses in the center of the column"
   ]
  },
  {
   "cell_type": "code",
   "execution_count": 99,
   "id": "78025855",
   "metadata": {},
   "outputs": [
    {
     "data": {
      "text/plain": [
       "(array([[180611.,  50000.,  21383.],\n",
       "        [183111., 323500.,  21633.]]),\n",
       " array([[168111.,  50000.,  20133.],\n",
       "        [193111., 323500.,  22633.]]))"
      ]
     },
     "execution_count": 99,
     "metadata": {},
     "output_type": "execute_result"
    }
   ],
   "source": [
    "syn_bbox = bbox.copy()\n",
    "sample_width = 10_000  # nm square cross section\n",
    "x_vx_width = sample_width / resolution[0]\n",
    "z_vx_width = sample_width / resolution[2]\n",
    "syn_bbox[0, 0] = bbox[0, 0] + (bbox[1, 0] - bbox[0, 0]) / 2\n",
    "syn_bbox[1, 0] = syn_bbox[0, 0] + x_vx_width\n",
    "syn_bbox[0, 2] = bbox[0, 2] + (bbox[1, 2] - bbox[0, 2]) / 2\n",
    "syn_bbox[1, 2] = syn_bbox[0, 2] + z_vx_width\n",
    "syn_bbox, bbox"
   ]
  },
  {
   "cell_type": "code",
   "execution_count": 100,
   "id": "fc591db5",
   "metadata": {},
   "outputs": [],
   "source": [
    "synapses = client.materialize.synapse_query(bounding_box=syn_bbox, bounding_box_column=\"ctr_pt_position\", split_positions=True)"
   ]
  },
  {
   "cell_type": "code",
   "execution_count": 102,
   "id": "18aefbcf",
   "metadata": {},
   "outputs": [
    {
     "data": {
      "text/html": [
       "<div>\n",
       "<style scoped>\n",
       "    .dataframe tbody tr th:only-of-type {\n",
       "        vertical-align: middle;\n",
       "    }\n",
       "\n",
       "    .dataframe tbody tr th {\n",
       "        vertical-align: top;\n",
       "    }\n",
       "\n",
       "    .dataframe thead th {\n",
       "        text-align: right;\n",
       "    }\n",
       "</style>\n",
       "<table border=\"1\" class=\"dataframe\">\n",
       "  <thead>\n",
       "    <tr style=\"text-align: right;\">\n",
       "      <th></th>\n",
       "      <th>id</th>\n",
       "      <th>valid</th>\n",
       "      <th>pre_pt_position_x</th>\n",
       "      <th>pre_pt_position_y</th>\n",
       "      <th>pre_pt_position_z</th>\n",
       "      <th>pre_pt_supervoxel_id</th>\n",
       "      <th>pre_pt_root_id</th>\n",
       "      <th>post_pt_position_x</th>\n",
       "      <th>post_pt_position_y</th>\n",
       "      <th>post_pt_position_z</th>\n",
       "      <th>post_pt_supervoxel_id</th>\n",
       "      <th>post_pt_root_id</th>\n",
       "      <th>ctr_pt_position_x</th>\n",
       "      <th>ctr_pt_position_y</th>\n",
       "      <th>ctr_pt_position_z</th>\n",
       "      <th>size</th>\n",
       "      <th>pre_type</th>\n",
       "      <th>post_type</th>\n",
       "    </tr>\n",
       "  </thead>\n",
       "  <tbody>\n",
       "    <tr>\n",
       "      <th>0</th>\n",
       "      <td>165543171</td>\n",
       "      <td>t</td>\n",
       "      <td>182532</td>\n",
       "      <td>162148</td>\n",
       "      <td>21401</td>\n",
       "      <td>89874493577062805</td>\n",
       "      <td>864691135406145778</td>\n",
       "      <td>182502</td>\n",
       "      <td>162178</td>\n",
       "      <td>21409</td>\n",
       "      <td>89874493577078337</td>\n",
       "      <td>864691136602049489</td>\n",
       "      <td>182514</td>\n",
       "      <td>162176</td>\n",
       "      <td>21406</td>\n",
       "      <td>3048</td>\n",
       "      <td>N/A</td>\n",
       "      <td>MC</td>\n",
       "    </tr>\n",
       "    <tr>\n",
       "      <th>1</th>\n",
       "      <td>168640659</td>\n",
       "      <td>t</td>\n",
       "      <td>182066</td>\n",
       "      <td>205398</td>\n",
       "      <td>21608</td>\n",
       "      <td>89809897335697882</td>\n",
       "      <td>864691134554732752</td>\n",
       "      <td>181954</td>\n",
       "      <td>205386</td>\n",
       "      <td>21608</td>\n",
       "      <td>89809897335699907</td>\n",
       "      <td>864691136194449740</td>\n",
       "      <td>182006</td>\n",
       "      <td>205366</td>\n",
       "      <td>21614</td>\n",
       "      <td>3036</td>\n",
       "      <td>N/A</td>\n",
       "      <td>5P_IT</td>\n",
       "    </tr>\n",
       "    <tr>\n",
       "      <th>2</th>\n",
       "      <td>166909980</td>\n",
       "      <td>t</td>\n",
       "      <td>182480</td>\n",
       "      <td>172396</td>\n",
       "      <td>21469</td>\n",
       "      <td>89875867966672084</td>\n",
       "      <td>864691135373530824</td>\n",
       "      <td>182458</td>\n",
       "      <td>172306</td>\n",
       "      <td>21473</td>\n",
       "      <td>89875867966673020</td>\n",
       "      <td>864691135354901711</td>\n",
       "      <td>182514</td>\n",
       "      <td>172320</td>\n",
       "      <td>21476</td>\n",
       "      <td>19024</td>\n",
       "      <td>N/A</td>\n",
       "      <td>4P</td>\n",
       "    </tr>\n",
       "    <tr>\n",
       "      <th>3</th>\n",
       "      <td>165039980</td>\n",
       "      <td>t</td>\n",
       "      <td>182186</td>\n",
       "      <td>134386</td>\n",
       "      <td>21627</td>\n",
       "      <td>89800414047943105</td>\n",
       "      <td>864691135507506884</td>\n",
       "      <td>182136</td>\n",
       "      <td>134334</td>\n",
       "      <td>21636</td>\n",
       "      <td>89800345328466671</td>\n",
       "      <td>864691135771743563</td>\n",
       "      <td>182171</td>\n",
       "      <td>134354</td>\n",
       "      <td>21627</td>\n",
       "      <td>9744</td>\n",
       "      <td>N/A</td>\n",
       "      <td>BC</td>\n",
       "    </tr>\n",
       "    <tr>\n",
       "      <th>4</th>\n",
       "      <td>166843764</td>\n",
       "      <td>t</td>\n",
       "      <td>182448</td>\n",
       "      <td>169688</td>\n",
       "      <td>21406</td>\n",
       "      <td>89875524369248710</td>\n",
       "      <td>864691135489538756</td>\n",
       "      <td>182516</td>\n",
       "      <td>169658</td>\n",
       "      <td>21408</td>\n",
       "      <td>89875455649809129</td>\n",
       "      <td>864691135753571277</td>\n",
       "      <td>182490</td>\n",
       "      <td>169652</td>\n",
       "      <td>21406</td>\n",
       "      <td>3052</td>\n",
       "      <td>N/A</td>\n",
       "      <td>4P</td>\n",
       "    </tr>\n",
       "    <tr>\n",
       "      <th>...</th>\n",
       "      <td>...</td>\n",
       "      <td>...</td>\n",
       "      <td>...</td>\n",
       "      <td>...</td>\n",
       "      <td>...</td>\n",
       "      <td>...</td>\n",
       "      <td>...</td>\n",
       "      <td>...</td>\n",
       "      <td>...</td>\n",
       "      <td>...</td>\n",
       "      <td>...</td>\n",
       "      <td>...</td>\n",
       "      <td>...</td>\n",
       "      <td>...</td>\n",
       "      <td>...</td>\n",
       "      <td>...</td>\n",
       "      <td>...</td>\n",
       "      <td>...</td>\n",
       "    </tr>\n",
       "    <tr>\n",
       "      <th>54133</th>\n",
       "      <td>165092240</td>\n",
       "      <td>t</td>\n",
       "      <td>182286</td>\n",
       "      <td>87050</td>\n",
       "      <td>21431</td>\n",
       "      <td>89794023069395484</td>\n",
       "      <td>864691134974174632</td>\n",
       "      <td>182276</td>\n",
       "      <td>86932</td>\n",
       "      <td>21425</td>\n",
       "      <td>89794023069392698</td>\n",
       "      <td>864691133617329487</td>\n",
       "      <td>182278</td>\n",
       "      <td>87002</td>\n",
       "      <td>21431</td>\n",
       "      <td>204</td>\n",
       "      <td>N/A</td>\n",
       "      <td>N/A</td>\n",
       "    </tr>\n",
       "    <tr>\n",
       "      <th>54134</th>\n",
       "      <td>165628644</td>\n",
       "      <td>t</td>\n",
       "      <td>182960</td>\n",
       "      <td>125948</td>\n",
       "      <td>21574</td>\n",
       "      <td>89939983305122289</td>\n",
       "      <td>864691136617397211</td>\n",
       "      <td>182866</td>\n",
       "      <td>125894</td>\n",
       "      <td>21571</td>\n",
       "      <td>89939983305119255</td>\n",
       "      <td>864691133599719048</td>\n",
       "      <td>182922</td>\n",
       "      <td>125880</td>\n",
       "      <td>21573</td>\n",
       "      <td>2288</td>\n",
       "      <td>N/A</td>\n",
       "      <td>N/A</td>\n",
       "    </tr>\n",
       "    <tr>\n",
       "      <th>54135</th>\n",
       "      <td>169879523</td>\n",
       "      <td>t</td>\n",
       "      <td>182732</td>\n",
       "      <td>246282</td>\n",
       "      <td>21631</td>\n",
       "      <td>89885763638045264</td>\n",
       "      <td>864691135162274349</td>\n",
       "      <td>182632</td>\n",
       "      <td>246276</td>\n",
       "      <td>21628</td>\n",
       "      <td>89885763638040698</td>\n",
       "      <td>864691135602850244</td>\n",
       "      <td>182702</td>\n",
       "      <td>246248</td>\n",
       "      <td>21632</td>\n",
       "      <td>3036</td>\n",
       "      <td>BPC</td>\n",
       "      <td>N/A</td>\n",
       "    </tr>\n",
       "    <tr>\n",
       "      <th>54136</th>\n",
       "      <td>170162076</td>\n",
       "      <td>t</td>\n",
       "      <td>182254</td>\n",
       "      <td>240632</td>\n",
       "      <td>21384</td>\n",
       "      <td>89814638912801480</td>\n",
       "      <td>864691135485446130</td>\n",
       "      <td>182324</td>\n",
       "      <td>240626</td>\n",
       "      <td>21395</td>\n",
       "      <td>89885007656944904</td>\n",
       "      <td>864691135730428857</td>\n",
       "      <td>182284</td>\n",
       "      <td>240616</td>\n",
       "      <td>21388</td>\n",
       "      <td>268</td>\n",
       "      <td>N/A</td>\n",
       "      <td>N/A</td>\n",
       "    </tr>\n",
       "    <tr>\n",
       "      <th>54137</th>\n",
       "      <td>165628343</td>\n",
       "      <td>t</td>\n",
       "      <td>182598</td>\n",
       "      <td>123028</td>\n",
       "      <td>21625</td>\n",
       "      <td>89869202244158654</td>\n",
       "      <td>864691135541187524</td>\n",
       "      <td>182538</td>\n",
       "      <td>122924</td>\n",
       "      <td>21626</td>\n",
       "      <td>89869202244158443</td>\n",
       "      <td>864691135468341074</td>\n",
       "      <td>182578</td>\n",
       "      <td>122968</td>\n",
       "      <td>21631</td>\n",
       "      <td>3012</td>\n",
       "      <td>N/A</td>\n",
       "      <td>23P</td>\n",
       "    </tr>\n",
       "  </tbody>\n",
       "</table>\n",
       "<p>53552 rows × 18 columns</p>\n",
       "</div>"
      ],
      "text/plain": [
       "              id valid  pre_pt_position_x  pre_pt_position_y  \\\n",
       "0      165543171     t             182532             162148   \n",
       "1      168640659     t             182066             205398   \n",
       "2      166909980     t             182480             172396   \n",
       "3      165039980     t             182186             134386   \n",
       "4      166843764     t             182448             169688   \n",
       "...          ...   ...                ...                ...   \n",
       "54133  165092240     t             182286              87050   \n",
       "54134  165628644     t             182960             125948   \n",
       "54135  169879523     t             182732             246282   \n",
       "54136  170162076     t             182254             240632   \n",
       "54137  165628343     t             182598             123028   \n",
       "\n",
       "       pre_pt_position_z  pre_pt_supervoxel_id      pre_pt_root_id  \\\n",
       "0                  21401     89874493577062805  864691135406145778   \n",
       "1                  21608     89809897335697882  864691134554732752   \n",
       "2                  21469     89875867966672084  864691135373530824   \n",
       "3                  21627     89800414047943105  864691135507506884   \n",
       "4                  21406     89875524369248710  864691135489538756   \n",
       "...                  ...                   ...                 ...   \n",
       "54133              21431     89794023069395484  864691134974174632   \n",
       "54134              21574     89939983305122289  864691136617397211   \n",
       "54135              21631     89885763638045264  864691135162274349   \n",
       "54136              21384     89814638912801480  864691135485446130   \n",
       "54137              21625     89869202244158654  864691135541187524   \n",
       "\n",
       "       post_pt_position_x  post_pt_position_y  post_pt_position_z  \\\n",
       "0                  182502              162178               21409   \n",
       "1                  181954              205386               21608   \n",
       "2                  182458              172306               21473   \n",
       "3                  182136              134334               21636   \n",
       "4                  182516              169658               21408   \n",
       "...                   ...                 ...                 ...   \n",
       "54133              182276               86932               21425   \n",
       "54134              182866              125894               21571   \n",
       "54135              182632              246276               21628   \n",
       "54136              182324              240626               21395   \n",
       "54137              182538              122924               21626   \n",
       "\n",
       "       post_pt_supervoxel_id     post_pt_root_id  ctr_pt_position_x  \\\n",
       "0          89874493577078337  864691136602049489             182514   \n",
       "1          89809897335699907  864691136194449740             182006   \n",
       "2          89875867966673020  864691135354901711             182514   \n",
       "3          89800345328466671  864691135771743563             182171   \n",
       "4          89875455649809129  864691135753571277             182490   \n",
       "...                      ...                 ...                ...   \n",
       "54133      89794023069392698  864691133617329487             182278   \n",
       "54134      89939983305119255  864691133599719048             182922   \n",
       "54135      89885763638040698  864691135602850244             182702   \n",
       "54136      89885007656944904  864691135730428857             182284   \n",
       "54137      89869202244158443  864691135468341074             182578   \n",
       "\n",
       "       ctr_pt_position_y  ctr_pt_position_z   size pre_type post_type  \n",
       "0                 162176              21406   3048      N/A        MC  \n",
       "1                 205366              21614   3036      N/A     5P_IT  \n",
       "2                 172320              21476  19024      N/A        4P  \n",
       "3                 134354              21627   9744      N/A        BC  \n",
       "4                 169652              21406   3052      N/A        4P  \n",
       "...                  ...                ...    ...      ...       ...  \n",
       "54133              87002              21431    204      N/A       N/A  \n",
       "54134             125880              21573   2288      N/A       N/A  \n",
       "54135             246248              21632   3036      BPC       N/A  \n",
       "54136             240616              21388    268      N/A       N/A  \n",
       "54137             122968              21631   3012      N/A       23P  \n",
       "\n",
       "[53552 rows x 18 columns]"
      ]
     },
     "execution_count": 102,
     "metadata": {},
     "output_type": "execute_result"
    }
   ],
   "source": [
    "synapses[\"pre_type\"] = [(cells_by_root.loc[root].cell_type if root in valid_ids else \"N/A\") for root in synapses.pre_pt_root_id]\n",
    "synapses[\"post_type\"] = [(cells_by_root.loc[root].cell_type if root in valid_ids else \"N/A\") for root in synapses.post_pt_root_id]\n",
    "syn_depths = synapses.ctr_pt_position_y.values * y_resolution / 1_000_000\n",
    "syn_depths_by_pre = dict((t, []) for t in cell_types)\n",
    "syn_depths_by_post = dict((t, []) for t in cell_types)\n",
    "for i in synapses.index:\n",
    "    # pre\n",
    "    syn = synapses.loc[i]\n",
    "    if syn.pre_type in ctype_to_layer.keys():\n",
    "        syn_depths_by_pre[\"exc\"].append(syn.ctr_pt_position_y * y_resolution / 1_000_000)\n",
    "    elif syn.pre_type in syn_depths_by_pre.keys():\n",
    "        syn_depths_by_pre[syn.pre_type].append(syn.ctr_pt_position_y * y_resolution / 1_000_000)\n",
    "    \n",
    "    # post\n",
    "    if syn.post_type in ctype_to_layer.keys():\n",
    "        syn_depths_by_post[\"exc\"].append(syn.ctr_pt_position_y * y_resolution / 1_000_000)\n",
    "    elif syn.post_type in syn_depths_by_post.keys():\n",
    "        syn_depths_by_post[syn.post_type].append(syn.ctr_pt_position_y * y_resolution / 1_000_000)\n",
    "for t in syn_depths_by_pre:\n",
    "    syn_depths_by_pre[t] = np.array(syn_depths_by_pre[t])\n",
    "for t in syn_depths_by_post:\n",
    "    syn_depths_by_post[t] = np.array(syn_depths_by_post[t])\n",
    "\n",
    "synapses"
   ]
  },
  {
   "cell_type": "code",
   "execution_count": 155,
   "id": "5996d523",
   "metadata": {},
   "outputs": [],
   "source": [
    "cell_types = [\"exc\", \"BC\", \"BPC\", \"MC\", \"NGC\"]\n",
    "ctype_to_layer = {\"23P\": \"23\",\n",
    "                 \"4P\": \"4\",\n",
    "                 \"5P_PT\": \"5\",\n",
    "                 \"5P_IT\": \"5\",\n",
    "                 \"5P_NP\": \"5\",\n",
    "                 \"6P\": \"6\",\n",
    "                 \"6CT\": \"6\",\n",
    "                 \"6IT\": \"6\"}"
   ]
  },
  {
   "cell_type": "code",
   "execution_count": 156,
   "id": "724e1433",
   "metadata": {},
   "outputs": [],
   "source": [
    "# cross sectional area to be layered\n",
    "xarea = resolution[0] * resolution[2] * (bbox[1][0] - bbox[0][0]) * (bbox[1][2] - bbox[0][2]) / 1_000_000 ** 2"
   ]
  },
  {
   "cell_type": "code",
   "execution_count": 157,
   "id": "6fbb005d",
   "metadata": {},
   "outputs": [
    {
     "data": {
      "text/plain": [
       "(0.358016, 1.086656)"
      ]
     },
     "execution_count": 157,
     "metadata": {},
     "output_type": "execute_result"
    }
   ],
   "source": [
    "# min is pia border (L1) and max is white matter border (L6)\n",
    "min_y = min(pt[1] * y_resolution / 1_000_000 for pt in auto_col_cells.pt_position)\n",
    "max_y = max(pt[1] * y_resolution / 1_000_000 for pt in auto_col_cells.pt_position)\n",
    "min_y, max_y"
   ]
  },
  {
   "cell_type": "code",
   "execution_count": 158,
   "id": "9bbbffad",
   "metadata": {},
   "outputs": [],
   "source": [
    "auto_col_cells = auto_col_cells.sort_values(axis=\"index\", by=\"pt_position\", key=lambda xs: pd.Series([x[1] for x in xs]))\n",
    "\n",
    "def get_cutoff_idx(df, y, prev_cutoff_idx, position_col=\"pt_position\"):\n",
    "    \"\"\"efficiently find the rows deeper than the row at prev_cutoff_idx but shallower than y\n",
    "    in a sorted dataframe of pt_positions\"\"\"\n",
    "    # first index where pt_position[1] is greater than curr_y + bin_width \n",
    "    i = prev_cutoff_idx\n",
    "    while df.iloc[i][position_col][1] * y_resolution / 1_000_000 < y:\n",
    "        i += 1\n",
    "        if i >= len(df):\n",
    "            return i\n",
    "    return i  # new_cutoff_idx"
   ]
  },
  {
   "cell_type": "code",
   "execution_count": null,
   "id": "4d286203",
   "metadata": {},
   "outputs": [],
   "source": []
  },
  {
   "cell_type": "code",
   "execution_count": 159,
   "id": "ef663468",
   "metadata": {},
   "outputs": [],
   "source": [
    "exc_soma_densities = []\n",
    "inh_soma_densities = []\n",
    "synapse_densities = []\n",
    "# syn_densities_by_pre = dict((t, []) for t in syn_depths_by_pre.keys())\n",
    "# syn_densities_by_post = dict((t, []) for t in syn_depths_by_post.keys())\n",
    "p_type = dict((t, []) for t in [\"23\", \"4\", \"5\", \"6\"])\n",
    "p_inh_subclass = dict((t, []) for t in [\"BC\", \"BPC\", \"MC\", \"NGC\"])\n",
    "exc_soma_features_by_depth = dict((f, []) for f in features)\n",
    "inh_soma_features_by_depth = dict((f, []) for f in features)\n",
    "soma_features_by_depth = dict((f, []) for f in features)\n",
    "bin_centers = []\n",
    "\n",
    "curr_y = min_y\n",
    "prev_cutoff_idx = 0\n",
    "while curr_y < max_y:\n",
    "    bin_centers.append(curr_y + bin_width // 2)\n",
    "    # first index where pt_position[1] is greater than curr_y + bin_width \n",
    "    cutoff_idx = get_cutoff_idx(auto_col_cells, curr_y + bin_width, prev_cutoff_idx)\n",
    "    \n",
    "    current_cells = auto_col_cells.iloc[prev_cutoff_idx:cutoff_idx]\n",
    "    current_exc_cells = current_cells.query(\"classification_system == 'aibs_coarse_excitatory'\")\n",
    "    current_inh_cells = current_cells.query(\"classification_system == 'aibs_coarse_inhibitory'\")\n",
    "    \n",
    "    for f in features:\n",
    "        soma_features_by_depth[f].append(current_cells[f].mean())\n",
    "        exc_soma_features_by_depth[f].append(current_exc_cells[f].mean())\n",
    "        inh_soma_features_by_depth[f].append(current_inh_cells[f].mean())\n",
    "                          \n",
    "    for t in p_type:\n",
    "        p_type[t].append(0)\n",
    "    for i in current_exc_cells.index:\n",
    "        if current_exc_cells.loc[i].cell_type != \"Unsure\":\n",
    "            p_type[ctype_to_layer[current_exc_cells.loc[i].cell_type]][-1] += 1 / len(current_exc_cells) if len(current_exc_cells) > 0 else np.nan\n",
    "    exc_soma_densities.append(len(current_exc_cells))\n",
    "    \n",
    "    inh_soma_densities.append(len(current_inh_cells))\n",
    "    for t in p_inh_subclass:\n",
    "        p_inh_subclass[t].append(0)\n",
    "    for i in current_inh_cells.index:\n",
    "        if current_inh_cells.loc[i].cell_type != \"Unsure\":\n",
    "            p_inh_subclass[current_inh_cells.loc[i].cell_type][-1] += 1 / len(current_inh_cells) if len(current_inh_cells) > 0 else np.nan\n",
    "            \n",
    "    # # this is still slow\n",
    "    # synapse_densities.append(sum((curr_y <= syn_depths) & (syn_depths < curr_y + bin_width)))\n",
    "    # for t in syn_densities_by_pre.keys():\n",
    "    #     syn_densities_by_pre[t].append(sum((curr_y <= syn_depths_by_pre[t]) & (syn_depths_by_pre[t] < curr_y + bin_width)))\n",
    "    # for t in syn_densities_by_post.keys():\n",
    "    #     syn_densities_by_post[t].append(sum((curr_y <= syn_depths_by_post[t]) & (syn_depths_by_post[t] < curr_y + bin_width)))\n",
    "    \n",
    "    curr_y += step_size\n",
    "    prev_cutoff_idx = cutoff_idx\n",
    "bin_centers = np.array(bin_centers)\n",
    "exc_soma_densities = np.array(exc_soma_densities, dtype=float) / (bin_width * xarea)  # per mm^3\n",
    "inh_soma_densities = np.array(inh_soma_densities, dtype=float) / (bin_width * xarea)\n",
    "# synapse_densities = np.array(synapse_densities, dtype=float) / (bin_width * xarea)\n",
    "for t in p_type:\n",
    "    p_type[t] = np.array(p_type[t])\n",
    "for t in p_inh_subclass:\n",
    "    p_inh_subclass[t] = np.array(p_inh_subclass[t])\n",
    "# for t in syn_densities_by_pre:\n",
    "#     syn_densities_by_pre[t] = np.array(syn_densities_by_pre[t]) / (bin_width * xarea)\n",
    "# for t in syn_depths_by_post:\n",
    "#     syn_densities_by_post[t] = np.array(syn_densities_by_post[t]) / (bin_width * xarea)"
   ]
  },
  {
   "cell_type": "markdown",
   "id": "3cd5e2f6",
   "metadata": {},
   "source": [
    "L1: low soma density\n",
    "L2: high soma density\n",
    "L3: med soma density\n",
    "L4: high soma density\n",
    "L5: med soma density, large soma\n",
    "L6: medhigh soma density\n",
    "\n",
    "L1-L2\t107000\n",
    "\n",
    "L3-L4\t147000\n",
    "L4-L5\t184000\n",
    "L5-L6\t224000\n",
    "L6-WM\t265000"
   ]
  },
  {
   "cell_type": "code",
   "execution_count": 215,
   "id": "546697b6",
   "metadata": {
    "scrolled": false
   },
   "outputs": [
    {
     "data": {
      "image/png": "[encoded data removed]",
      "text/plain": [
       "<Figure size 780x520 with 2 Axes>"
      ]
     },
     "metadata": {
      "needs_background": "light"
     },
     "output_type": "display_data"
    }
   ],
   "source": [
    "fig, ax = plt.subplots(1, 1, figsize=(6, 4), dpi=130)\n",
    "ax2 = ax.twinx()\n",
    "# ax.plot(bin_centers, inh_soma_densities, c=\"indigo\", label=\"inh soma density\")\n",
    "ax2.plot(bin_centers, exc_soma_densities / np.nanmax(exc_soma_densities), c=\"lime\", label=\"exc soma density\")\n",
    "ax2.plot(bin_centers, normalized_smooth_exc_densities, \":r\", label=\"exc soma density fit\")\n",
    "# ax.plot(bin_centers, smooth_exc_deriv * 5, \":r\", label=\"exc fit deriv\")\n",
    "for f in features:\n",
    "    ax2.plot(bin_centers, exc_soma_features_by_depth[f] / np.nanmax(exc_soma_features_by_depth[f]), linestyle=\"-\", label=\"exc \" + f)\n",
    "    ax2.plot(bin_centers, normalized_smooth_exc_features[f], linestyle=\":\", label=\"exc fit \" + f)\n",
    "#     ax2.plot(bin_centers, inh_soma_features_by_depth[f] / max(inh_soma_features_by_depth[f]), linestyle=\"-\", label=\"inh \" + f)\n",
    "#     ax2.plot(bin_centers, soma_features_by_depth[f] / max(soma_features_by_depth[f]), linestyle=\"-\", label=f)\n",
    "\n",
    "# ax.plot(bin_centers, synapse_densities, label=\"syn\")\n",
    "# for t in syn_densities_by_pre:\n",
    "#     ax2.plot(bin_centers, syn_densities_by_pre[t], label=t)\n",
    "# for t in syn_densities_by_post:\n",
    "#     ax2.plot(bin_centers, syn_densities_by_post[t], label=t)\n",
    "    \n",
    "# for t in p_type:\n",
    "#     ax2.plot(bin_centers, p_type[t])\n",
    "# for c in p_inh_subclass:\n",
    "#     ax2.plot(bin_centers, p_inh_subclass[c], label=c)\n",
    "# cells_to_plot = col_cells\n",
    "# indices_to_plot = np.random.choice(cells_to_plot.index, 500)\n",
    "# for cell in indices_to_plot:\n",
    "#     if cells_to_plot.loc[cell].cell_type == \"23P\":\n",
    "#         ax2.axvline(cells_to_plot.loc[cell].pt_position[1] * y_resolution / 1_000_000, color=\"red\", alpha=0.1)\n",
    "\n",
    "#     if cells_to_plot.loc[cell].cell_type == \"4P\":\n",
    "#         ax2.axvline(cells_to_plot.loc[cell].pt_position[1] * y_resolution / 1_000_000, color=\"y\", alpha=0.1)\n",
    "\n",
    "#     if cells_to_plot.loc[cell].cell_type.startswith(\"5P\"):\n",
    "#         ax2.axvline(cells_to_plot.loc[cell].pt_position[1] * y_resolution / 1_000_000, color=\"orange\", alpha=0.1)\n",
    "\n",
    "#     if cells_to_plot.loc[cell].cell_type in [\"6P\", \"6IT\", \"6CT\"]:\n",
    "#         ax2.axvline(cells_to_plot.loc[cell].pt_position[1] * y_resolution / 1_000_000, color=\"green\", alpha=0.1)\n",
    "\n",
    "#     if cells_to_plot.loc[cell].cell_type.startswith(\"Unsure\"):\n",
    "#         ax2.axvline(cells_to_plot.loc[cell].pt_position[1] * y_resolution / 1_000_000, color=\"brown\", alpha=0.1)\n",
    "\n",
    "ax.axvline(labels[0], linestyle=\"--\", color=\"k\", label=\"manual\")\n",
    "for lab in labels[1:]:\n",
    "    ax.axvline(lab, linestyle=\"--\", color=\"k\")\n",
    "ax.axvline(bounds[0], linestyle=\"--\", color=\"blue\", label=\"automatic\")\n",
    "for bound in bounds[1:]:\n",
    "    ax.axvline(bound, linestyle=\"--\", color=\"blue\")\n",
    "plt.plot(bin_centers, transitionness * 5, label=\"transitionness\")\n",
    "ax.legend(bbox_to_anchor=[1.01, 1])\n",
    "ax2.legend(bbox_to_anchor=[1.1, 0.3])\n",
    "ax.set_xlabel(\"depth ($mm$)\")\n",
    "ax.set_ylabel(\"soma density (per $mm^{3}$)\")\n",
    "# ax2.set_ylabel(\"synapse density (per $mm^3$)\")\n",
    "plt.show()"
   ]
  },
  {
   "cell_type": "markdown",
   "id": "057e861a",
   "metadata": {},
   "source": [
    "# Hidden Markov Model implementation"
   ]
  },
  {
   "cell_type": "code",
   "execution_count": 161,
   "id": "84cf638f",
   "metadata": {},
   "outputs": [],
   "source": [
    "from hmmlearn import hmm"
   ]
  },
  {
   "cell_type": "code",
   "execution_count": 205,
   "id": "d17aa6e9",
   "metadata": {},
   "outputs": [],
   "source": [
    "hmm.GaussianHMM?"
   ]
  },
  {
   "cell_type": "code",
   "execution_count": 206,
   "id": "4ededccb",
   "metadata": {},
   "outputs": [
    {
     "data": {
      "text/plain": [
       "array([[0.5 , 0.5 , 0.  , 0.  , 0.  , 0.  ],\n",
       "       [0.  , 0.96, 0.04, 0.  , 0.  , 0.  ],\n",
       "       [0.  , 0.  , 0.96, 0.04, 0.  , 0.  ],\n",
       "       [0.  , 0.  , 0.  , 0.96, 0.04, 0.  ],\n",
       "       [0.  , 0.  , 0.  , 0.  , 0.96, 0.04],\n",
       "       [0.  , 0.  , 0.  , 0.  , 0.  , 1.  ]])"
      ]
     },
     "execution_count": 206,
     "metadata": {},
     "output_type": "execute_result"
    }
   ],
   "source": [
    "model = hmm.GaussianHMM(n_components=6, covariance_type=\"diag\", init_params=\"\", params=\"mc\")\n",
    "# the model starts in the first state, and there is 0 probability of starting elsewhere\n",
    "model.startprob_ = np.zeros(model.n_components)\n",
    "model.startprob_[0] = 1\n",
    "p = 0.04\n",
    "transition_probs = np.full(model.n_components - 1, p)\n",
    "stay_probs = np.full(model.n_components, 1-p)\n",
    "transition_probs[0] = 0.5  # pia is small\n",
    "stay_probs[0] = 0.5\n",
    "stay_probs[-1] = 1  # nothing deeper than white matter\n",
    "model.transmat_ = np.diag(stay_probs) + np.diag(transition_probs, k=1)\n",
    "model.transmat_"
   ]
  },
  {
   "cell_type": "code",
   "execution_count": 207,
   "id": "dcd4c5dd",
   "metadata": {},
   "outputs": [],
   "source": [
    "# initialize means and variances\n",
    "model.means_ = np.array([[0], [0.6], [0.7], [0.4], [0.5], [0]])  \n",
    "model.covars_ = np.full((model.n_components, 1), 0.1)\n",
    "observables, hidden_states = model.sample(101)"
   ]
  },
  {
   "cell_type": "code",
   "execution_count": 208,
   "id": "703e58e6",
   "metadata": {},
   "outputs": [],
   "source": [
    "varis = (exc_soma_densities / np.max(exc_soma_densities)).reshape(-1, 1)"
   ]
  },
  {
   "cell_type": "code",
   "execution_count": 209,
   "id": "bb4b7109",
   "metadata": {},
   "outputs": [
    {
     "data": {
      "text/plain": [
       "array([[0.5 , 0.5 , 0.  , 0.  , 0.  , 0.  ],\n",
       "       [0.  , 0.96, 0.04, 0.  , 0.  , 0.  ],\n",
       "       [0.  , 0.  , 0.96, 0.04, 0.  , 0.  ],\n",
       "       [0.  , 0.  , 0.  , 0.96, 0.04, 0.  ],\n",
       "       [0.  , 0.  , 0.  , 0.  , 0.96, 0.04],\n",
       "       [0.  , 0.  , 0.  , 0.  , 0.  , 1.  ]])"
      ]
     },
     "execution_count": 209,
     "metadata": {},
     "output_type": "execute_result"
    }
   ],
   "source": [
    "model.transmat_"
   ]
  },
  {
   "cell_type": "code",
   "execution_count": 211,
   "id": "2d867488",
   "metadata": {},
   "outputs": [
    {
     "name": "stdout",
     "output_type": "stream",
     "text": [
      "52.97813915932368 [[0.04883582]\n",
      " [0.49581308]\n",
      " [0.58442791]\n",
      " [0.28832533]\n",
      " [0.46801924]\n",
      " [0.17696507]]\n",
      "zeroed 48.18312563392061\n",
      "57.56997850381445 [[0.01001418]\n",
      " [0.46728053]\n",
      " [0.58644018]\n",
      " [0.28845172]\n",
      " [0.46813645]\n",
      " [0.17706426]]\n",
      "zeroed 54.26970292037396\n",
      "57.57068363282176 [[0.0100142 ]\n",
      " [0.46727711]\n",
      " [0.58623984]\n",
      " [0.28832692]\n",
      " [0.46777677]\n",
      " [0.17672713]]\n",
      "zeroed 54.28087373225382\n"
     ]
    }
   ],
   "source": [
    "prev_score = 0\n",
    "score = model.score(varis)\n",
    "while abs(score - prev_score) > 0.001:\n",
    "    model.fit(varis)\n",
    "    prev_score = score\n",
    "    score = model.score(varis)\n",
    "    print(score, model.means_)\n",
    "    model.means_[[0, -1]] = 0\n",
    "    print(\"zeroed\", model.score(varis))"
   ]
  },
  {
   "cell_type": "code",
   "execution_count": 212,
   "id": "947b3f83",
   "metadata": {},
   "outputs": [],
   "source": [
    "layers = model.predict(varis).tolist()"
   ]
  },
  {
   "cell_type": "code",
   "execution_count": 216,
   "id": "11d4bee1",
   "metadata": {},
   "outputs": [
    {
     "data": {
      "text/plain": [
       "'[0, 0, 0, 0, 0, 0, 0, 0, 0, 0, 1, 1, 1, 1, 1, 1, 1, 1, 1, 1, 1, 1, 1, 1, 1, 1, 1, 1, 1, 1, 1, 1, 1, 1, 1, 1, 1, 1, 1, 1, 1, 1, 1, 1, 1, 1, 1, 2, 2, 2, 2, 2, 2, 2, 2, 2, 2, 2, 2, 2, 2, 2, 2, 2, 2, 2, 2, 2, 2, 2, 2, 2, 3, 3, 3, 3, 3, 3, 3, 3, 3, 3, 3, 3, 3, 3, 3, 3, 3, 3, 3, 3, 3, 3, 3, 3, 3, 3, 3, 3, 3, 3, 3, 3, 3, 4, 4, 4, 4, 4, 4, 4, 4, 4, 4, 4, 4, 4, 4, 4, 4, 4, 4, 4, 4, 4, 4, 4, 4, 4, 4, 4, 4, 4, 4, 4, 4, 4, 4, 4, 4, 4, 4, 5, 5, 5]'"
      ]
     },
     "execution_count": 216,
     "metadata": {},
     "output_type": "execute_result"
    }
   ],
   "source": [
    "str(layers)"
   ]
  },
  {
   "cell_type": "code",
   "execution_count": 214,
   "id": "eeff1f5c",
   "metadata": {},
   "outputs": [
    {
     "name": "stdout",
     "output_type": "stream",
     "text": [
      "0.40801600000000005\n",
      "0.5930160000000002\n",
      "0.7180160000000003\n",
      "0.8830160000000005\n",
      "1.073015999999999\n"
     ]
    }
   ],
   "source": [
    "bounds = []\n",
    "for i in range(1, model.n_components):\n",
    "    idx = layers.index(i)\n",
    "    bounds.append(bin_centers[idx])\n",
    "    print(bin_centers[idx])\n",
    "bounds = np.array(bounds)"
   ]
  },
  {
   "cell_type": "markdown",
   "id": "6657bbb0",
   "metadata": {},
   "source": [
    "# Sum of magnitudes of fft-smoothed derivatives"
   ]
  },
  {
   "cell_type": "code",
   "execution_count": 170,
   "id": "c555b522",
   "metadata": {},
   "outputs": [],
   "source": [
    "from scipy import fft"
   ]
  },
  {
   "cell_type": "code",
   "execution_count": 171,
   "id": "73b16cfd",
   "metadata": {},
   "outputs": [],
   "source": [
    "freq_cutoff = 0.2\n",
    "cleaned = np.array(exc_soma_densities)\n",
    "mask = np.isfinite(cleaned)\n",
    "cleaned = np.interp(np.arange(len(cleaned)), np.arange(len(cleaned))[mask], cleaned[mask])\n",
    "cleaned /= cleaned.max()\n",
    "e_fft = fft.fft(cleaned)\n",
    "freqs = fft.fftfreq(len(exc_soma_densities))\n",
    "mask = abs(freqs) < freq_cutoff\n",
    "e_fft *= mask  # remove high frequency content (details/noise)\n",
    "e_fft_prime = e_fft * 1j * freqs  # take (spectral) derivative\n",
    "normalized_smooth_exc_densities = np.real(fft.ifft(e_fft))\n",
    "smooth_exc_soma_densities_deriv = np.real(fft.ifft(e_fft_prime))\n",
    "\n",
    "normalized_smooth_exc_features = dict() \n",
    "smooth_exc_feature_derivs = dict()\n",
    "for f in features:\n",
    "    cleaned = np.array(exc_soma_features_by_depth[f])\n",
    "    mask = np.isfinite(cleaned)\n",
    "    cleaned = np.interp(np.arange(len(cleaned)), np.arange(len(cleaned))[mask], cleaned[mask])\n",
    "    cleaned /= cleaned.max()\n",
    "    e_fft = fft.fft(cleaned)\n",
    "    freqs = fft.fftfreq(len(cleaned))\n",
    "    mask = abs(freqs) < freq_cutoff\n",
    "    e_fft *= mask  # remove high frequency content (details/noise)\n",
    "    e_fft_prime = e_fft * 1j * freqs  # take (spectral) derivative\n",
    "    normalized_smooth_exc_features[f] = np.real(fft.ifft(e_fft))\n",
    "    smooth_exc_feature_derivs[f] = np.real(fft.ifft(e_fft_prime))"
   ]
  },
  {
   "cell_type": "code",
   "execution_count": 172,
   "id": "03045a60",
   "metadata": {},
   "outputs": [
    {
     "data": {
      "text/plain": [
       "{'soma_volume': [nan,\n",
       "  nan,\n",
       "  nan,\n",
       "  nan,\n",
       "  nan,\n",
       "  nan,\n",
       "  700973745875.5697,\n",
       "  914474231362.6543,\n",
       "  nan,\n",
       "  nan,\n",
       "  911566265857.1487,\n",
       "  604510877899.3575,\n",
       "  744860094935.7012,\n",
       "  809454404675.1868,\n",
       "  693580802007.0685,\n",
       "  846349015231.9507,\n",
       "  877882191290.6494,\n",
       "  834317400618.1305,\n",
       "  835885617606.4106,\n",
       "  787975765325.1364,\n",
       "  738161927369.7578,\n",
       "  738387402959.2815,\n",
       "  818825406213.1057,\n",
       "  893636939231.5874,\n",
       "  803190121287.9177,\n",
       "  897066091553.288,\n",
       "  780612004215.0476,\n",
       "  856008055134.022,\n",
       "  812325731764.7339,\n",
       "  860091152303.4946,\n",
       "  888212106399.4254,\n",
       "  848142691143.679,\n",
       "  798467372988.1735,\n",
       "  830863678823.8469,\n",
       "  857399167801.1206,\n",
       "  956086572773.0874,\n",
       "  830120061510.7245,\n",
       "  793351260372.1598,\n",
       "  817385549706.3584,\n",
       "  892602479109.5332,\n",
       "  856121277602.2252,\n",
       "  912449985524.1272,\n",
       "  886544321897.0387,\n",
       "  758656264427.3007,\n",
       "  617148357862.1167,\n",
       "  782797049775.6631,\n",
       "  772075866968.8341,\n",
       "  730179410166.9943,\n",
       "  694092904239.8616,\n",
       "  702763865598.8494,\n",
       "  714853655268.3368,\n",
       "  653042512201.9097,\n",
       "  717313087544.9802,\n",
       "  657970021840.6886,\n",
       "  704026698099.245,\n",
       "  628456429989.0284,\n",
       "  668574945094.302,\n",
       "  661048328402.7474,\n",
       "  672463152891.3008,\n",
       "  663618249297.9797,\n",
       "  662916597429.4159,\n",
       "  648683730817.8441,\n",
       "  630734745287.7216,\n",
       "  668996808746.8708,\n",
       "  715328198895.1466,\n",
       "  590697722537.6974,\n",
       "  640068064223.4745,\n",
       "  700930415733.7113,\n",
       "  646475483068.3295,\n",
       "  669387228237.9615,\n",
       "  698105469268.0961,\n",
       "  781055790540.4342,\n",
       "  824249984395.2877,\n",
       "  832893075910.1885,\n",
       "  818097142534.1992,\n",
       "  904971508251.6233,\n",
       "  1004611666761.8864,\n",
       "  997849556462.2661,\n",
       "  1044264361479.5914,\n",
       "  896490895922.3883,\n",
       "  1000988307236.975,\n",
       "  1136412097334.7095,\n",
       "  916323383369.8383,\n",
       "  1174935793336.817,\n",
       "  1438764265985.8516,\n",
       "  1126858798125.1511,\n",
       "  1324967715243.7068,\n",
       "  1594368637871.277,\n",
       "  943148817499.3365,\n",
       "  1412131263249.3186,\n",
       "  1414606008531.3135,\n",
       "  1536593821680.8628,\n",
       "  1326778377841.811,\n",
       "  1584962867858.9092,\n",
       "  1275871607054.078,\n",
       "  1967532824791.9736,\n",
       "  945650576462.2653,\n",
       "  1082919288907.5111,\n",
       "  843685257610.5549,\n",
       "  956777854803.6233,\n",
       "  1503627069943.4512,\n",
       "  831333832807.0753,\n",
       "  965269020793.8832,\n",
       "  980054363756.2369,\n",
       "  977006176010.1868,\n",
       "  839309933646.986,\n",
       "  859476314784.5928,\n",
       "  922783487747.4675,\n",
       "  755322148002.6898,\n",
       "  831816957978.5417,\n",
       "  880864946079.6187,\n",
       "  847414584264.4143,\n",
       "  893632980515.4191,\n",
       "  793280293989.3533,\n",
       "  850519219813.5392,\n",
       "  839483455210.7338,\n",
       "  829137112641.2067,\n",
       "  827490102424.1421,\n",
       "  873939839873.7266,\n",
       "  809146316132.8975,\n",
       "  777828465894.8917,\n",
       "  806614440933.8568,\n",
       "  822048223171.3785,\n",
       "  761132308014.0709,\n",
       "  874128779507.0638,\n",
       "  711359626146.0983,\n",
       "  883443463864.7352,\n",
       "  683407956989.1931,\n",
       "  817707936645.7344,\n",
       "  737681988795.4431,\n",
       "  729404781285.2036,\n",
       "  761803688427.5498,\n",
       "  718256140856.4629,\n",
       "  689584047210.0446,\n",
       "  833269659738.9841,\n",
       "  744511352857.4215,\n",
       "  873290846850.5254,\n",
       "  727508026040.0708,\n",
       "  986142129613.8496,\n",
       "  983442263207.9203,\n",
       "  818280251565.4742,\n",
       "  920409778912.0262,\n",
       "  1007766247954.7341,\n",
       "  nan,\n",
       "  nan,\n",
       "  nan]}"
      ]
     },
     "execution_count": 172,
     "metadata": {},
     "output_type": "execute_result"
    }
   ],
   "source": [
    "exc_soma_features_by_depth"
   ]
  },
  {
   "cell_type": "code",
   "execution_count": 173,
   "id": "ce16cf28",
   "metadata": {},
   "outputs": [],
   "source": [
    "transitionness = sum(np.abs(smooth_exc_feature_derivs[f]) for f in features) + smooth_exc_soma_densities_deriv"
   ]
  },
  {
   "cell_type": "code",
   "execution_count": 174,
   "id": "993c37ad",
   "metadata": {},
   "outputs": [
    {
     "data": {
      "text/plain": [
       "146"
      ]
     },
     "execution_count": 174,
     "metadata": {},
     "output_type": "execute_result"
    }
   ],
   "source": [
    "len(transitionness)"
   ]
  },
  {
   "cell_type": "markdown",
   "id": "7f5e9f91",
   "metadata": {},
   "source": [
    "# Boundary finding\n",
    "Ideas:\n",
    "Threshholds, except there is a weight to match these widths (L1-L2 boundary at 0.4mm, L2/3 0.18mm wide, L4 0.17mm wide\n",
    "\n",
    "## Nuno's Find the halfway points between the local extrema (but what about 3/4?)\n",
    "Use the fft-smoothed version of the data"
   ]
  },
  {
   "cell_type": "code",
   "execution_count": 121,
   "id": "aa7260a0",
   "metadata": {},
   "outputs": [],
   "source": [
    "bounds = np.empty(labels.shape)"
   ]
  },
  {
   "cell_type": "code",
   "execution_count": 122,
   "id": "bb691d9b",
   "metadata": {},
   "outputs": [],
   "source": [
    "def find_local_extrema(x):\n",
    "    \"\"\"specifically for the task of layer segmentation.\"\"\"\n",
    "    assert x[1] > x[0]\n",
    "    assert x[-2] > x[-1]\n",
    "    maxima_idxs = []\n",
    "    maxima = []\n",
    "    minima_idxs = [0]\n",
    "    minima = [x[0]]\n",
    "    for i in range(1, len(x) - 1):\n",
    "        if x[i-1] < x[i] and x[i] > x[i+1]:\n",
    "            maxima_idxs.append(i)\n",
    "            maxima.append(x[i])\n",
    "        if x[i-1] > x[i] and x[i] < x[i+1]:\n",
    "            minima_idxs.append(i)\n",
    "            minima.append(x[i])\n",
    "    minima_idxs.append(len(x) - 1)\n",
    "    minima.append(x[-1])\n",
    "    assert len(maxima_idxs) == 3\n",
    "    assert len(minima_idxs) == 4\n",
    "    return maxima_idxs, minima_idxs, maxima, minima"
   ]
  },
  {
   "cell_type": "code",
   "execution_count": 123,
   "id": "818efe79",
   "metadata": {},
   "outputs": [
    {
     "ename": "AssertionError",
     "evalue": "",
     "output_type": "error",
     "traceback": [
      "\u001b[1;31m---------------------------------------------------------------------------\u001b[0m",
      "\u001b[1;31mAssertionError\u001b[0m                            Traceback (most recent call last)",
      "\u001b[1;32m<ipython-input-123-a80eeccc5cec>\u001b[0m in \u001b[0;36m<module>\u001b[1;34m\u001b[0m\n\u001b[1;32m----> 1\u001b[1;33m \u001b[0mmaxima_idxs\u001b[0m\u001b[1;33m,\u001b[0m \u001b[0mminima_idxs\u001b[0m\u001b[1;33m,\u001b[0m \u001b[0mmaxima\u001b[0m\u001b[1;33m,\u001b[0m \u001b[0mminima\u001b[0m \u001b[1;33m=\u001b[0m \u001b[0mfind_local_extrema\u001b[0m\u001b[1;33m(\u001b[0m\u001b[0msmooth_exc_densities\u001b[0m\u001b[1;33m)\u001b[0m\u001b[1;33m\u001b[0m\u001b[0m\n\u001b[0m",
      "\u001b[1;32m<ipython-input-122-1fa34bf32ccd>\u001b[0m in \u001b[0;36mfind_local_extrema\u001b[1;34m(x)\u001b[0m\n\u001b[0;32m     16\u001b[0m     \u001b[0mminima_idxs\u001b[0m\u001b[1;33m.\u001b[0m\u001b[0mappend\u001b[0m\u001b[1;33m(\u001b[0m\u001b[0mlen\u001b[0m\u001b[1;33m(\u001b[0m\u001b[0mx\u001b[0m\u001b[1;33m)\u001b[0m \u001b[1;33m-\u001b[0m \u001b[1;36m1\u001b[0m\u001b[1;33m)\u001b[0m\u001b[1;33m\u001b[0m\u001b[0m\n\u001b[0;32m     17\u001b[0m     \u001b[0mminima\u001b[0m\u001b[1;33m.\u001b[0m\u001b[0mappend\u001b[0m\u001b[1;33m(\u001b[0m\u001b[0mx\u001b[0m\u001b[1;33m[\u001b[0m\u001b[1;33m-\u001b[0m\u001b[1;36m1\u001b[0m\u001b[1;33m]\u001b[0m\u001b[1;33m)\u001b[0m\u001b[1;33m\u001b[0m\u001b[0m\n\u001b[1;32m---> 18\u001b[1;33m     \u001b[1;32massert\u001b[0m \u001b[0mlen\u001b[0m\u001b[1;33m(\u001b[0m\u001b[0mmaxima_idxs\u001b[0m\u001b[1;33m)\u001b[0m \u001b[1;33m==\u001b[0m \u001b[1;36m3\u001b[0m\u001b[1;33m\u001b[0m\u001b[0m\n\u001b[0m\u001b[0;32m     19\u001b[0m     \u001b[1;32massert\u001b[0m \u001b[0mlen\u001b[0m\u001b[1;33m(\u001b[0m\u001b[0mminima_idxs\u001b[0m\u001b[1;33m)\u001b[0m \u001b[1;33m==\u001b[0m \u001b[1;36m4\u001b[0m\u001b[1;33m\u001b[0m\u001b[0m\n\u001b[0;32m     20\u001b[0m     \u001b[1;32mreturn\u001b[0m \u001b[0mmaxima_idxs\u001b[0m\u001b[1;33m,\u001b[0m \u001b[0mminima_idxs\u001b[0m\u001b[1;33m,\u001b[0m \u001b[0mmaxima\u001b[0m\u001b[1;33m,\u001b[0m \u001b[0mminima\u001b[0m\u001b[1;33m\u001b[0m\u001b[0m\n",
      "\u001b[1;31mAssertionError\u001b[0m: "
     ]
    }
   ],
   "source": [
    "maxima_idxs, minima_idxs, maxima, minima = find_local_extrema(smooth_exc_densities)"
   ]
  },
  {
   "cell_type": "code",
   "execution_count": 82,
   "id": "848e8c91",
   "metadata": {},
   "outputs": [
    {
     "name": "stderr",
     "output_type": "stream",
     "text": [
      "C:\\Users\\ATMal\\miniconda3\\envs\\ofs\\lib\\site-packages\\ipykernel_launcher.py:4: ComplexWarning: Casting complex values to real discards the imaginary part\n",
      "  after removing the cwd from sys.path.\n",
      "C:\\Users\\ATMal\\miniconda3\\envs\\ofs\\lib\\site-packages\\ipykernel_launcher.py:14: ComplexWarning: Casting complex values to real discards the imaginary part\n",
      "  \n"
     ]
    },
    {
     "ename": "IndexError",
     "evalue": "index 37 is out of bounds for axis 0 with size 37",
     "output_type": "error",
     "traceback": [
      "\u001b[1;31m---------------------------------------------------------------------------\u001b[0m",
      "\u001b[1;31mIndexError\u001b[0m                                Traceback (most recent call last)",
      "\u001b[1;32m<ipython-input-82-4b050a234dd6>\u001b[0m in \u001b[0;36m<module>\u001b[1;34m\u001b[0m\n\u001b[0;32m     11\u001b[0m \u001b[0mthresh\u001b[0m \u001b[1;33m=\u001b[0m \u001b[1;33m(\u001b[0m\u001b[0mminima\u001b[0m\u001b[1;33m[\u001b[0m\u001b[1;36m2\u001b[0m\u001b[1;33m]\u001b[0m \u001b[1;33m+\u001b[0m \u001b[0mmaxima\u001b[0m\u001b[1;33m[\u001b[0m\u001b[1;36m1\u001b[0m\u001b[1;33m]\u001b[0m\u001b[1;33m)\u001b[0m \u001b[1;33m/\u001b[0m  \u001b[1;36m2\u001b[0m\u001b[1;33m\u001b[0m\u001b[0m\n\u001b[0;32m     12\u001b[0m \u001b[1;32mfor\u001b[0m \u001b[0mi\u001b[0m \u001b[1;32min\u001b[0m \u001b[0mrange\u001b[0m\u001b[1;33m(\u001b[0m\u001b[0mmaxima_idxs\u001b[0m\u001b[1;33m[\u001b[0m\u001b[1;36m1\u001b[0m\u001b[1;33m]\u001b[0m \u001b[1;33m+\u001b[0m \u001b[1;36m1\u001b[0m\u001b[1;33m,\u001b[0m \u001b[0mminima_idxs\u001b[0m\u001b[1;33m[\u001b[0m\u001b[1;36m2\u001b[0m\u001b[1;33m]\u001b[0m\u001b[1;33m)\u001b[0m\u001b[1;33m:\u001b[0m\u001b[1;33m\u001b[0m\u001b[0m\n\u001b[1;32m---> 13\u001b[1;33m     \u001b[1;32mif\u001b[0m \u001b[0msmooth_exc_densities\u001b[0m\u001b[1;33m[\u001b[0m\u001b[0mi\u001b[0m\u001b[1;33m]\u001b[0m \u001b[1;33m<\u001b[0m \u001b[0mthresh\u001b[0m \u001b[1;33m<\u001b[0m \u001b[0msmooth_exc_densities\u001b[0m\u001b[1;33m[\u001b[0m\u001b[0mi\u001b[0m \u001b[1;33m-\u001b[0m \u001b[1;36m1\u001b[0m\u001b[1;33m]\u001b[0m\u001b[1;33m:\u001b[0m\u001b[1;33m\u001b[0m\u001b[0m\n\u001b[0m\u001b[0;32m     14\u001b[0m         \u001b[0mbounds\u001b[0m\u001b[1;33m[\u001b[0m\u001b[1;36m2\u001b[0m\u001b[1;33m]\u001b[0m \u001b[1;33m=\u001b[0m \u001b[0mbin_centers\u001b[0m\u001b[1;33m[\u001b[0m\u001b[0mi\u001b[0m \u001b[1;33m-\u001b[0m \u001b[1;36m1\u001b[0m\u001b[1;33m]\u001b[0m \u001b[1;33m+\u001b[0m \u001b[0mstep_size\u001b[0m \u001b[1;33m*\u001b[0m \u001b[1;33m(\u001b[0m\u001b[0mthresh\u001b[0m \u001b[1;33m-\u001b[0m \u001b[0msmooth_exc_densities\u001b[0m\u001b[1;33m[\u001b[0m\u001b[0mi\u001b[0m \u001b[1;33m-\u001b[0m \u001b[1;36m1\u001b[0m\u001b[1;33m]\u001b[0m\u001b[1;33m)\u001b[0m \u001b[1;33m/\u001b[0m \u001b[1;33m(\u001b[0m\u001b[0msmooth_exc_densities\u001b[0m\u001b[1;33m[\u001b[0m\u001b[0mi\u001b[0m\u001b[1;33m]\u001b[0m \u001b[1;33m-\u001b[0m \u001b[0msmooth_exc_densities\u001b[0m\u001b[1;33m[\u001b[0m\u001b[0mi\u001b[0m \u001b[1;33m-\u001b[0m \u001b[1;36m1\u001b[0m\u001b[1;33m]\u001b[0m\u001b[1;33m)\u001b[0m\u001b[1;33m\u001b[0m\u001b[0m\n\u001b[0;32m     15\u001b[0m \u001b[1;33m\u001b[0m\u001b[0m\n",
      "\u001b[1;31mIndexError\u001b[0m: index 37 is out of bounds for axis 0 with size 37"
     ]
    }
   ],
   "source": [
    "thresh = (minima[0] + maxima[0]) /  2\n",
    "for i in range(minima_idxs[0] + 1, maxima_idxs[0]):\n",
    "    if smooth_exc_densities[i] > thresh > smooth_exc_densities[i - 1]:\n",
    "        bounds[0] = bin_centers[i - 1] + step_size * (thresh - smooth_exc_densities[i - 1]) / (smooth_exc_densities[i] - smooth_exc_densities[i - 1])  # linear interpolate\n",
    "        \n",
    "thresh = (minima[1] + maxima[1]) /  2  # NOTE: we skip one threshold (perhaps L2-L3 boundary?)\n",
    "for i in range(minima_idxs[1] + 1, maxima_idxs[1]):\n",
    "    if smooth_exc_densities[i] > thresh > smooth_exc_densities[i - 1]:\n",
    "        bounds[1] = bin_centers[i - 1] + step_size * (thresh - smooth_exc_densities[i - 1]) / (smooth_exc_densities[i] - smooth_exc_densities[i - 1])\n",
    "        \n",
    "thresh = (minima[2] + maxima[1]) /  2\n",
    "for i in range(maxima_idxs[1] + 1, minima_idxs[2]):\n",
    "    if smooth_exc_densities[i] < thresh < smooth_exc_densities[i - 1]:\n",
    "        bounds[2] = bin_centers[i - 1] + step_size * (thresh - smooth_exc_densities[i - 1]) / (smooth_exc_densities[i] - smooth_exc_densities[i - 1])\n",
    "        \n",
    "thresh = (minima[2] + maxima[2]) /  2\n",
    "for i in range(minima_idxs[2] + 1, maxima_idxs[2]):\n",
    "    if smooth_exc_densities[i] > thresh > smooth_exc_densities[i - 1]:\n",
    "        bounds[3] = bin_centers[i - 1] + step_size * (thresh - smooth_exc_densities[i - 1]) / (smooth_exc_densities[i] - smooth_exc_densities[i - 1])\n",
    "        \n",
    "thresh = (minima[3] + maxima[2]) /  2\n",
    "for i in range(maxima_idxs[2] + 1, minima_idxs[3]):\n",
    "    if smooth_exc_densities[i] < thresh < smooth_exc_densities[i - 1]:\n",
    "        bounds[4] = bin_centers[i - 1] + step_size * (thresh - smooth_exc_densities[i - 1]) / (smooth_exc_densities[i] - smooth_exc_densities[i - 1])"
   ]
  },
  {
   "cell_type": "markdown",
   "id": "c5dbaf6e",
   "metadata": {},
   "source": [
    "## Weighted combination of depth, excitatory density, and cell type\n",
    "It turns out cell type was heavily determined by depth, so this method is not very good"
   ]
  },
  {
   "cell_type": "code",
   "execution_count": 50,
   "id": "1325b08e",
   "metadata": {},
   "outputs": [],
   "source": [
    "bounds = np.empty(labels.shape)"
   ]
  },
  {
   "cell_type": "code",
   "execution_count": 51,
   "id": "3744e65e",
   "metadata": {},
   "outputs": [],
   "source": [
    "def gaussian(x, center=0, size=1):\n",
    "    \"\"\" gaussian with max=1\"\"\"\n",
    "    return np.exp(-(x - center)**2 / (2*size**2))\n",
    "\n",
    "def decreasing_mask(x):\n",
    "    \"\"\" Finds the indices where x[i] > x[i-1], and returns a boolean array of the same shape.\n",
    "    The first index of the result takes the same value as the second.\n",
    "    \"\"\"\n",
    "    if len(x) < 2:\n",
    "        return np.full(len(x), False)\n",
    "    result = [x[i-1] > x[i] for i in range(1, len(x))]\n",
    "    result = [result[0]] + result\n",
    "    return np.array(result)\n"
   ]
  },
  {
   "cell_type": "code",
   "execution_count": 52,
   "id": "5e5bcbef",
   "metadata": {},
   "outputs": [],
   "source": [
    "# L1-L2 boundary\n",
    "depth = 0.4 # mm\n",
    "exc_density_thresh = 150_000  # somas per micron depth (in a 0.100 x 0.100 mm area)\n",
    "# the L1-L2 boundary is not going to be deeper than 0.7 mm\n",
    "# and must be during increasing density portion\n",
    "possible_idxs = np.nonzero((bin_centers < 0.7) \\\n",
    "                & ~decreasing_mask(exc_soma_densities))[0]  \n",
    "quality = gaussian(exc_soma_densities[possible_idxs], center=exc_density_thresh, size=20_000) \\\n",
    "          * gaussian(bin_centers[possible_idxs], center=depth, size=0.08)\n",
    "bounds[0] = bin_centers[possible_idxs[np.argmax(quality)]]"
   ]
  },
  {
   "cell_type": "code",
   "execution_count": 53,
   "id": "88c6b10c",
   "metadata": {},
   "outputs": [
    {
     "data": {
      "text/plain": [
       "array([ 0,  1,  2,  3,  4,  5,  6,  7,  8, 12, 14, 15, 16, 17, 19, 20, 21,\n",
       "       22, 23, 25, 26, 27, 28, 30, 31], dtype=int64)"
      ]
     },
     "execution_count": 53,
     "metadata": {},
     "output_type": "execute_result"
    }
   ],
   "source": [
    "np.nonzero((bin_centers < 0.7) \\\n",
    "                & ~decreasing_mask(exc_soma_densities))[0]  "
   ]
  },
  {
   "cell_type": "code",
   "execution_count": 16,
   "id": "bd4ffc27",
   "metadata": {},
   "outputs": [],
   "source": [
    "# plt.plot(bin_centers[possible_idxs], gaussian(exc_soma_densities[possible_idxs], center=exc_density_thresh, size=20_000))\n",
    "# plt.plot(bin_centers[possible_idxs], gaussian(bin_centers[possible_idxs], center=depth, size=0.08))\n",
    "# plt.plot(bin_centers[possible_idxs], quality)"
   ]
  },
  {
   "cell_type": "code",
   "execution_count": 105,
   "id": "e773d0d4",
   "metadata": {},
   "outputs": [],
   "source": [
    "# L3-L4 boundary\n",
    "depth = bounds[0] + 0.18\n",
    "layer = \"23\"\n",
    "# and must be during increasing density portion  (I know index 0 is messed up--it shouldn't matter)\n",
    "possible_idxs = np.nonzero(decreasing_mask(p_type[layer]))[0]\n",
    "quality = gaussian(p_type[layer][possible_idxs], center=0.5, size=0.1) \\\n",
    "          * gaussian(bin_centers[possible_idxs], center=depth, size=0.08)\n",
    "bounds[1] = bin_centers[possible_idxs[np.argmax(quality)]]"
   ]
  },
  {
   "cell_type": "code",
   "execution_count": 17,
   "id": "6234360e",
   "metadata": {},
   "outputs": [],
   "source": [
    "# plt.plot(bin_centers[possible_idxs], gaussian(p_type[layer][possible_idxs], center=0.5, size=0.1))\n",
    "# plt.plot(bin_centers[possible_idxs], gaussian(bin_centers[possible_idxs], center=depth, size=0.08))\n",
    "# # plt.plot(bin_centers, decreasing_mask(p_type[layer]))"
   ]
  },
  {
   "cell_type": "code",
   "execution_count": 107,
   "id": "1fcfe125",
   "metadata": {},
   "outputs": [],
   "source": [
    "# L4-L5 boundary\n",
    "depth = bounds[1] + 0.17\n",
    "exc_density_cutoff = 170_000\n",
    "layer = \"4\"\n",
    "# and must be during increasing density portion  (I know index 0 is messed up--it shouldn't matter)\n",
    "possible_idxs = np.nonzero(decreasing_mask(p_type[layer])\n",
    "                          & decreasing_mask(exc_soma_densities))[0]\n",
    "quality = gaussian(p_type[layer][possible_idxs], center=0.5, size=0.1) \\\n",
    "          * gaussian(bin_centers[possible_idxs], center=depth, size=0.08) \\\n",
    "          * gaussian(exc_soma_densities[possible_idxs], center=exc_density_cutoff, size=20_000)\n",
    "bounds[2] = bin_centers[possible_idxs[np.argmax(quality)]]"
   ]
  },
  {
   "cell_type": "code",
   "execution_count": 18,
   "id": "60e55d89",
   "metadata": {},
   "outputs": [],
   "source": [
    "# plt.plot(bin_centers[possible_idxs], gaussian(p_type[layer][possible_idxs], center=0.5, size=0.1))\n",
    "# plt.plot(bin_centers[possible_idxs], gaussian(bin_centers[possible_idxs], center=depth, size=0.08))\n",
    "# plt.plot(bin_centers[possible_idxs], gaussian(exc_soma_densities[possible_idxs], center=exc_density_cutoff, size=20_000))"
   ]
  },
  {
   "cell_type": "code",
   "execution_count": 111,
   "id": "d3fbe845",
   "metadata": {},
   "outputs": [],
   "source": [
    "# L5-L6 boundary\n",
    "depth = bounds[2] + 0.15\n",
    "exc_density_cutoff = 160_000\n",
    "layer = \"5\"\n",
    "# and must be during increasing density portion  (I know index 0 is messed up--it shouldn't matter)\n",
    "possible_idxs = np.nonzero(decreasing_mask(p_type[layer])\n",
    "                          & ~decreasing_mask(exc_soma_densities))[0]\n",
    "quality = gaussian(p_type[layer][possible_idxs], center=0.5, size=0.1) \\\n",
    "          * gaussian(bin_centers[possible_idxs], center=depth, size=0.08) \\\n",
    "          * gaussian(exc_soma_densities[possible_idxs], center=exc_density_cutoff, size=20_000)\n",
    "bounds[3] = bin_centers[possible_idxs[np.argmax(quality)]]"
   ]
  },
  {
   "cell_type": "code",
   "execution_count": 19,
   "id": "accd43d7",
   "metadata": {},
   "outputs": [],
   "source": [
    "# plt.plot(bin_centers[possible_idxs], gaussian(p_type[layer][possible_idxs], center=0.5, size=0.1))\n",
    "# plt.plot(bin_centers[possible_idxs], gaussian(bin_centers[possible_idxs], center=depth, size=0.08))\n",
    "# plt.plot(bin_centers[possible_idxs], gaussian(exc_soma_densities[possible_idxs], center=exc_density_cutoff, size=20_000))"
   ]
  },
  {
   "cell_type": "code",
   "execution_count": 123,
   "id": "de765ddd",
   "metadata": {},
   "outputs": [],
   "source": [
    "# L6-WM boundary\n",
    "depth = bounds[3] + 0.17\n",
    "exc_density_cutoff = 130_000\n",
    "# and must be during increasing density portion  (I know index 0 is messed up--it shouldn't matter)\n",
    "possible_idxs = np.nonzero((bin_centers > 0.95) & decreasing_mask(exc_soma_densities))[0]\n",
    "quality = gaussian(bin_centers[possible_idxs], center=depth, size=0.08) \\\n",
    "          * gaussian(exc_soma_densities[possible_idxs], center=exc_density_cutoff, size=20_000)\n",
    "bounds[4] = bin_centers[possible_idxs[np.argmax(quality)]]"
   ]
  },
  {
   "cell_type": "code",
   "execution_count": 20,
   "id": "cbbb6a38",
   "metadata": {},
   "outputs": [],
   "source": [
    "# plt.plot(bin_centers[possible_idxs], gaussian(bin_centers[possible_idxs], center=depth, size=0.08))\n",
    "# plt.plot(bin_centers[possible_idxs], gaussian(exc_soma_densities[possible_idxs], center=exc_density_cutoff, size=20_000))\n",
    "# # plt.plot(bin_centers[possible_idxs], quality)"
   ]
  },
  {
   "cell_type": "code",
   "execution_count": 129,
   "id": "4a072f1b",
   "metadata": {},
   "outputs": [
    {
     "ename": "ValueError",
     "evalue": "cannot convert float NaN to integer",
     "output_type": "error",
     "traceback": [
      "\u001b[1;31m---------------------------------------------------------------------------\u001b[0m",
      "\u001b[1;31mValueError\u001b[0m                                Traceback (most recent call last)",
      "\u001b[1;32m<ipython-input-129-644738c2866e>\u001b[0m in \u001b[0;36m<module>\u001b[1;34m\u001b[0m\n\u001b[0;32m      2\u001b[0m \u001b[0max\u001b[0m\u001b[1;33m.\u001b[0m\u001b[0mplot\u001b[0m\u001b[1;33m(\u001b[0m\u001b[0mbin_centers\u001b[0m\u001b[1;33m,\u001b[0m \u001b[0mexc_soma_densities\u001b[0m\u001b[1;33m,\u001b[0m \u001b[0mc\u001b[0m\u001b[1;33m=\u001b[0m\u001b[1;34m\"lime\"\u001b[0m\u001b[1;33m,\u001b[0m \u001b[0mlabel\u001b[0m\u001b[1;33m=\u001b[0m\u001b[1;34m\"exc\"\u001b[0m\u001b[1;33m)\u001b[0m\u001b[1;33m\u001b[0m\u001b[0m\n\u001b[0;32m      3\u001b[0m \u001b[0max\u001b[0m\u001b[1;33m.\u001b[0m\u001b[0mplot\u001b[0m\u001b[1;33m(\u001b[0m\u001b[0mbin_centers\u001b[0m\u001b[1;33m,\u001b[0m \u001b[0minh_soma_densities\u001b[0m\u001b[1;33m,\u001b[0m \u001b[0mc\u001b[0m\u001b[1;33m=\u001b[0m\u001b[1;34m\"indigo\"\u001b[0m\u001b[1;33m,\u001b[0m \u001b[0mlabel\u001b[0m\u001b[1;33m=\u001b[0m\u001b[1;34m\"inh\"\u001b[0m\u001b[1;33m)\u001b[0m\u001b[1;33m\u001b[0m\u001b[0m\n\u001b[1;32m----> 4\u001b[1;33m \u001b[0max\u001b[0m\u001b[1;33m.\u001b[0m\u001b[0mplot\u001b[0m\u001b[1;33m(\u001b[0m\u001b[0mbin_centers\u001b[0m\u001b[1;33m,\u001b[0m \u001b[0mavg_volumes\u001b[0m \u001b[1;33m*\u001b[0m \u001b[0mmax\u001b[0m\u001b[1;33m(\u001b[0m\u001b[0mexc_soma_densities\u001b[0m\u001b[1;33m)\u001b[0m \u001b[1;33m/\u001b[0m \u001b[0mmax\u001b[0m\u001b[1;33m(\u001b[0m\u001b[0mavg_volumes\u001b[0m\u001b[1;33m)\u001b[0m\u001b[1;33m,\u001b[0m \u001b[0mlabel\u001b[0m\u001b[1;33m=\u001b[0m\u001b[1;34mf\"avg nuc volume ($\\mu m * {round(max(avg_volumes) / max(exc_soma_densities))}$)\"\u001b[0m\u001b[1;33m)\u001b[0m\u001b[1;33m\u001b[0m\u001b[0m\n\u001b[0m\u001b[0;32m      5\u001b[0m \u001b[1;32mfor\u001b[0m \u001b[0mt\u001b[0m \u001b[1;32min\u001b[0m \u001b[0mp_type\u001b[0m\u001b[1;33m:\u001b[0m\u001b[1;33m\u001b[0m\u001b[0m\n\u001b[0;32m      6\u001b[0m     \u001b[0max\u001b[0m\u001b[1;33m.\u001b[0m\u001b[0mplot\u001b[0m\u001b[1;33m(\u001b[0m\u001b[0mbin_centers\u001b[0m\u001b[1;33m,\u001b[0m \u001b[0mp_type\u001b[0m\u001b[1;33m[\u001b[0m\u001b[0mt\u001b[0m\u001b[1;33m]\u001b[0m \u001b[1;33m*\u001b[0m \u001b[1;36m100_000\u001b[0m\u001b[1;33m)\u001b[0m\u001b[1;33m\u001b[0m\u001b[0m\n",
      "\u001b[1;31mValueError\u001b[0m: cannot convert float NaN to integer"
     ]
    },
    {
     "data": {
      "image/png": "[encoded data removed]",
      "text/plain": [
       "<Figure size 432x432 with 1 Axes>"
      ]
     },
     "metadata": {
      "needs_background": "light"
     },
     "output_type": "display_data"
    }
   ],
   "source": [
    "fig, ax = plt.subplots(1, 1, figsize=(6, 6))\n",
    "ax.plot(bin_centers, exc_soma_densities, c=\"lime\", label=\"exc\")\n",
    "ax.plot(bin_centers, inh_soma_densities, c=\"indigo\", label=\"inh\")\n",
    "ax.plot(bin_centers, avg_volumes * max(exc_soma_densities) / max(avg_volumes), label=f\"avg nuc volume ($\\mu m * {round(max(avg_volumes) / max(exc_soma_densities))}$)\")\n",
    "for t in p_type:\n",
    "    ax.plot(bin_centers, p_type[t] * 100_000)\n",
    "\n",
    "cells_to_plot = col_cells\n",
    "indices_to_plot = np.random.choice(cells_to_plot.index, 500)\n",
    "for cell in indices_to_plot:\n",
    "    if cells_to_plot.loc[cell].cell_type == \"23P\":\n",
    "        ax.axvline(cells_to_plot.loc[cell].pt_position[1] * y_resolution / 1_000_000, color=\"red\", alpha=0.1)\n",
    "\n",
    "    if cells_to_plot.loc[cell].cell_type == \"4P\":\n",
    "        ax.axvline(cells_to_plot.loc[cell].pt_position[1] * y_resolution / 1_000_000, color=\"y\", alpha=0.1)\n",
    "\n",
    "    if cells_to_plot.loc[cell].cell_type.startswith(\"5P\"):\n",
    "        ax.axvline(cells_to_plot.loc[cell].pt_position[1] * y_resolution / 1_000_000, color=\"orange\", alpha=0.1)\n",
    "\n",
    "    if cells_to_plot.loc[cell].cell_type in [\"6P\", \"6IT\", \"6CT\"]:\n",
    "        ax.axvline(cells_to_plot.loc[cell].pt_position[1] * y_resolution / 1_000_000, color=\"green\", alpha=0.1)\n",
    "\n",
    "    if cells_to_plot.loc[cell].cell_type.startswith(\"Unsure\"):\n",
    "        ax.axvline(cells_to_plot.loc[cell].pt_position[1] * y_resolution / 1_000_000, color=\"brown\", alpha=0.1)\n",
    "        \n",
    "for bound in bounds:\n",
    "    ax.axvline(bound, linestyle=\"--\", color=\"k\")\n",
    "ax.legend()\n",
    "plt.show()"
   ]
  },
  {
   "cell_type": "code",
   "execution_count": 128,
   "id": "bf026f16",
   "metadata": {},
   "outputs": [
    {
     "data": {
      "text/plain": [
       "array([  4000.,  18000.,  32000.,  74000., 118000., 172000., 192000.,\n",
       "       218000., 224000., 218000., 202000., 196000., 198000., 188000.,\n",
       "       192000., 194000., 194000., 196000., 176000., 188000., 192000.,\n",
       "       204000., 206000., 232000., 222000., 226000., 232000., 252000.,\n",
       "       260000., 248000., 256000., 256000., 216000., 200000., 178000.,\n",
       "       140000., 118000., 120000., 106000., 114000., 116000., 108000.,\n",
       "       106000.,  98000., 108000., 124000., 118000., 120000., 140000.,\n",
       "       144000., 138000., 166000., 178000., 180000., 188000., 192000.,\n",
       "       206000., 200000., 206000., 190000., 186000., 194000., 186000.,\n",
       "       188000., 170000., 168000., 128000., 112000.,  70000.,  60000.,\n",
       "        32000.,  12000.,   2000.])"
      ]
     },
     "execution_count": 128,
     "metadata": {},
     "output_type": "execute_result"
    }
   ],
   "source": [
    "exc_soma_densities"
   ]
  },
  {
   "cell_type": "code",
   "execution_count": 126,
   "id": "d7d53ebc",
   "metadata": {},
   "outputs": [
    {
     "data": {
      "text/plain": [
       "3009"
      ]
     },
     "execution_count": 126,
     "metadata": {},
     "output_type": "execute_result"
    }
   ],
   "source": [
    "sum(auto_cells.cell_type == \"BC\")"
   ]
  },
  {
   "cell_type": "code",
   "execution_count": 113,
   "id": "351fc5c6",
   "metadata": {},
   "outputs": [
    {
     "name": "stderr",
     "output_type": "stream",
     "text": [
      "No handles with labels found to put in legend.\n"
     ]
    },
    {
     "data": {
      "image/png": "[encoded data removed]",
      "text/plain": [
       "<Figure size 432x432 with 1 Axes>"
      ]
     },
     "metadata": {
      "needs_background": "light"
     },
     "output_type": "display_data"
    }
   ],
   "source": [
    "# todo fill with alpha = density\n",
    "fig, ax = plt.subplots(1, 1, figsize=(6, 6))\n",
    "for i in range(len(bin_centers)):\n",
    "        bin_start, bin_end = bin_centers[i] - step_size // 2, bin_centers[i] + step_size // 2\n",
    "        ax.fill_between([0, 1], [bin_start]*2, [bin_end]*2, alpha=exc_soma_densities[i] / max(exc_soma_densities), color=\"lime\", edgecolor=None)\n",
    "        ax.fill_between([1, 2], [bin_start]*2, [bin_end]*2, alpha=inh_soma_densities[i] / max(inh_soma_densities), color=\"indigo\", edgecolor=None)\n",
    "        ax.fill_between([2, 3], [bin_start]*2, [bin_end]*2, alpha=avg_volumes[i] / max(avg_volumes), color=\"orange\", edgecolor=None)\n",
    "    \n",
    "ax.invert_yaxis()\n",
    "ax.legend()\n",
    "plt.show()"
   ]
  },
  {
   "cell_type": "code",
   "execution_count": 15,
   "id": "f94e24a0",
   "metadata": {},
   "outputs": [
    {
     "data": {
      "text/plain": [
       "53552"
      ]
     },
     "execution_count": 15,
     "metadata": {},
     "output_type": "execute_result"
    }
   ],
   "source": []
  },
  {
   "cell_type": "markdown",
   "id": "12a91983",
   "metadata": {},
   "source": [
    "## Ideas:\n",
    "Use query_table(filter_spatial) to get synapse density too (and stratify by cell type)\n",
    "\n",
    "Use inhibitory cell subclass densities (do these use depth info? yes, so don't)\n",
    "\n",
    "Use *excitatory* soma features (they're much less noisy than inhibitory/combined features) and look for significant and steep changes in these features with depth by using the fft-smoothed version of each feature (as a function of depth) and then take its derivative (in fourier domain). The magnitude of the derivative of the smoothed function indicates how much of a transition zone it is according to that feature, and if we take the product of these derivative magnitudes we should see peaks at the layer borders."
   ]
  },
  {
   "cell_type": "code",
   "execution_count": 103,
   "id": "69f523bb",
   "metadata": {},
   "outputs": [
    {
     "data": {
      "text/plain": [
       "Index(['index', 'nucleus_area', 'nucleus_area_to_volume',\n",
       "       'nucleus_center_mass_nm', 'nucleus_fold_area', 'nucleus_fract_fold',\n",
       "       'nucleus_id', 'nucleus_volume', 'cleft_segid', 'size', 'centroid_x',\n",
       "       'centroid_y', 'centroid_z', 'yr_um_translated', 'predict',\n",
       "       'is_watertight', 'soma_center_mass', 'soma_volume', 'soma_area',\n",
       "       'soma_area_to_volume', 'num_processes', 'avg_sdf', 'orients', 'vectors',\n",
       "       'n_soma_syn', 'soma_syn_density', 'nuc_id', 'seg_id', 'soma_y',\n",
       "       'soma_x', 'soma_z', 'xr', 'yr', 'nucleus_to_soma', 'sum_proc_sdf',\n",
       "       'cell_type_pred_num', 'cell_type_pred', 'umapx', 'umapy', 'visible',\n",
       "       'outline_color', 'outline_width', 'max_sdf'],\n",
       "      dtype='object')"
      ]
     },
     "execution_count": 103,
     "metadata": {},
     "output_type": "execute_result"
    }
   ],
   "source": [
    "soma_features.columns"
   ]
  },
  {
   "cell_type": "code",
   "execution_count": 110,
   "id": "0315b76b",
   "metadata": {},
   "outputs": [],
   "source": []
  },
  {
   "cell_type": "code",
   "execution_count": null,
   "id": "cb3442b1",
   "metadata": {},
   "outputs": [],
   "source": []
  }
 ],
 "metadata": {
  "kernelspec": {
   "display_name": "python37-env",
   "language": "python",
   "name": "python37-env"
  },
  "language_info": {
   "codemirror_mode": {
    "name": "ipython",
    "version": 3
   },
   "file_extension": ".py",
   "mimetype": "text/x-python",
   "name": "python",
   "nbconvert_exporter": "python",
   "pygments_lexer": "ipython3",
   "version": "3.7.0"
  }
 },
 "nbformat": 4,
 "nbformat_minor": 5
}
